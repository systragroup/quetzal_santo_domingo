{
 "cells": [
  {
   "cell_type": "code",
   "execution_count": 7,
   "metadata": {},
   "outputs": [],
   "source": [
    "import pandas as pd\n",
    "import geopandas as gpd\n",
    "import sys\n",
    "sys.path.insert(0, r'../../../quetzal')\n",
    "from quetzal.model import stepmodel, model"
   ]
  },
  {
   "cell_type": "code",
   "execution_count": 8,
   "metadata": {
    "scrolled": true
   },
   "outputs": [
    {
     "name": "stderr",
     "output_type": "stream",
     "text": [
      "nodes: 100%|█████████████████████████████████████████████████████████████████████████████| 3/3 [00:00<00:00, 28.17it/s]\n",
      "nodes: 100%|█████████████████████████████████████████████████████████████████████████████| 3/3 [00:00<00:00,  3.54it/s]\n"
     ]
    }
   ],
   "source": [
    "training_folder = '../../'\n",
    "gtfs = stepmodel.read_zip(training_folder + r'model/preparation/gtfs_networkcasted.zip')\n",
    "gis = stepmodel.read_zip(training_folder + r'model/preparation/lines_networkcasted.zip')"
   ]
  },
  {
   "cell_type": "code",
   "execution_count": 9,
   "metadata": {},
   "outputs": [],
   "source": [
    "gis.links = gis.links.loc[~gis.links['route_type'].isin([1, 'subway'])]"
   ]
  },
  {
   "cell_type": "code",
   "execution_count": 10,
   "metadata": {},
   "outputs": [],
   "source": [
    "merged = gtfs.merge(right=gis, clear=False)"
   ]
  },
  {
   "cell_type": "code",
   "execution_count": 11,
   "metadata": {},
   "outputs": [
    {
     "data": {
      "text/html": [
       "<div>\n",
       "<style scoped>\n",
       "    .dataframe tbody tr th:only-of-type {\n",
       "        vertical-align: middle;\n",
       "    }\n",
       "\n",
       "    .dataframe tbody tr th {\n",
       "        vertical-align: top;\n",
       "    }\n",
       "\n",
       "    .dataframe thead th {\n",
       "        text-align: right;\n",
       "    }\n",
       "</style>\n",
       "<table border=\"1\" class=\"dataframe\">\n",
       "  <thead>\n",
       "    <tr style=\"text-align: right;\">\n",
       "      <th></th>\n",
       "      <th>a</th>\n",
       "      <th>trip_id</th>\n",
       "      <th>link_sequence</th>\n",
       "      <th>b</th>\n",
       "      <th>route_id</th>\n",
       "      <th>direction_id</th>\n",
       "      <th>route_type</th>\n",
       "      <th>route_color</th>\n",
       "      <th>road_a</th>\n",
       "      <th>road_b</th>\n",
       "      <th>road_node_list</th>\n",
       "      <th>road_link_list</th>\n",
       "      <th>road_length</th>\n",
       "      <th>geometry</th>\n",
       "    </tr>\n",
       "    <tr>\n",
       "      <th>index</th>\n",
       "      <th></th>\n",
       "      <th></th>\n",
       "      <th></th>\n",
       "      <th></th>\n",
       "      <th></th>\n",
       "      <th></th>\n",
       "      <th></th>\n",
       "      <th></th>\n",
       "      <th></th>\n",
       "      <th></th>\n",
       "      <th></th>\n",
       "      <th></th>\n",
       "      <th></th>\n",
       "      <th></th>\n",
       "    </tr>\n",
       "  </thead>\n",
       "  <tbody>\n",
       "    <tr>\n",
       "      <th>link_243</th>\n",
       "      <td>243</td>\n",
       "      <td>victoria_2</td>\n",
       "      <td>1</td>\n",
       "      <td>188</td>\n",
       "      <td>victoria</td>\n",
       "      <td>1</td>\n",
       "      <td>bus</td>\n",
       "      <td>eb7c05</td>\n",
       "      <td>osm_node_1867177372</td>\n",
       "      <td>osm_node_6363589394</td>\n",
       "      <td>[osm_node_1867177372, osm_node_3927829344, osm...</td>\n",
       "      <td>[230817, 230808, 245676]</td>\n",
       "      <td>930.847</td>\n",
       "      <td>LINESTRING (407803.530 2055313.046, 407785.106...</td>\n",
       "    </tr>\n",
       "  </tbody>\n",
       "</table>\n",
       "</div>"
      ],
      "text/plain": [
       "            a     trip_id  link_sequence    b  route_id  direction_id  \\\n",
       "index                                                                   \n",
       "link_243  243  victoria_2              1  188  victoria             1   \n",
       "\n",
       "         route_type route_color               road_a               road_b  \\\n",
       "index                                                                       \n",
       "link_243        bus      eb7c05  osm_node_1867177372  osm_node_6363589394   \n",
       "\n",
       "                                             road_node_list  \\\n",
       "index                                                         \n",
       "link_243  [osm_node_1867177372, osm_node_3927829344, osm...   \n",
       "\n",
       "                    road_link_list  road_length  \\\n",
       "index                                             \n",
       "link_243  [230817, 230808, 245676]      930.847   \n",
       "\n",
       "                                                   geometry  \n",
       "index                                                        \n",
       "link_243  LINESTRING (407803.530 2055313.046, 407785.106...  "
      ]
     },
     "execution_count": 11,
     "metadata": {},
     "output_type": "execute_result"
    }
   ],
   "source": [
    "merged.links.head(1)"
   ]
  },
  {
   "cell_type": "code",
   "execution_count": 12,
   "metadata": {},
   "outputs": [
    {
     "name": "stdout",
     "output_type": "stream",
     "text": [
      "can not add prefixes on table:  footpaths\n"
     ]
    }
   ],
   "source": [
    "merged.integrity_fix_collision()"
   ]
  },
  {
   "cell_type": "code",
   "execution_count": 15,
   "metadata": {
    "scrolled": true
   },
   "outputs": [],
   "source": [
    "merged.integrity_test_collision(sets={'links', 'nodes', 'zones'})"
   ]
  },
  {
   "cell_type": "code",
   "execution_count": 16,
   "metadata": {},
   "outputs": [
    {
     "data": {
      "text/html": [
       "<div>\n",
       "<style scoped>\n",
       "    .dataframe tbody tr th:only-of-type {\n",
       "        vertical-align: middle;\n",
       "    }\n",
       "\n",
       "    .dataframe tbody tr th {\n",
       "        vertical-align: top;\n",
       "    }\n",
       "\n",
       "    .dataframe thead th {\n",
       "        text-align: right;\n",
       "    }\n",
       "</style>\n",
       "<table border=\"1\" class=\"dataframe\">\n",
       "  <thead>\n",
       "    <tr style=\"text-align: right;\">\n",
       "      <th></th>\n",
       "      <th>geometry</th>\n",
       "    </tr>\n",
       "  </thead>\n",
       "  <tbody>\n",
       "    <tr>\n",
       "      <th>0</th>\n",
       "      <td>LINESTRING (0.00000 0.00000, 0.00000 0.00000)</td>\n",
       "    </tr>\n",
       "  </tbody>\n",
       "</table>\n",
       "</div>"
      ],
      "text/plain": [
       "                                        geometry\n",
       "0  LINESTRING (0.00000 0.00000, 0.00000 0.00000)"
      ]
     },
     "execution_count": 16,
     "metadata": {},
     "output_type": "execute_result"
    }
   ],
   "source": [
    "merged.road_links"
   ]
  },
  {
   "cell_type": "code",
   "execution_count": 19,
   "metadata": {},
   "outputs": [
    {
     "name": "stderr",
     "output_type": "stream",
     "text": [
      "jsons: 100%|███████████████████████████████████████████████████████████████████████████| 27/27 [00:00<00:00, 30.10it/s]\n"
     ]
    }
   ],
   "source": [
    "merged.to_zip(training_folder + r'model/preparation/networkcasted.zip')"
   ]
  },
  {
   "cell_type": "code",
   "execution_count": null,
   "metadata": {},
   "outputs": [],
   "source": []
  }
 ],
 "metadata": {
  "kernelspec": {
   "display_name": "Python [conda env:quetzal_env]",
   "language": "python",
   "name": "conda-env-quetzal_env-py"
  },
  "language_info": {
   "codemirror_mode": {
    "name": "ipython",
    "version": 3
   },
   "file_extension": ".py",
   "mimetype": "text/x-python",
   "name": "python",
   "nbconvert_exporter": "python",
   "pygments_lexer": "ipython3",
   "version": "3.7.5"
  }
 },
 "nbformat": 4,
 "nbformat_minor": 2
}
