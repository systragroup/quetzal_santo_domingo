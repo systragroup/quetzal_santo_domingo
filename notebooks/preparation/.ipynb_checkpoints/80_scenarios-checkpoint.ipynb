{
 "cells": [
  {
   "cell_type": "code",
   "execution_count": 1,
   "metadata": {
    "scrolled": true
   },
   "outputs": [
    {
     "name": "stderr",
     "output_type": "stream",
     "text": [
      "C:\\Users\\qchasserieau\\AppData\\Roaming\\Python\\Python37\\site-packages\\pyproj\\crs\\crs.py:280: FutureWarning: '+init=<authority>:<code>' syntax is deprecated. '<authority>:<code>' is the preferred initialization method. When making the change, be mindful of axis order changes: https://pyproj4.github.io/pyproj/stable/gotchas.html#axis-order-changes-in-proj-6\n",
      "  projstring = _prepare_from_string(projparams)\n"
     ]
    },
    {
     "name": "stdout",
     "output_type": "stream",
     "text": [
      "SQLalchemy is not installed. No support for SQL output.\n"
     ]
    },
    {
     "name": "stderr",
     "output_type": "stream",
     "text": [
      "zones: 100%|███████████████████████████████████████████████████████████████████████████| 27/27 [00:00<00:00, 28.11it/s]\n"
     ]
    }
   ],
   "source": [
    "import pandas as pd\n",
    "import sys\n",
    "sys.path.insert(0, r'../../../quetzal')\n",
    "\n",
    "from quetzal.model import stepmodel\n",
    "\n",
    "quetzal_path = r'../../model/'\n",
    "input_path = r'../../inputs/'\n",
    "\n",
    "sm = stepmodel.read_zip(quetzal_path + 'preparation/networkcasted.zip')\n",
    "pool = sm.copy()"
   ]
  },
  {
   "cell_type": "markdown",
   "metadata": {},
   "source": [
    "# colors"
   ]
  },
  {
   "cell_type": "code",
   "execution_count": 2,
   "metadata": {},
   "outputs": [],
   "source": [
    "rainbow_shades = [\"#D22328\", \"#559BB4\", \"#91A564\", \"#DC9100\", \"#8C4B7D\", \"#A08C69\",\n",
    "                  \"#647D6E\", \"#5A7382\", \"#64411E\", \"#A00037\", \"#643C5A\"]\n",
    "\n",
    "#sm.links['trip_id'] = sm.links['dir_line']\n",
    "sm.analysis_lines()\n",
    "sm.lines['line_color'] = list(rainbow_shades[:5]*10000)[: len(sm.lines)]\n",
    "d = sm.lines.set_index('route_id')['line_color'].to_dict()\n",
    "sm.links['line_color'] = sm.links['route_id'].apply(\n",
    "    lambda x: d[x] if x in d.keys() else \"#D22328\"\n",
    ")"
   ]
  },
  {
   "cell_type": "code",
   "execution_count": 3,
   "metadata": {},
   "outputs": [],
   "source": [
    "parameter_frame = pd.read_csv(input_path + 'parameters.csv', sep=';', decimal=',').set_index(['category','parameter'])"
   ]
  },
  {
   "cell_type": "markdown",
   "metadata": {},
   "source": [
    "# parameters"
   ]
  },
  {
   "cell_type": "code",
   "execution_count": 4,
   "metadata": {},
   "outputs": [],
   "source": [
    "parameter_frame = pd.read_csv(input_path + 'parameters.csv', sep=';', decimal=',').set_index(['category','parameter'])\n",
    "\n",
    "for c in parameter_frame.columns:\n",
    "    parent = parameter_frame[c][('general', 'parent')]\n",
    "    try:\n",
    "        parent = parent.iloc[0]\n",
    "    except AttributeError:# 'str' object has no attribute 'iloc'\n",
    "        pass\n",
    "    parameter_frame[c] = parameter_frame[c].fillna(parameter_frame[parent])"
   ]
  },
  {
   "cell_type": "code",
   "execution_count": 10,
   "metadata": {},
   "outputs": [
    {
     "name": "stderr",
     "output_type": "stream",
     "text": [
      "links: 100%|██████████████████████████████████████████████████████████████████████████| 27/27 [00:00<00:00, 692.22it/s]"
     ]
    },
    {
     "name": "stdout",
     "output_type": "stream",
     "text": [
      "routes that belong to gtfs and not to parameters (will not be used):\n",
      "{'Tele Oeste LA', 'Tele Oeste SDO', 'sitp_tiradentes', 'Tramo Alcarrizos L2', 'quentin', 'intrant', 'tramo SDO L2'}\n"
     ]
    },
    {
     "name": "stderr",
     "output_type": "stream",
     "text": [
      "\n"
     ]
    }
   ],
   "source": [
    "gtfs = stepmodel.read_zip(r'../../model/preparation/gtfs.zip', only_attributes=['links', 'jsons'])\n",
    "networkcasted_routes = set(gtfs.links['route_id'])\n",
    "parameter_routes = set(parameter_frame.loc['route_type'].index)\n",
    "drop_routes = networkcasted_routes - parameter_routes\n",
    "if len(drop_routes):\n",
    "    print('routes that belong to gtfs and not to parameters (will not be used):')\n",
    "    print(drop_routes)\n",
    "pool.links = pool.links.loc[~pool.links['route_id'].isin(drop_routes)]"
   ]
  },
  {
   "cell_type": "code",
   "execution_count": 11,
   "metadata": {},
   "outputs": [
    {
     "name": "stdout",
     "output_type": "stream",
     "text": [
      "{'AB_A-B_1', 'AB_A20B_1', 'AB_A20A_2', 'AB_A31_2', 'AB_A69_1', 'sitp_churchill', 'AB_A-B_2', 'AB_A69_2', 'sitp_tiradentes', 'sitp_venezuela', 'sitp_lincoln', 'sitp_defillo', 'victoria', 'AB_A11_2', 'AB_A20A_1', 'AB_A31_1', 'sitp_cdg_oeste', 'sitp_sabana_larga', 'sitp_josefa', 'AB_A20B_2', 'sanfelipe', '27_febrero', 'sitp_prolongacion_27', 'sitp_cdg_este', 'AB_A11_1', 'independencia', 'sitp_nunez', 'sitp_ortega'}\n"
     ]
    }
   ],
   "source": [
    "links = sm.links\n",
    "print(set(links.loc[links['route_type'] == 'bus']['route_id']))"
   ]
  },
  {
   "cell_type": "code",
   "execution_count": 12,
   "metadata": {},
   "outputs": [],
   "source": [
    "def dump_links(scenario):\n",
    "    sm = pool.copy()\n",
    "    var = parameter_frame[scenario]\n",
    "    sm.links.loc[sm.links['route_id'].isin(var['route_type'].index), 'route_type'] = 'none'\n",
    "\n",
    "    for route_id, route_type in var['route_type'].to_dict().items():\n",
    "        sm.links.loc[sm.links['route_id'] == route_id,  'route_type'] = route_type\n",
    "        \n",
    "    sm.links = sm.links.loc[sm.links['route_type'] != 'none']\n",
    "\n",
    "    for route_type, headway in var['headway'].astype(int).to_dict().items():\n",
    "        sm.links.loc[sm.links['route_type'] == route_type,  'headway'] = headway\n",
    "\n",
    "    for route_type, value in var['speed'].astype(float).to_dict().items():\n",
    "        sm.links.loc[sm.links['route_type'] == route_type,  'speed'] = value\n",
    "        \n",
    "    sm.links.dropna(subset=['route_type'], inplace=True)\n",
    "        \n",
    "    sm.to_zip(\n",
    "        quetzal_path + '%s/links.zip' % scenario,\n",
    "        only_attributes = ['links', 'epsg', 'coordinates_unit']\n",
    "    )"
   ]
  },
  {
   "cell_type": "code",
   "execution_count": 13,
   "metadata": {},
   "outputs": [
    {
     "name": "stderr",
     "output_type": "stream",
     "text": [
      "jsons: 100%|█████████████████████████████████████████████████████████████████████████████| 2/2 [00:00<00:00,  8.27it/s]\n",
      "jsons: 100%|█████████████████████████████████████████████████████████████████████████████| 2/2 [00:00<00:00,  7.87it/s]\n"
     ]
    }
   ],
   "source": [
    "import os\n",
    "sm = pool.copy()\n",
    "for scenario in parameter_frame.columns:\n",
    "    #print(scenario)\n",
    "    try:\n",
    "        os.mkdir(quetzal_path + scenario)\n",
    "    except FileExistsError:\n",
    "        pass\n",
    "    dump_links(scenario)"
   ]
  }
 ],
 "metadata": {
  "kernelspec": {
   "display_name": "Python [conda env:quetzal_env]",
   "language": "python",
   "name": "conda-env-quetzal_env-py"
  },
  "language_info": {
   "codemirror_mode": {
    "name": "ipython",
    "version": 3
   },
   "file_extension": ".py",
   "mimetype": "text/x-python",
   "name": "python",
   "nbconvert_exporter": "python",
   "pygments_lexer": "ipython3",
   "version": "3.7.5"
  }
 },
 "nbformat": 4,
 "nbformat_minor": 2
}
