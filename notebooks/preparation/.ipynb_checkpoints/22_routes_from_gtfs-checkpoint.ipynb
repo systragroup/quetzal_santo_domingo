{
 "cells": [
  {
   "cell_type": "code",
   "execution_count": 23,
   "metadata": {},
   "outputs": [],
   "source": [
    "import sys\n",
    "sys.path.insert(0, r'../../../quetzal')\n",
    "\n",
    "from quetzal.io.gtfs_reader import  gtfs_importer\n",
    "from quetzal.model import stepmodel\n",
    "\n",
    "import geopandas as gpd\n",
    "\n",
    "%matplotlib inline\n",
    "import matplotlib.pyplot as plt\n",
    "plt.rcParams['figure.figsize'] = [16, 9]"
   ]
  },
  {
   "cell_type": "code",
   "execution_count": 24,
   "metadata": {},
   "outputs": [],
   "source": [
    "work_path = r'../../../'\n",
    "input_folder= work_path + r'quetzal_santo_domingo/inputs/'\n",
    "gtfs_zip = input_folder + 'gtfs-Santo_Domingo-base.zip'\n",
    "gtfs_folder = input_folder + r'/input_gtfs/'"
   ]
  },
  {
   "cell_type": "code",
   "execution_count": 25,
   "metadata": {},
   "outputs": [],
   "source": [
    "import shutil\n",
    "import os\n",
    "\n",
    "try:\n",
    "    shutil.rmtree(gtfs_folder)\n",
    "except FileNotFoundError:\n",
    "    pass\n",
    "os.mkdir(gtfs_folder)\n",
    "shutil.unpack_archive(gtfs_zip, gtfs_folder)"
   ]
  },
  {
   "cell_type": "code",
   "execution_count": 26,
   "metadata": {},
   "outputs": [],
   "source": [
    "importer = gtfs_importer.BaseGtfsImporter(gtfs_folder)\n",
    "importer.read()"
   ]
  },
  {
   "cell_type": "code",
   "execution_count": 27,
   "metadata": {},
   "outputs": [],
   "source": [
    "d = importer.stop_times.groupby(['trip_id']).first()['stop_id']\n",
    "importer.trips['direction_id'] = importer.trips['trip_id'].apply(lambda i: d[i])"
   ]
  },
  {
   "cell_type": "code",
   "execution_count": 28,
   "metadata": {
    "scrolled": true
   },
   "outputs": [
    {
     "data": {
      "text/html": [
       "<div>\n",
       "<style scoped>\n",
       "    .dataframe tbody tr th:only-of-type {\n",
       "        vertical-align: middle;\n",
       "    }\n",
       "\n",
       "    .dataframe tbody tr th {\n",
       "        vertical-align: top;\n",
       "    }\n",
       "\n",
       "    .dataframe thead th {\n",
       "        text-align: right;\n",
       "    }\n",
       "</style>\n",
       "<table border=\"1\" class=\"dataframe\">\n",
       "  <thead>\n",
       "    <tr style=\"text-align: right;\">\n",
       "      <th></th>\n",
       "      <th>stop_sequence</th>\n",
       "      <th>stop_headsign</th>\n",
       "      <th>pickup_type</th>\n",
       "      <th>drop_off_type</th>\n",
       "      <th>shape_dist_traveled</th>\n",
       "      <th>timepoint</th>\n",
       "      <th>stop_id</th>\n",
       "      <th>trip_id</th>\n",
       "      <th>arrival_time</th>\n",
       "      <th>departure_time</th>\n",
       "    </tr>\n",
       "  </thead>\n",
       "  <tbody>\n",
       "    <tr>\n",
       "      <th>0</th>\n",
       "      <td>0</td>\n",
       "      <td>NaN</td>\n",
       "      <td>NaN</td>\n",
       "      <td>NaN</td>\n",
       "      <td>0.0</td>\n",
       "      <td>NaN</td>\n",
       "      <td>564147</td>\n",
       "      <td>first trip_27</td>\n",
       "      <td>0:00:00</td>\n",
       "      <td>0:00:30</td>\n",
       "    </tr>\n",
       "  </tbody>\n",
       "</table>\n",
       "</div>"
      ],
      "text/plain": [
       "   stop_sequence  stop_headsign  pickup_type  drop_off_type  \\\n",
       "0              0            NaN          NaN            NaN   \n",
       "\n",
       "   shape_dist_traveled  timepoint stop_id        trip_id arrival_time  \\\n",
       "0                  0.0        NaN  564147  first trip_27      0:00:00   \n",
       "\n",
       "  departure_time  \n",
       "0        0:00:30  "
      ]
     },
     "execution_count": 28,
     "metadata": {},
     "output_type": "execute_result"
    }
   ],
   "source": [
    "importer.stop_times.head(1)"
   ]
  },
  {
   "cell_type": "code",
   "execution_count": 44,
   "metadata": {
    "scrolled": true
   },
   "outputs": [
    {
     "name": "stdout",
     "output_type": "stream",
     "text": [
      "{'m1', 'm2_este', 'sitp_prolongacion_27', 'tramo SDO L2', 'sanfelipe', 'ecologico', 'victoria', 'm3', 'tele_alcarrizos', 'tele_este', 'm2', 'sitp_duarte', '27_febrero', 'sitp_cdg_oeste', 'Tele Oeste LA', 'sitp_tiradentes', 'monumental', 'luperon', 'sitp_josefa', 'Tele Oeste SDO', 'tele_norte', 'sitp_lincoln', 'pantoja', 'sitp_cdg_este', 'sitp_defillo', 'm2_oeste', 'sitp_churchill', 'tele_oeste', 'independencia', 'herrera', 'm2_completo', 'tram_oeste', 'intrant', 'mella', 'sitp_nunez', 'sitp_sabana_larga', 'tram_este', 'sitp_venezuela', 'Tramo Alcarrizos L2', '27_febrero_oeste', 'sitp_marzo', 'sitp_ortega', 'quentin'}\n"
     ]
    }
   ],
   "source": [
    "print(set(importer.routes['route_short_name']))"
   ]
  },
  {
   "cell_type": "code",
   "execution_count": 30,
   "metadata": {
    "scrolled": true
   },
   "outputs": [],
   "source": [
    "importer.routes.sort_values('route_type')[['route_short_name', 'route_type']].to_csv(input_folder + 'test.csv', sep=';')"
   ]
  },
  {
   "cell_type": "code",
   "execution_count": 31,
   "metadata": {},
   "outputs": [
    {
     "name": "stdout",
     "output_type": "stream",
     "text": [
      "stop_times ['stop_id', 'trip_id'] converted to string\n",
      "trips ['route_id', 'trip_id'] converted to string\n",
      "routes ['route_id'] converted to string\n",
      "stops ['stop_id'] converted to string\n"
     ]
    }
   ],
   "source": [
    "importer.cast_columns_to_string(columns=['trip_id', 'route_id', 'stop_id'])"
   ]
  },
  {
   "cell_type": "markdown",
   "metadata": {},
   "source": [
    "# renumber"
   ]
  },
  {
   "cell_type": "code",
   "execution_count": 32,
   "metadata": {},
   "outputs": [],
   "source": [
    "start_from = 1000000\n",
    "proto = importer.stops.sort_values('stop_id').reset_index(drop=True)\n",
    "proto.index = proto.index + start_from\n",
    "r_dict = proto.reset_index().set_index(['stop_id'])['index'].to_dict()\n",
    "importer.stops['stop_id'] =importer.stops['stop_id'].apply(lambda i: r_dict[i]) \n",
    "importer.stop_times['stop_id'] =importer.stop_times['stop_id'].apply(lambda i: r_dict[i]) "
   ]
  },
  {
   "cell_type": "markdown",
   "metadata": {},
   "source": [
    "# build links and nodes"
   ]
  },
  {
   "cell_type": "code",
   "execution_count": 33,
   "metadata": {},
   "outputs": [
    {
     "data": {
      "text/html": [
       "<div>\n",
       "<style scoped>\n",
       "    .dataframe tbody tr th:only-of-type {\n",
       "        vertical-align: middle;\n",
       "    }\n",
       "\n",
       "    .dataframe tbody tr th {\n",
       "        vertical-align: top;\n",
       "    }\n",
       "\n",
       "    .dataframe thead th {\n",
       "        text-align: right;\n",
       "    }\n",
       "</style>\n",
       "<table border=\"1\" class=\"dataframe\">\n",
       "  <thead>\n",
       "    <tr style=\"text-align: right;\">\n",
       "      <th></th>\n",
       "      <th>index</th>\n",
       "      <th>a</th>\n",
       "      <th>trip_id</th>\n",
       "      <th>link_sequence</th>\n",
       "      <th>departure_time</th>\n",
       "      <th>b</th>\n",
       "      <th>arrival_time</th>\n",
       "      <th>time</th>\n",
       "      <th>route_id</th>\n",
       "      <th>direction_id</th>\n",
       "      <th>...</th>\n",
       "      <th>service_id</th>\n",
       "      <th>route_long_name</th>\n",
       "      <th>route_short_name</th>\n",
       "      <th>route_desc</th>\n",
       "      <th>route_type</th>\n",
       "      <th>route_url</th>\n",
       "      <th>route_color</th>\n",
       "      <th>route_text_color</th>\n",
       "      <th>agency_id</th>\n",
       "      <th>geometry</th>\n",
       "    </tr>\n",
       "  </thead>\n",
       "  <tbody>\n",
       "    <tr>\n",
       "      <th>0</th>\n",
       "      <td>0</td>\n",
       "      <td>1000063</td>\n",
       "      <td>first trip_27</td>\n",
       "      <td>0</td>\n",
       "      <td>30.0</td>\n",
       "      <td>1000182</td>\n",
       "      <td>196.0</td>\n",
       "      <td>166.0</td>\n",
       "      <td>17351</td>\n",
       "      <td>564147</td>\n",
       "      <td>...</td>\n",
       "      <td>Martes</td>\n",
       "      <td>27_febrero</td>\n",
       "      <td>27_febrero</td>\n",
       "      <td>NaN</td>\n",
       "      <td>3</td>\n",
       "      <td>NaN</td>\n",
       "      <td>3f6d51</td>\n",
       "      <td>NaN</td>\n",
       "      <td>NaN</td>\n",
       "      <td>LINESTRING (-69.848974 18.485057, -69.85553900...</td>\n",
       "    </tr>\n",
       "  </tbody>\n",
       "</table>\n",
       "<p>1 rows × 26 columns</p>\n",
       "</div>"
      ],
      "text/plain": [
       "   index        a        trip_id  link_sequence  departure_time        b  \\\n",
       "0      0  1000063  first trip_27              0            30.0  1000182   \n",
       "\n",
       "   arrival_time   time route_id direction_id  ... service_id route_long_name  \\\n",
       "0         196.0  166.0    17351       564147  ...     Martes      27_febrero   \n",
       "\n",
       "  route_short_name  route_desc  route_type  route_url route_color  \\\n",
       "0       27_febrero         NaN           3        NaN      3f6d51   \n",
       "\n",
       "  route_text_color agency_id  \\\n",
       "0              NaN       NaN   \n",
       "\n",
       "                                            geometry  \n",
       "0  LINESTRING (-69.848974 18.485057, -69.85553900...  \n",
       "\n",
       "[1 rows x 26 columns]"
      ]
     },
     "execution_count": 33,
     "metadata": {},
     "output_type": "execute_result"
    }
   ],
   "source": [
    "importer.build()\n",
    "importer.links.head(1)"
   ]
  },
  {
   "cell_type": "markdown",
   "metadata": {},
   "source": [
    "# rename route types"
   ]
  },
  {
   "cell_type": "code",
   "execution_count": 34,
   "metadata": {},
   "outputs": [],
   "source": [
    "importer.links['route_type'] = importer.links['route_type'].apply(\n",
    "    lambda t: {\n",
    "        0:'tram',\n",
    "        1:'subway',\n",
    "        2:'rail',\n",
    "        3:'bus',\n",
    "        4:'ferry',\n",
    "        5:'cable_car',\n",
    "        6:'gondola',\n",
    "        7:'funicular',\n",
    "        702: 'express_bus'\n",
    "    }[t]\n",
    ")"
   ]
  },
  {
   "cell_type": "markdown",
   "metadata": {},
   "source": [
    "# export "
   ]
  },
  {
   "cell_type": "code",
   "execution_count": 35,
   "metadata": {},
   "outputs": [],
   "source": [
    "sm = stepmodel.StepModel()\n",
    "sm.links = importer.links\n",
    "sm.nodes = importer.stops.set_index('stop_id')[['geometry']]"
   ]
  },
  {
   "cell_type": "code",
   "execution_count": 36,
   "metadata": {},
   "outputs": [],
   "source": [
    "sm.nodes['stop_id'] = sm.nodes.index"
   ]
  },
  {
   "cell_type": "code",
   "execution_count": 37,
   "metadata": {},
   "outputs": [
    {
     "data": {
      "text/plain": [
       "<AxesSubplot:>"
      ]
     },
     "execution_count": 37,
     "metadata": {},
     "output_type": "execute_result"
    },
    {
     "data": {
      "image/png": "[encoded data removed]",
      "text/plain": [
       "<Figure size 1152x648 with 1 Axes>"
      ]
     },
     "metadata": {
      "needs_background": "light"
     },
     "output_type": "display_data"
    }
   ],
   "source": [
    "plot = gpd.GeoDataFrame(sm.links).plot(linewidth=0.2)\n",
    "gpd.GeoDataFrame(sm.nodes).plot(ax=plot, color='green', markersize=0.1)"
   ]
  },
  {
   "cell_type": "code",
   "execution_count": 38,
   "metadata": {},
   "outputs": [
    {
     "name": "stderr",
     "output_type": "stream",
     "text": [
      "to_hdf(overwriting): 100%|█████████████████████████████████████████████████████████████| 32/32 [00:00<00:00, 43.67it/s]\n"
     ]
    },
    {
     "name": "stdout",
     "output_type": "stream",
     "text": [
      "could not save geometry from table fare_rules\n",
      "could not save geometry from table fare_attributes\n",
      "could not save geometry from table mode_nests\n",
      "could not save geometry from table logit_scales\n",
      "could not save geometry from table utility_values\n"
     ]
    }
   ],
   "source": [
    "sm.to_json(input_folder + 'gtfs')"
   ]
  },
  {
   "cell_type": "code",
   "execution_count": 39,
   "metadata": {},
   "outputs": [
    {
     "name": "stderr",
     "output_type": "stream",
     "text": [
      "to_hdf(overwriting): 100%|█████████████████████████████████████████████████████████████| 32/32 [00:00<00:00, 66.92it/s]\n"
     ]
    }
   ],
   "source": [
    "sm.to_json(input_folder + 'gtfs', only_attributes=['links', 'nodes'])"
   ]
  },
  {
   "cell_type": "code",
   "execution_count": 46,
   "metadata": {},
   "outputs": [
    {
     "name": "stderr",
     "output_type": "stream",
     "text": [
      "jsons: 100%|███████████████████████████████████████████████████████████████████████████| 27/27 [00:00<00:00, 69.03it/s]\n"
     ]
    }
   ],
   "source": [
    "training_folder = '../../'\n",
    "sm.links['route_id'] = sm.links['route_short_name']\n",
    "sm.to_zip(training_folder + 'model/preparation/gtfs.zip')"
   ]
  },
  {
   "cell_type": "code",
   "execution_count": 42,
   "metadata": {},
   "outputs": [
    {
     "data": {
      "text/plain": [
       "{'intrant', 'm1', 'm2', 'm2_completo', 'm2_este', 'm2_oeste', 'm3', 'quentin'}"
      ]
     },
     "execution_count": 42,
     "metadata": {},
     "output_type": "execute_result"
    }
   ],
   "source": [
    "set(sm.links.loc[sm.links['route_type'] == 'subway']['route_id'])"
   ]
  },
  {
   "cell_type": "code",
   "execution_count": 43,
   "metadata": {},
   "outputs": [
    {
     "data": {
      "text/plain": [
       "{'27_febrero',\n",
       " 'independencia',\n",
       " 'sanfelipe',\n",
       " 'sitp_cdg_este',\n",
       " 'sitp_cdg_oeste',\n",
       " 'sitp_churchill',\n",
       " 'sitp_defillo',\n",
       " 'sitp_josefa',\n",
       " 'sitp_lincoln',\n",
       " 'sitp_nunez',\n",
       " 'sitp_ortega',\n",
       " 'sitp_prolongacion_27',\n",
       " 'sitp_sabana_larga',\n",
       " 'sitp_tiradentes',\n",
       " 'sitp_venezuela',\n",
       " 'victoria'}"
      ]
     },
     "execution_count": 43,
     "metadata": {},
     "output_type": "execute_result"
    }
   ],
   "source": [
    "set(sm.links.loc[sm.links['route_type'] == 'bus']['route_id'])"
   ]
  }
 ],
 "metadata": {
  "anaconda-cloud": {},
  "kernelspec": {
   "display_name": "Python [conda env:anaconda3-quetzal_env]",
   "language": "python",
   "name": "conda-env-anaconda3-quetzal_env-py"
  },
  "language_info": {
   "codemirror_mode": {
    "name": "ipython",
    "version": 3
   },
   "file_extension": ".py",
   "mimetype": "text/x-python",
   "name": "python",
   "nbconvert_exporter": "python",
   "pygments_lexer": "ipython3",
   "version": "3.7.5"
  }
 },
 "nbformat": 4,
 "nbformat_minor": 2
}
