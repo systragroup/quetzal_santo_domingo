{
 "cells": [
  {
   "cell_type": "code",
   "execution_count": 1,
   "metadata": {
    "scrolled": true
   },
   "outputs": [],
   "source": [
    "import pandas as pd\n",
    "import geopandas as gpd\n",
    "from shapely import ops, geometry"
   ]
  },
  {
   "cell_type": "code",
   "execution_count": 2,
   "metadata": {
    "collapsed": true
   },
   "outputs": [],
   "source": [
    "shapes = pd.read_csv(r'gtfs/shapes.txt')"
   ]
  },
  {
   "cell_type": "code",
   "execution_count": 3,
   "metadata": {
    "collapsed": true
   },
   "outputs": [],
   "source": [
    "shapes['geometry'] = shapes.apply(lambda x: geometry.Point(x['shape_pt_lon'], x['shape_pt_lat']), 1)"
   ]
  },
  {
   "cell_type": "code",
   "execution_count": 4,
   "metadata": {},
   "outputs": [
    {
     "data": {
      "text/html": [
       "<div>\n",
       "<table border=\"1\" class=\"dataframe\">\n",
       "  <thead>\n",
       "    <tr style=\"text-align: right;\">\n",
       "      <th></th>\n",
       "      <th>shape_id</th>\n",
       "      <th>shape_pt_lat</th>\n",
       "      <th>shape_pt_lon</th>\n",
       "      <th>shape_pt_sequence</th>\n",
       "      <th>shape_dist_traveled</th>\n",
       "      <th>geometry</th>\n",
       "    </tr>\n",
       "  </thead>\n",
       "  <tbody>\n",
       "    <tr>\n",
       "      <th>0</th>\n",
       "      <td>54078</td>\n",
       "      <td>45.85642</td>\n",
       "      <td>1.26984</td>\n",
       "      <td>0</td>\n",
       "      <td>0.000</td>\n",
       "      <td>POINT (1.26984 45.85642)</td>\n",
       "    </tr>\n",
       "    <tr>\n",
       "      <th>1</th>\n",
       "      <td>54078</td>\n",
       "      <td>45.85708</td>\n",
       "      <td>1.26956</td>\n",
       "      <td>1</td>\n",
       "      <td>76.513</td>\n",
       "      <td>POINT (1.26956 45.85708)</td>\n",
       "    </tr>\n",
       "    <tr>\n",
       "      <th>2</th>\n",
       "      <td>54078</td>\n",
       "      <td>45.85708</td>\n",
       "      <td>1.26954</td>\n",
       "      <td>2</td>\n",
       "      <td>78.066</td>\n",
       "      <td>POINT (1.26954 45.85708)</td>\n",
       "    </tr>\n",
       "    <tr>\n",
       "      <th>3</th>\n",
       "      <td>54078</td>\n",
       "      <td>45.85530</td>\n",
       "      <td>1.26653</td>\n",
       "      <td>3</td>\n",
       "      <td>384.317</td>\n",
       "      <td>POINT (1.26653 45.8553)</td>\n",
       "    </tr>\n",
       "    <tr>\n",
       "      <th>4</th>\n",
       "      <td>54078</td>\n",
       "      <td>45.85513</td>\n",
       "      <td>1.26633</td>\n",
       "      <td>4</td>\n",
       "      <td>408.777</td>\n",
       "      <td>POINT (1.26633 45.85513)</td>\n",
       "    </tr>\n",
       "  </tbody>\n",
       "</table>\n",
       "</div>"
      ],
      "text/plain": [
       "   shape_id  shape_pt_lat  shape_pt_lon  shape_pt_sequence  \\\n",
       "0     54078      45.85642       1.26984                  0   \n",
       "1     54078      45.85708       1.26956                  1   \n",
       "2     54078      45.85708       1.26954                  2   \n",
       "3     54078      45.85530       1.26653                  3   \n",
       "4     54078      45.85513       1.26633                  4   \n",
       "\n",
       "   shape_dist_traveled                  geometry  \n",
       "0                0.000  POINT (1.26984 45.85642)  \n",
       "1               76.513  POINT (1.26956 45.85708)  \n",
       "2               78.066  POINT (1.26954 45.85708)  \n",
       "3              384.317   POINT (1.26653 45.8553)  \n",
       "4              408.777  POINT (1.26633 45.85513)  "
      ]
     },
     "execution_count": 4,
     "metadata": {},
     "output_type": "execute_result"
    }
   ],
   "source": [
    "shapes_geom = gpd.GeoDataFrame(shapes)\n",
    "shapes_geom.head()"
   ]
  },
  {
   "cell_type": "code",
   "execution_count": 5,
   "metadata": {
    "collapsed": true
   },
   "outputs": [],
   "source": [
    "shapes_lines = shapes_geom.groupby('shape_id')['geometry'].apply(lambda x: geometry.LineString(list(x)))"
   ]
  },
  {
   "cell_type": "code",
   "execution_count": 6,
   "metadata": {},
   "outputs": [
    {
     "data": {
      "text/html": [
       "<div>\n",
       "<table border=\"1\" class=\"dataframe\">\n",
       "  <thead>\n",
       "    <tr style=\"text-align: right;\">\n",
       "      <th></th>\n",
       "      <th>shape_id</th>\n",
       "      <th>geometry</th>\n",
       "    </tr>\n",
       "  </thead>\n",
       "  <tbody>\n",
       "    <tr>\n",
       "      <th>0</th>\n",
       "      <td>54078</td>\n",
       "      <td>LINESTRING (1.26984 45.85642, 1.26956 45.85708...</td>\n",
       "    </tr>\n",
       "    <tr>\n",
       "      <th>1</th>\n",
       "      <td>54079</td>\n",
       "      <td>LINESTRING (1.22763 45.8138, 1.22752 45.81387,...</td>\n",
       "    </tr>\n",
       "    <tr>\n",
       "      <th>2</th>\n",
       "      <td>54080</td>\n",
       "      <td>LINESTRING (1.27323 45.8342, 1.27289 45.8341, ...</td>\n",
       "    </tr>\n",
       "    <tr>\n",
       "      <th>3</th>\n",
       "      <td>54081</td>\n",
       "      <td>LINESTRING (1.22666 45.83523, 1.22669 45.83505...</td>\n",
       "    </tr>\n",
       "    <tr>\n",
       "      <th>4</th>\n",
       "      <td>54082</td>\n",
       "      <td>LINESTRING (1.27099 45.8561, 1.27106 45.8559, ...</td>\n",
       "    </tr>\n",
       "  </tbody>\n",
       "</table>\n",
       "</div>"
      ],
      "text/plain": [
       "   shape_id                                           geometry\n",
       "0     54078  LINESTRING (1.26984 45.85642, 1.26956 45.85708...\n",
       "1     54079  LINESTRING (1.22763 45.8138, 1.22752 45.81387,...\n",
       "2     54080  LINESTRING (1.27323 45.8342, 1.27289 45.8341, ...\n",
       "3     54081  LINESTRING (1.22666 45.83523, 1.22669 45.83505...\n",
       "4     54082  LINESTRING (1.27099 45.8561, 1.27106 45.8559, ..."
      ]
     },
     "execution_count": 6,
     "metadata": {},
     "output_type": "execute_result"
    }
   ],
   "source": [
    "to_export = gpd.GeoDataFrame(shapes_lines).reset_index()\n",
    "to_export.head()"
   ]
  },
  {
   "cell_type": "code",
   "execution_count": 7,
   "metadata": {},
   "outputs": [
    {
     "data": {
      "text/html": [
       "<div>\n",
       "<table border=\"1\" class=\"dataframe\">\n",
       "  <thead>\n",
       "    <tr style=\"text-align: right;\">\n",
       "      <th></th>\n",
       "      <th>trip_headsign</th>\n",
       "      <th>trip_short_name</th>\n",
       "      <th>direction_id</th>\n",
       "      <th>block_id</th>\n",
       "      <th>wheelchair_accessible</th>\n",
       "      <th>bikes_allowed</th>\n",
       "      <th>route_id</th>\n",
       "      <th>shape_id</th>\n",
       "      <th>trip_id</th>\n",
       "      <th>service_id</th>\n",
       "    </tr>\n",
       "  </thead>\n",
       "  <tbody>\n",
       "    <tr>\n",
       "      <th>0</th>\n",
       "      <td>first trip of the pattern</td>\n",
       "      <td>default</td>\n",
       "      <td>1</td>\n",
       "      <td>default</td>\n",
       "      <td>NaN</td>\n",
       "      <td>NaN</td>\n",
       "      <td>16141</td>\n",
       "      <td>54079</td>\n",
       "      <td>first trip_1</td>\n",
       "      <td>SCO</td>\n",
       "    </tr>\n",
       "    <tr>\n",
       "      <th>1</th>\n",
       "      <td>first trip of the pattern</td>\n",
       "      <td>default</td>\n",
       "      <td>1</td>\n",
       "      <td>default</td>\n",
       "      <td>NaN</td>\n",
       "      <td>NaN</td>\n",
       "      <td>16141</td>\n",
       "      <td>54078</td>\n",
       "      <td>first trip_2</td>\n",
       "      <td>SCO</td>\n",
       "    </tr>\n",
       "    <tr>\n",
       "      <th>2</th>\n",
       "      <td>\"J. GAGNANT\"</td>\n",
       "      <td>NaN</td>\n",
       "      <td>0</td>\n",
       "      <td>NaN</td>\n",
       "      <td>NaN</td>\n",
       "      <td>NaN</td>\n",
       "      <td>16142</td>\n",
       "      <td>54081</td>\n",
       "      <td>884124-2017-2018-M-LàV-Semaine-05</td>\n",
       "      <td>SCO</td>\n",
       "    </tr>\n",
       "    <tr>\n",
       "      <th>3</th>\n",
       "      <td>\"LES COURRIERES\"</td>\n",
       "      <td>NaN</td>\n",
       "      <td>1</td>\n",
       "      <td>NaN</td>\n",
       "      <td>NaN</td>\n",
       "      <td>NaN</td>\n",
       "      <td>16142</td>\n",
       "      <td>54080</td>\n",
       "      <td>884107-2017-2018-M-LàV-Semaine-05</td>\n",
       "      <td>SCO</td>\n",
       "    </tr>\n",
       "    <tr>\n",
       "      <th>4</th>\n",
       "      <td>\"BASTIDE  2\"</td>\n",
       "      <td>NaN</td>\n",
       "      <td>0</td>\n",
       "      <td>NaN</td>\n",
       "      <td>NaN</td>\n",
       "      <td>NaN</td>\n",
       "      <td>16143</td>\n",
       "      <td>54083</td>\n",
       "      <td>878449-2017-2018-M-Sam-Samedi-06</td>\n",
       "      <td>SCO</td>\n",
       "    </tr>\n",
       "  </tbody>\n",
       "</table>\n",
       "</div>"
      ],
      "text/plain": [
       "               trip_headsign trip_short_name  direction_id block_id  \\\n",
       "0  first trip of the pattern         default             1  default   \n",
       "1  first trip of the pattern         default             1  default   \n",
       "2               \"J. GAGNANT\"             NaN             0      NaN   \n",
       "3           \"LES COURRIERES\"             NaN             1      NaN   \n",
       "4               \"BASTIDE  2\"             NaN             0      NaN   \n",
       "\n",
       "   wheelchair_accessible  bikes_allowed route_id  shape_id  \\\n",
       "0                    NaN            NaN    16141     54079   \n",
       "1                    NaN            NaN    16141     54078   \n",
       "2                    NaN            NaN    16142     54081   \n",
       "3                    NaN            NaN    16142     54080   \n",
       "4                    NaN            NaN    16143     54083   \n",
       "\n",
       "                             trip_id service_id  \n",
       "0                       first trip_1        SCO  \n",
       "1                       first trip_2        SCO  \n",
       "2  884124-2017-2018-M-LàV-Semaine-05        SCO  \n",
       "3  884107-2017-2018-M-LàV-Semaine-05        SCO  \n",
       "4   878449-2017-2018-M-Sam-Samedi-06        SCO  "
      ]
     },
     "execution_count": 7,
     "metadata": {},
     "output_type": "execute_result"
    }
   ],
   "source": [
    "trips = pd.read_csv(r'gtfs/trips.txt')\n",
    "trips.head()"
   ]
  },
  {
   "cell_type": "code",
   "execution_count": 8,
   "metadata": {},
   "outputs": [
    {
     "data": {
      "text/plain": [
       "70"
      ]
     },
     "execution_count": 8,
     "metadata": {},
     "output_type": "execute_result"
    }
   ],
   "source": [
    "len(trips)"
   ]
  },
  {
   "cell_type": "code",
   "execution_count": 9,
   "metadata": {},
   "outputs": [
    {
     "data": {
      "text/plain": [
       "70"
      ]
     },
     "execution_count": 9,
     "metadata": {},
     "output_type": "execute_result"
    }
   ],
   "source": [
    "len(to_export)"
   ]
  },
  {
   "cell_type": "code",
   "execution_count": 10,
   "metadata": {},
   "outputs": [
    {
     "data": {
      "text/html": [
       "<div>\n",
       "<table border=\"1\" class=\"dataframe\">\n",
       "  <thead>\n",
       "    <tr style=\"text-align: right;\">\n",
       "      <th></th>\n",
       "      <th>shape_id</th>\n",
       "      <th>geometry</th>\n",
       "      <th>route_id</th>\n",
       "    </tr>\n",
       "  </thead>\n",
       "  <tbody>\n",
       "    <tr>\n",
       "      <th>0</th>\n",
       "      <td>54078</td>\n",
       "      <td>LINESTRING (1.26984 45.85642, 1.26956 45.85708...</td>\n",
       "      <td>16141</td>\n",
       "    </tr>\n",
       "    <tr>\n",
       "      <th>1</th>\n",
       "      <td>54079</td>\n",
       "      <td>LINESTRING (1.22763 45.8138, 1.22752 45.81387,...</td>\n",
       "      <td>16141</td>\n",
       "    </tr>\n",
       "    <tr>\n",
       "      <th>2</th>\n",
       "      <td>54080</td>\n",
       "      <td>LINESTRING (1.27323 45.8342, 1.27289 45.8341, ...</td>\n",
       "      <td>16142</td>\n",
       "    </tr>\n",
       "    <tr>\n",
       "      <th>3</th>\n",
       "      <td>54081</td>\n",
       "      <td>LINESTRING (1.22666 45.83523, 1.22669 45.83505...</td>\n",
       "      <td>16142</td>\n",
       "    </tr>\n",
       "    <tr>\n",
       "      <th>4</th>\n",
       "      <td>54082</td>\n",
       "      <td>LINESTRING (1.27099 45.8561, 1.27106 45.8559, ...</td>\n",
       "      <td>16143</td>\n",
       "    </tr>\n",
       "  </tbody>\n",
       "</table>\n",
       "</div>"
      ],
      "text/plain": [
       "   shape_id                                           geometry route_id\n",
       "0     54078  LINESTRING (1.26984 45.85642, 1.26956 45.85708...    16141\n",
       "1     54079  LINESTRING (1.22763 45.8138, 1.22752 45.81387,...    16141\n",
       "2     54080  LINESTRING (1.27323 45.8342, 1.27289 45.8341, ...    16142\n",
       "3     54081  LINESTRING (1.22666 45.83523, 1.22669 45.83505...    16142\n",
       "4     54082  LINESTRING (1.27099 45.8561, 1.27106 45.8559, ...    16143"
      ]
     },
     "execution_count": 10,
     "metadata": {},
     "output_type": "execute_result"
    }
   ],
   "source": [
    "to_export = to_export.merge(trips[['route_id', 'shape_id']], on='shape_id')\n",
    "to_export.head()"
   ]
  },
  {
   "cell_type": "code",
   "execution_count": 11,
   "metadata": {},
   "outputs": [
    {
     "data": {
      "text/html": [
       "<div>\n",
       "<table border=\"1\" class=\"dataframe\">\n",
       "  <thead>\n",
       "    <tr style=\"text-align: right;\">\n",
       "      <th></th>\n",
       "      <th>route_id</th>\n",
       "      <th>shape_id</th>\n",
       "      <th>geometry</th>\n",
       "      <th>length</th>\n",
       "    </tr>\n",
       "  </thead>\n",
       "  <tbody>\n",
       "    <tr>\n",
       "      <th>0</th>\n",
       "      <td>14899</td>\n",
       "      <td>54088</td>\n",
       "      <td>LINESTRING (1.24571 45.84502, 1.24561 45.84502...</td>\n",
       "      <td>0.201626</td>\n",
       "    </tr>\n",
       "    <tr>\n",
       "      <th>1</th>\n",
       "      <td>14904</td>\n",
       "      <td>54094</td>\n",
       "      <td>LINESTRING (1.26966 45.85717, 1.26953 45.85706...</td>\n",
       "      <td>0.168176</td>\n",
       "    </tr>\n",
       "    <tr>\n",
       "      <th>2</th>\n",
       "      <td>14919</td>\n",
       "      <td>54123</td>\n",
       "      <td>LINESTRING (1.30057 45.87086, 1.29989 45.87181...</td>\n",
       "      <td>0.103762</td>\n",
       "    </tr>\n",
       "    <tr>\n",
       "      <th>3</th>\n",
       "      <td>15658</td>\n",
       "      <td>54131</td>\n",
       "      <td>LINESTRING (1.41997 45.8457, 1.42042 45.8458, ...</td>\n",
       "      <td>0.204135</td>\n",
       "    </tr>\n",
       "    <tr>\n",
       "      <th>4</th>\n",
       "      <td>16141</td>\n",
       "      <td>54078</td>\n",
       "      <td>LINESTRING (1.26984 45.85642, 1.26956 45.85708...</td>\n",
       "      <td>0.093136</td>\n",
       "    </tr>\n",
       "  </tbody>\n",
       "</table>\n",
       "</div>"
      ],
      "text/plain": [
       "  route_id  shape_id                                           geometry  \\\n",
       "0    14899     54088  LINESTRING (1.24571 45.84502, 1.24561 45.84502...   \n",
       "1    14904     54094  LINESTRING (1.26966 45.85717, 1.26953 45.85706...   \n",
       "2    14919     54123  LINESTRING (1.30057 45.87086, 1.29989 45.87181...   \n",
       "3    15658     54131  LINESTRING (1.41997 45.8457, 1.42042 45.8458, ...   \n",
       "4    16141     54078  LINESTRING (1.26984 45.85642, 1.26956 45.85708...   \n",
       "\n",
       "     length  \n",
       "0  0.201626  \n",
       "1  0.168176  \n",
       "2  0.103762  \n",
       "3  0.204135  \n",
       "4  0.093136  "
      ]
     },
     "execution_count": 11,
     "metadata": {},
     "output_type": "execute_result"
    }
   ],
   "source": [
    "to_export['length'] = to_export.length\n",
    "to_export_longest = to_export.sort_values('length')\n",
    "to_export_longest = gpd.GeoDataFrame(to_export_longest.groupby('route_id').first()).reset_index()\n",
    "to_export_longest.head()"
   ]
  },
  {
   "cell_type": "code",
   "execution_count": 12,
   "metadata": {},
   "outputs": [],
   "source": [
    "to_export.to_file('shp/all_shapes.shp')\n",
    "to_export_longest.to_file('shp/longest.shp')"
   ]
  },
  {
   "cell_type": "code",
   "execution_count": null,
   "metadata": {
    "collapsed": true
   },
   "outputs": [],
   "source": []
  }
 ],
 "metadata": {
  "anaconda-cloud": {},
  "kernelspec": {
   "display_name": "Python 3",
   "language": "python",
   "name": "python3"
  },
  "language_info": {
   "codemirror_mode": {
    "name": "ipython",
    "version": 3
   },
   "file_extension": ".py",
   "mimetype": "text/x-python",
   "name": "python",
   "nbconvert_exporter": "python",
   "pygments_lexer": "ipython3",
   "version": "3.6.8"
  }
 },
 "nbformat": 4,
 "nbformat_minor": 2
}
