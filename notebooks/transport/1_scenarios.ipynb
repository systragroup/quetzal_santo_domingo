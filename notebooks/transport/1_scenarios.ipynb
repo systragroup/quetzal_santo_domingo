{
 "cells": [
  {
   "cell_type": "code",
   "execution_count": 1,
   "metadata": {
    "scrolled": true
   },
   "outputs": [
    {
     "name": "stdout",
     "output_type": "stream",
     "text": [
      "SQLalchemy is not installed. No support for SQL output.\n"
     ]
    },
    {
     "name": "stderr",
     "output_type": "stream",
     "text": [
      "zones: 100%|██████████| 27/27 [00:00<00:00, 47.90it/s]       \n"
     ]
    }
   ],
   "source": [
    "import pandas as pd\n",
    "import sys\n",
    "sys.path.insert(0, r'../../../quetzal')\n",
    "\n",
    "from quetzal.model import stepmodel\n",
    "\n",
    "quetzal_path = r'../../model/'\n",
    "input_path = r'../../inputs/'\n",
    "\n",
    "sm = stepmodel.read_zip(quetzal_path + 'preparation/networkcasted.zip')\n",
    "pool = sm.copy()"
   ]
  },
  {
   "cell_type": "markdown",
   "metadata": {},
   "source": [
    "# colors"
   ]
  },
  {
   "cell_type": "code",
   "execution_count": 2,
   "metadata": {},
   "outputs": [],
   "source": [
    "rainbow_shades = [\"#D22328\", \"#559BB4\", \"#91A564\", \"#DC9100\", \"#8C4B7D\", \"#A08C69\",\n",
    "                  \"#647D6E\", \"#5A7382\", \"#64411E\", \"#A00037\", \"#643C5A\"]\n",
    "\n",
    "#sm.links['trip_id'] = sm.links['dir_line']\n",
    "sm.analysis_lines()\n",
    "sm.lines['line_color'] = list(rainbow_shades[:5]*10000)[: len(sm.lines)]\n",
    "d = sm.lines.set_index('route_id')['line_color'].to_dict()\n",
    "sm.links['line_color'] = sm.links['route_id'].apply(\n",
    "    lambda x: d[x] if x in d.keys() else \"#D22328\"\n",
    ")"
   ]
  },
  {
   "cell_type": "code",
   "execution_count": 3,
   "metadata": {},
   "outputs": [],
   "source": [
    "parameter_frame = pd.read_excel(input_path + r'parametros.xlsx').set_index(['category','parameter'])"
   ]
  },
  {
   "cell_type": "markdown",
   "metadata": {},
   "source": [
    "# parameters"
   ]
  },
  {
   "cell_type": "code",
   "execution_count": 4,
   "metadata": {},
   "outputs": [],
   "source": [
    "for c in parameter_frame.columns:\n",
    "    parent = parameter_frame[c][('general', 'parent')]\n",
    "    try:\n",
    "        parent = parent.iloc[0]\n",
    "    except AttributeError:# 'str' object has no attribute 'iloc'\n",
    "        pass\n",
    "    parameter_frame[c] = parameter_frame[c].fillna(parameter_frame[parent])"
   ]
  },
  {
   "cell_type": "code",
   "execution_count": 5,
   "metadata": {},
   "outputs": [
    {
     "name": "stderr",
     "output_type": "stream",
     "text": [
      "nodes: 100%|██████████| 3/3 [00:00<00:00, 20.87it/s]"
     ]
    },
    {
     "name": "stdout",
     "output_type": "stream",
     "text": [
      "routes that belong to gtfs and not to parameters (will not be used):\n",
      "{'tramo SDO L2', 'quentin', 'sitp_tiradentes', 'Tele Oeste SDO', 'intrant', 'Tramo Alcarrizos L2', 'Tele Oeste LA'}\n"
     ]
    },
    {
     "name": "stderr",
     "output_type": "stream",
     "text": [
      "\n"
     ]
    }
   ],
   "source": [
    "gtfs = stepmodel.read_zip(r'../../model/preparation/gtfs.zip', only_attributes=['links', 'jsons'])\n",
    "networkcasted_routes = set(gtfs.links['route_id'])\n",
    "parameter_routes = set(parameter_frame.loc['route_type'].index)\n",
    "drop_routes = networkcasted_routes - parameter_routes\n",
    "if len(drop_routes):\n",
    "    print('routes that belong to gtfs and not to parameters (will not be used):')\n",
    "    print(drop_routes)\n",
    "pool.links = pool.links.loc[~pool.links['route_id'].isin(drop_routes)]"
   ]
  },
  {
   "cell_type": "code",
   "execution_count": 6,
   "metadata": {},
   "outputs": [
    {
     "name": "stdout",
     "output_type": "stream",
     "text": [
      "{'sitp_lincoln', 'independencia', 'AB_A20B_1', 'sitp_prolongacion_27', 'sitp_josefa', 'AB_A20A_2', 'sitp_churchill', '27_febrero', 'AB_A11_2', 'AB_A69_1', 'AB_A20B_2', 'AB_A11_1', 'AB_A-B_1', 'AB_A69_2', 'sitp_defillo', 'AB_A31_1', 'sitp_cdg_oeste', 'victoria', 'sitp_sabana_larga', 'AB_A31_2', 'sitp_venezuela', 'sitp_nunez', 'sanfelipe', 'AB_A-B_2', 'sitp_ortega', 'AB_A20A_1', 'sitp_tiradentes', 'sitp_cdg_este'}\n"
     ]
    }
   ],
   "source": [
    "links = sm.links\n",
    "print(set(links.loc[links['route_type'] == 'bus']['route_id']))"
   ]
  },
  {
   "cell_type": "code",
   "execution_count": 7,
   "metadata": {},
   "outputs": [],
   "source": [
    "def dump_links(scenario):\n",
    "    sm = pool.copy()\n",
    "    var = parameter_frame[scenario]\n",
    "    sm.links.loc[sm.links['route_id'].isin(var['route_type'].index), 'route_type'] = 'none'\n",
    "\n",
    "    for route_id, route_type in var['route_type'].to_dict().items():\n",
    "        sm.links.loc[sm.links['route_id'] == route_id,  'route_type'] = route_type\n",
    "        \n",
    "    sm.links = sm.links.loc[sm.links['route_type'] != 'none']\n",
    "\n",
    "    for route_type, headway in var['headway'].astype(int).to_dict().items():\n",
    "        sm.links.loc[sm.links['route_type'] == route_type,  'headway'] = headway\n",
    "\n",
    "    for route_type, value in var['speed'].astype(float).to_dict().items():\n",
    "        sm.links.loc[sm.links['route_type'] == route_type,  'speed'] = value\n",
    "        \n",
    "    sm.links.dropna(subset=['route_type'], inplace=True)\n",
    "        \n",
    "    sm.to_zip(\n",
    "        quetzal_path + '%s/links.zip' % scenario,\n",
    "        only_attributes = ['links', 'epsg', 'coordinates_unit']\n",
    "    )"
   ]
  },
  {
   "cell_type": "code",
   "execution_count": 8,
   "metadata": {},
   "outputs": [
    {
     "name": "stderr",
     "output_type": "stream",
     "text": [
      "jsons: 100%|██████████| 2/2 [00:00<00:00,  2.54it/s]\n",
      "jsons: 100%|██████████| 2/2 [00:00<00:00,  2.41it/s]\n",
      "jsons: 100%|██████████| 2/2 [00:00<00:00,  2.43it/s]\n",
      "jsons: 100%|██████████| 2/2 [00:00<00:00,  2.44it/s]\n",
      "jsons: 100%|██████████| 2/2 [00:00<00:00,  2.39it/s]\n"
     ]
    }
   ],
   "source": [
    "import os\n",
    "sm = pool.copy()\n",
    "for scenario in parameter_frame.columns:\n",
    "    #print(scenario)\n",
    "    try:\n",
    "        os.mkdir(quetzal_path + scenario)\n",
    "    except FileExistsError:\n",
    "        pass\n",
    "    dump_links(scenario)"
   ]
  }
 ],
 "metadata": {
  "kernelspec": {
   "display_name": "Python 3.8.12 ('quetzal_env')",
   "language": "python",
   "name": "python3"
  },
  "language_info": {
   "codemirror_mode": {
    "name": "ipython",
    "version": 3
   },
   "file_extension": ".py",
   "mimetype": "text/x-python",
   "name": "python",
   "nbconvert_exporter": "python",
   "pygments_lexer": "ipython3",
   "version": "3.8.12"
  },
  "vscode": {
   "interpreter": {
    "hash": "63ed8d3682b3a3f883b3db9dd4a15374715afa9f25179090c3e8481b99e79868"
   }
  }
 },
 "nbformat": 4,
 "nbformat_minor": 2
}
