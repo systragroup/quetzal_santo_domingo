{
 "cells": [
  {
   "cell_type": "code",
   "execution_count": 1,
   "metadata": {},
   "outputs": [
    {
     "name": "stdout",
     "output_type": "stream",
     "text": [
      "SQLalchemy is not installed. No support for SQL output.\n"
     ]
    }
   ],
   "source": [
    "import geopandas as gpd\n",
    "import pandas as pd\n",
    "\n",
    "work_path = r'../../../'\n",
    "quetzal_path = work_path + r'quetzal_santo_domingo/'\n",
    "\n",
    "import sys\n",
    "sys.path.insert(0, '../../../quetzal/')\n",
    "\n",
    "from quetzal.model import stepmodel"
   ]
  },
  {
   "cell_type": "code",
   "execution_count": 2,
   "metadata": {},
   "outputs": [
    {
     "name": "stderr",
     "output_type": "stream",
     "text": [
      "zones: 100%|███████████████████████████████████████████████████████████████████████████| 27/27 [00:07<00:00,  3.62it/s]\n"
     ]
    }
   ],
   "source": [
    "sm = stepmodel.read_zip(quetzal_path + 'model/preparation/walkmodel.zip')"
   ]
  },
  {
   "cell_type": "code",
   "execution_count": 3,
   "metadata": {},
   "outputs": [
    {
     "name": "stderr",
     "output_type": "stream",
     "text": [
      "zones: 100%|███████████████████████████████████████████████████████████████████████████| 29/29 [00:00<00:00, 96.02it/s]\n"
     ]
    }
   ],
   "source": [
    "distributed =  stepmodel.read_zip(quetzal_path + 'model/transport/distribution.zip')"
   ]
  },
  {
   "cell_type": "code",
   "execution_count": 4,
   "metadata": {
    "scrolled": true
   },
   "outputs": [],
   "source": [
    "sm.volumes = distributed.volumes"
   ]
  },
  {
   "cell_type": "code",
   "execution_count": 5,
   "metadata": {},
   "outputs": [],
   "source": [
    "sm.zones = sm.zones.loc[set(sm.volumes['origin']).union(set(sm.volumes['destination']))]\n",
    "#sm = sm.change_epsg(epsg=32619, coordinates_unit='meter')"
   ]
  },
  {
   "cell_type": "code",
   "execution_count": 6,
   "metadata": {},
   "outputs": [],
   "source": [
    "sm.zone_to_road = sm.zone_to_road.loc[sm.zone_to_road['rank'] == 0]"
   ]
  },
  {
   "cell_type": "code",
   "execution_count": 7,
   "metadata": {
    "scrolled": true
   },
   "outputs": [],
   "source": [
    "car_speed = 5\n",
    "sm.road_links['capacity'] = 5000\n",
    "sm.road_links['length'] = sm.road_links['geometry'].apply(lambda g: g.length)\n",
    "sm.road_links['time'] = sm.road_links['length'] / car_speed"
   ]
  },
  {
   "cell_type": "code",
   "execution_count": 8,
   "metadata": {},
   "outputs": [],
   "source": [
    "sm.volumes['volume_car'] = sm.volumes['volume'] / 2"
   ]
  },
  {
   "cell_type": "code",
   "execution_count": 9,
   "metadata": {},
   "outputs": [
    {
     "data": {
      "text/html": [
       "<div>\n",
       "<style scoped>\n",
       "    .dataframe tbody tr th:only-of-type {\n",
       "        vertical-align: middle;\n",
       "    }\n",
       "\n",
       "    .dataframe tbody tr th {\n",
       "        vertical-align: top;\n",
       "    }\n",
       "\n",
       "    .dataframe thead th {\n",
       "        text-align: right;\n",
       "    }\n",
       "</style>\n",
       "<table border=\"1\" class=\"dataframe\">\n",
       "  <thead>\n",
       "    <tr style=\"text-align: right;\">\n",
       "      <th></th>\n",
       "      <th>origin</th>\n",
       "      <th>destination</th>\n",
       "      <th>volume</th>\n",
       "      <th>motorizacion</th>\n",
       "      <th>car</th>\n",
       "      <th>nocar</th>\n",
       "      <th>survey_walk</th>\n",
       "      <th>survey_car</th>\n",
       "      <th>survey_pt</th>\n",
       "      <th>growth</th>\n",
       "      <th>...</th>\n",
       "      <th>nocar2095</th>\n",
       "      <th>car2096</th>\n",
       "      <th>nocar2096</th>\n",
       "      <th>car2097</th>\n",
       "      <th>nocar2097</th>\n",
       "      <th>car2098</th>\n",
       "      <th>nocar2098</th>\n",
       "      <th>car2099</th>\n",
       "      <th>nocar2099</th>\n",
       "      <th>volume_car</th>\n",
       "    </tr>\n",
       "  </thead>\n",
       "  <tbody>\n",
       "    <tr>\n",
       "      <th>0</th>\n",
       "      <td>zone_1</td>\n",
       "      <td>zone_1</td>\n",
       "      <td>3.706954e+03</td>\n",
       "      <td>0.545</td>\n",
       "      <td>6.950091e+02</td>\n",
       "      <td>5.802369e+02</td>\n",
       "      <td>583.104657</td>\n",
       "      <td>0.0</td>\n",
       "      <td>0.0</td>\n",
       "      <td>1.006</td>\n",
       "      <td>...</td>\n",
       "      <td>9.197079e+02</td>\n",
       "      <td>1.108238e+03</td>\n",
       "      <td>9.252261e+02</td>\n",
       "      <td>1.114887e+03</td>\n",
       "      <td>9.307775e+02</td>\n",
       "      <td>1.121577e+03</td>\n",
       "      <td>9.363621e+02</td>\n",
       "      <td>1.128306e+03</td>\n",
       "      <td>9.419803e+02</td>\n",
       "      <td>1.853477e+03</td>\n",
       "    </tr>\n",
       "    <tr>\n",
       "      <th>1</th>\n",
       "      <td>zone_1</td>\n",
       "      <td>zone_10</td>\n",
       "      <td>1.362500e+01</td>\n",
       "      <td>0.545</td>\n",
       "      <td>2.554523e+00</td>\n",
       "      <td>2.132675e+00</td>\n",
       "      <td>0.000000</td>\n",
       "      <td>0.0</td>\n",
       "      <td>0.0</td>\n",
       "      <td>1.006</td>\n",
       "      <td>...</td>\n",
       "      <td>3.380409e+00</td>\n",
       "      <td>4.073356e+00</td>\n",
       "      <td>3.400691e+00</td>\n",
       "      <td>4.097796e+00</td>\n",
       "      <td>3.421096e+00</td>\n",
       "      <td>4.122382e+00</td>\n",
       "      <td>3.441622e+00</td>\n",
       "      <td>4.147117e+00</td>\n",
       "      <td>3.462272e+00</td>\n",
       "      <td>6.812500e+00</td>\n",
       "    </tr>\n",
       "    <tr>\n",
       "      <th>2</th>\n",
       "      <td>zone_1</td>\n",
       "      <td>zone_101</td>\n",
       "      <td>2.021907e-15</td>\n",
       "      <td>0.545</td>\n",
       "      <td>3.790831e-16</td>\n",
       "      <td>3.164822e-16</td>\n",
       "      <td>0.000000</td>\n",
       "      <td>0.0</td>\n",
       "      <td>0.0</td>\n",
       "      <td>1.006</td>\n",
       "      <td>...</td>\n",
       "      <td>5.016419e-16</td>\n",
       "      <td>6.044730e-16</td>\n",
       "      <td>5.046518e-16</td>\n",
       "      <td>6.080998e-16</td>\n",
       "      <td>5.076797e-16</td>\n",
       "      <td>6.117484e-16</td>\n",
       "      <td>5.107257e-16</td>\n",
       "      <td>6.154189e-16</td>\n",
       "      <td>5.137901e-16</td>\n",
       "      <td>1.010953e-15</td>\n",
       "    </tr>\n",
       "    <tr>\n",
       "      <th>3</th>\n",
       "      <td>zone_1</td>\n",
       "      <td>zone_102</td>\n",
       "      <td>1.753460e+01</td>\n",
       "      <td>0.545</td>\n",
       "      <td>3.287525e+00</td>\n",
       "      <td>2.744631e+00</td>\n",
       "      <td>0.000000</td>\n",
       "      <td>0.0</td>\n",
       "      <td>0.0</td>\n",
       "      <td>1.006</td>\n",
       "      <td>...</td>\n",
       "      <td>4.350393e+00</td>\n",
       "      <td>5.242176e+00</td>\n",
       "      <td>4.376495e+00</td>\n",
       "      <td>5.273629e+00</td>\n",
       "      <td>4.402754e+00</td>\n",
       "      <td>5.305271e+00</td>\n",
       "      <td>4.429171e+00</td>\n",
       "      <td>5.337102e+00</td>\n",
       "      <td>4.455746e+00</td>\n",
       "      <td>8.767298e+00</td>\n",
       "    </tr>\n",
       "    <tr>\n",
       "      <th>4</th>\n",
       "      <td>zone_1</td>\n",
       "      <td>zone_103</td>\n",
       "      <td>2.372934e+00</td>\n",
       "      <td>0.545</td>\n",
       "      <td>4.448965e-01</td>\n",
       "      <td>3.714274e-01</td>\n",
       "      <td>0.000000</td>\n",
       "      <td>0.0</td>\n",
       "      <td>0.0</td>\n",
       "      <td>1.006</td>\n",
       "      <td>...</td>\n",
       "      <td>5.887330e-01</td>\n",
       "      <td>7.094169e-01</td>\n",
       "      <td>5.922654e-01</td>\n",
       "      <td>7.136734e-01</td>\n",
       "      <td>5.958190e-01</td>\n",
       "      <td>7.179554e-01</td>\n",
       "      <td>5.993940e-01</td>\n",
       "      <td>7.222631e-01</td>\n",
       "      <td>6.029903e-01</td>\n",
       "      <td>1.186467e+00</td>\n",
       "    </tr>\n",
       "  </tbody>\n",
       "</table>\n",
       "<p>5 rows × 175 columns</p>\n",
       "</div>"
      ],
      "text/plain": [
       "   origin destination        volume  motorizacion           car         nocar  \\\n",
       "0  zone_1      zone_1  3.706954e+03         0.545  6.950091e+02  5.802369e+02   \n",
       "1  zone_1     zone_10  1.362500e+01         0.545  2.554523e+00  2.132675e+00   \n",
       "2  zone_1    zone_101  2.021907e-15         0.545  3.790831e-16  3.164822e-16   \n",
       "3  zone_1    zone_102  1.753460e+01         0.545  3.287525e+00  2.744631e+00   \n",
       "4  zone_1    zone_103  2.372934e+00         0.545  4.448965e-01  3.714274e-01   \n",
       "\n",
       "   survey_walk  survey_car  survey_pt  growth  ...     nocar2095  \\\n",
       "0   583.104657         0.0        0.0   1.006  ...  9.197079e+02   \n",
       "1     0.000000         0.0        0.0   1.006  ...  3.380409e+00   \n",
       "2     0.000000         0.0        0.0   1.006  ...  5.016419e-16   \n",
       "3     0.000000         0.0        0.0   1.006  ...  4.350393e+00   \n",
       "4     0.000000         0.0        0.0   1.006  ...  5.887330e-01   \n",
       "\n",
       "        car2096     nocar2096       car2097     nocar2097       car2098  \\\n",
       "0  1.108238e+03  9.252261e+02  1.114887e+03  9.307775e+02  1.121577e+03   \n",
       "1  4.073356e+00  3.400691e+00  4.097796e+00  3.421096e+00  4.122382e+00   \n",
       "2  6.044730e-16  5.046518e-16  6.080998e-16  5.076797e-16  6.117484e-16   \n",
       "3  5.242176e+00  4.376495e+00  5.273629e+00  4.402754e+00  5.305271e+00   \n",
       "4  7.094169e-01  5.922654e-01  7.136734e-01  5.958190e-01  7.179554e-01   \n",
       "\n",
       "      nocar2098       car2099     nocar2099    volume_car  \n",
       "0  9.363621e+02  1.128306e+03  9.419803e+02  1.853477e+03  \n",
       "1  3.441622e+00  4.147117e+00  3.462272e+00  6.812500e+00  \n",
       "2  5.107257e-16  6.154189e-16  5.137901e-16  1.010953e-15  \n",
       "3  4.429171e+00  5.337102e+00  4.455746e+00  8.767298e+00  \n",
       "4  5.993940e-01  7.222631e-01  6.029903e-01  1.186467e+00  \n",
       "\n",
       "[5 rows x 175 columns]"
      ]
     },
     "execution_count": 9,
     "metadata": {},
     "output_type": "execute_result"
    }
   ],
   "source": [
    "sm.volumes.head()"
   ]
  },
  {
   "cell_type": "code",
   "execution_count": 10,
   "metadata": {},
   "outputs": [],
   "source": [
    "sm.step_road_pathfinder(all_or_nothing=True)"
   ]
  },
  {
   "cell_type": "code",
   "execution_count": 11,
   "metadata": {},
   "outputs": [
    {
     "name": "stderr",
     "output_type": "stream",
     "text": [
      "car_los: 100%|█████████████████████████████████████████████████████████████████████████| 29/29 [00:09<00:00,  3.11it/s]\n"
     ]
    }
   ],
   "source": [
    "sm.to_zip(quetzal_path + r'model/transport/car_pathfinder.zip')"
   ]
  }
 ],
 "metadata": {
  "kernelspec": {
   "display_name": "Python [conda env:quetzal_env]",
   "language": "python",
   "name": "conda-env-quetzal_env-py"
  },
  "language_info": {
   "codemirror_mode": {
    "name": "ipython",
    "version": 3
   },
   "file_extension": ".py",
   "mimetype": "text/x-python",
   "name": "python",
   "nbconvert_exporter": "python",
   "pygments_lexer": "ipython3",
   "version": "3.7.5"
  }
 },
 "nbformat": 4,
 "nbformat_minor": 2
}
