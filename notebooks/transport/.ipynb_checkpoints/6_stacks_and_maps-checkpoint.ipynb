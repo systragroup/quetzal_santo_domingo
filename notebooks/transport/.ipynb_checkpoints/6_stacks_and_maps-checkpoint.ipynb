{
 "cells": [
  {
   "cell_type": "code",
   "execution_count": 1,
   "metadata": {
    "collapsed": true
   },
   "outputs": [],
   "source": [
    "import sys\n",
    "if 'ipykernel_launcher.py' not in sys.argv[0]:\n",
    "    manual = False\n",
    "    scenario = sys.argv[1]\n",
    "else:\n",
    "    manual = True\n",
    "    scenario = 'integracion_parcial_30'\n",
    "    %matplotlib inline"
   ]
  },
  {
   "cell_type": "code",
   "execution_count": 27,
   "metadata": {
    "collapsed": true
   },
   "outputs": [],
   "source": [
    "import geopandas as gpd\n",
    "import pandas as pd\n",
    "import numpy as np\n",
    "\n",
    "work_path = r'../../../'\n",
    "quetzal_path = work_path + r'quetzal_santo_domingo/model/'\n",
    "\n",
    "plot_path = work_path + r'plot/scenarios/'\n",
    "import sys\n",
    "sys.path.insert(0, '../../../quetzal/')\n",
    "\n",
    "from quetzal.model import stepmodel\n",
    "from quetzal.io import display"
   ]
  },
  {
   "cell_type": "code",
   "execution_count": 21,
   "metadata": {
    "collapsed": true
   },
   "outputs": [],
   "source": [
    "import numpy as np\n",
    "from syspy.syspy_utils import data_visualization as dv\n",
    "from syspy.syspy_utils import syscolors\n",
    "spectral = list(reversed(['#9e0142','#d53e4f','#f46d43','#fdae61','#fee08b','#e6f598','#abdda4','#66c2a5','#3288bd','#5e4fa2']))\n",
    "\n",
    "from shapely import geometry"
   ]
  },
  {
   "cell_type": "code",
   "execution_count": 3,
   "metadata": {},
   "outputs": [
    {
     "name": "stderr",
     "output_type": "stream",
     "text": [
      "read_hdf: : 100%|██████████████████████████████████████████████████████████████████████| 29/29 [00:01<00:00, 18.28it/s]\n"
     ]
    }
   ],
   "source": [
    "distributed =  stepmodel.read_zip(quetzal_path + 'transport/distribution.zip')"
   ]
  },
  {
   "cell_type": "code",
   "execution_count": 4,
   "metadata": {
    "collapsed": true
   },
   "outputs": [],
   "source": [
    "parameter_frame = pd.read_csv(quetzal_path + 'parameters.csv', sep=';', decimal=',').set_index(['category','parameter'])\n",
    "for c in parameter_frame.columns:\n",
    "    parent = parameter_frame[c][('general', 'parent')]\n",
    "    parameter_frame[c] = parameter_frame[c].fillna(parameter_frame[parent])\n",
    "\n",
    "scenario_list = list(parameter_frame.columns)"
   ]
  },
  {
   "cell_type": "code",
   "execution_count": 5,
   "metadata": {},
   "outputs": [
    {
     "name": "stderr",
     "output_type": "stream",
     "text": [
      "read_hdf: : 100%|██████████████████████████████████████████████████████████████████████| 34/34 [00:08<00:00,  4.11it/s]\n"
     ]
    }
   ],
   "source": [
    "scenario_list = [scenario]\n",
    "reader = {}\n",
    "for scenario in scenario_list :\n",
    "    sm =  stepmodel.read_zip(\n",
    "        quetzal_path + scenario +  '/assigned.zip'\n",
    "    )\n",
    "    reader[scenario] = sm"
   ]
  },
  {
   "cell_type": "code",
   "execution_count": 6,
   "metadata": {},
   "outputs": [
    {
     "name": "stderr",
     "output_type": "stream",
     "text": [
      "read_hdf: : 100%|██████████████████████████████████████████████████████████████████████| 34/34 [00:07<00:00,  3.85it/s]\n"
     ]
    }
   ],
   "source": [
    "if manual:\n",
    "    ref = stepmodel.read_zip(quetzal_path + 'ref_18' + '/assigned.zip')"
   ]
  },
  {
   "cell_type": "code",
   "execution_count": 7,
   "metadata": {
    "collapsed": true
   },
   "outputs": [],
   "source": [
    "def revenue_stack(self, segments=('root',)):\n",
    "    df = pd.merge(self.volumes[['origin', 'destination'] + list(segments)], self.pt_los)\n",
    "     \n",
    "    for segment in segments:\n",
    "        df[segment] =  df[segment] * df[(segment, 'probability')]\n",
    "\n",
    "    \n",
    "    df = df.dropna(subset=['price_breakdown'])\n",
    "    df['fare_id_tuple'] = df['fare_id_list'].apply(tuple)\n",
    "    agg_dict = {segment: 'sum' for segment in segments}\n",
    "    agg_dict['price_breakdown'] = 'first'\n",
    "    temp = df.groupby('fare_id_tuple').agg(agg_dict)\n",
    "    fare_id_set = set.union(*[set(t) for t in temp.index])\n",
    "    revenue_dict = {\n",
    "        segment :{f:0 for f in fare_id_set}\n",
    "        for segment in segments\n",
    "    }\n",
    "\n",
    "    def row_revenue(row, segment):\n",
    "        for key, value in row['price_breakdown'].items():\n",
    "            revenue_dict[segment][key] += value * row[segment]\n",
    "\n",
    "    \n",
    "    for segment in segments:\n",
    "        n = temp.apply(row_revenue, axis=1, segment=segment)\n",
    "        \n",
    "    stack = pd.DataFrame(revenue_dict).stack()\n",
    "    stack.index.names = ['fare_id', 'segment']\n",
    "    stack.name = 'sum'\n",
    "    return stack\n",
    "\n",
    "def path_sum_stack(self, segments=('root',)):\n",
    "    \n",
    "    left = pd.concat([self.car_los, self.pt_los])\n",
    "    right = self.volumes[['origin', 'destination'] + list(segments)]\n",
    "    df = pd.merge(left, right, on=['origin', 'destination'])\n",
    "    \n",
    "    df.reset_index(drop=True)\n",
    "\n",
    "    df['count'] = 1\n",
    "    columns = ['time', 'in_vehicle_time', 'in_vehicle_length', 'count', 'price', 'ntransfers']\n",
    "    idf = df[['route_type']]\n",
    "\n",
    "    to_concat = []\n",
    "    for segment in segments:\n",
    "        df[(segment, 'volume')] = df[(segment, 'probability')] * df[segment]\n",
    "        pool = pd.DataFrame(\n",
    "            df[columns].apply(lambda c: c*df[(segment, 'volume')]),\n",
    "        )\n",
    "        pool.columns = [(segment, c) for c in columns]\n",
    "        to_concat.append(pool)\n",
    "        \n",
    "    idf = pd.concat([idf] + to_concat, axis=1)\n",
    "    frame = idf.fillna(0).groupby('route_type').sum().T.sort_index()\n",
    "    frame.index = pd.MultiIndex.from_tuples(frame.index)\n",
    "    frame.index.names = ['segment', 'indicator']\n",
    "\n",
    "    stack = frame.stack()\n",
    "    stack.name = 'sum'\n",
    "    return stack"
   ]
  },
  {
   "cell_type": "code",
   "execution_count": 8,
   "metadata": {
    "collapsed": true
   },
   "outputs": [],
   "source": [
    "def link_sum_stack(self, segments=('root',)):\n",
    "    \n",
    "    df = self.loaded_links.copy()\n",
    "    columns = []\n",
    "    for segment in segments:\n",
    "        columns += [(segment, c) for c in ['boardings']]\n",
    "\n",
    "    to_concat = [\n",
    "        df[columns + ['route_type', 'route_id','trip_id'] ]]\n",
    "    \n",
    "    columns = ['length', 'time']\n",
    "    \n",
    "    for segment in segments:\n",
    "        pool = df[columns].apply(lambda c: c*df[segment])\n",
    "        pool.columns = [(segment, c) for c in columns]\n",
    "        to_concat.append(pool)\n",
    "        \n",
    "    idf = pd.concat(to_concat, axis=1)\n",
    "\n",
    "    g = idf.groupby(['route_type', 'route_id','trip_id']).sum()\n",
    "    g.columns = pd.MultiIndex.from_tuples(g.columns)\n",
    "    stack = g.stack().stack()\n",
    "    stack.index.names = ['route_type', 'route_id','trip_id', 'indicator', 'segment']\n",
    "    stack.name = 'sum'\n",
    "    return stack"
   ]
  },
  {
   "cell_type": "code",
   "execution_count": 9,
   "metadata": {
    "collapsed": true
   },
   "outputs": [],
   "source": [
    "def link_max_stack(self, segments=('root',)):\n",
    "    df = self.loaded_links\n",
    "    stack = df[\n",
    "        ['route_type', 'route_id','trip_id'] + segments\n",
    "    ].groupby(['route_type', 'route_id','trip_id']).max().stack()\n",
    "    stack.index.names = ['route_type', 'route_id','trip_id', 'segment']\n",
    "    stack.name = 'max'\n",
    "    return stack"
   ]
  },
  {
   "cell_type": "code",
   "execution_count": 10,
   "metadata": {
    "collapsed": true
   },
   "outputs": [],
   "source": [
    "sm.volumes = distributed.volumes.copy()\n",
    "sm.euclidean = distributed.euclidean\n",
    "sm.volumes.loc[sm.volumes['origin'] == sm.volumes['destination'], ['car', 'nocar']] = 0 "
   ]
  },
  {
   "cell_type": "code",
   "execution_count": 11,
   "metadata": {
    "collapsed": true
   },
   "outputs": [],
   "source": [
    "from tqdm import tqdm"
   ]
  },
  {
   "cell_type": "code",
   "execution_count": 12,
   "metadata": {
    "collapsed": true
   },
   "outputs": [],
   "source": [
    "stacks = {}\n",
    "stacks['revenues'] = revenue_stack(sm, ['car', 'nocar'])\n",
    "stacks['link_sum'] = link_sum_stack(sm, ['car', 'nocar'])\n",
    "stacks['link_max'] = link_max_stack(sm, ['car', 'nocar'])\n",
    "stacks['path_sum'] = path_sum_stack(sm, ['car', 'nocar'])\n",
    "\n",
    "def densify(series):\n",
    "    index = pd.MultiIndex.from_product(\n",
    "        series.index.levels,\n",
    "        names=series.index.names\n",
    "    )\n",
    "    dense = pd.Series(np.nan, index).fillna(series).fillna(0)\n",
    "    dense.name=series.name\n",
    "    return dense\n",
    "\n",
    "for name in 'revenues', 'path_sum':\n",
    "    stacks[name] = densify(stacks[name])\n",
    "    \n",
    "s = stacks['path_sum']\n",
    "us = s.unstack('indicator')\n",
    "us = us.apply(lambda c: c/us['count'])\n",
    "dense = us.fillna(0).stack()\n",
    "dense.name = 'average'\n",
    "stacks['path_average'] = dense"
   ]
  },
  {
   "cell_type": "code",
   "execution_count": 13,
   "metadata": {
    "collapsed": true
   },
   "outputs": [],
   "source": [
    "stack = stacks['path_sum'].reset_index()\n",
    "pt_route_types = list(set(stack['route_type']) - {'car', 'walk'})\n",
    "stack['route_type'] = stack['route_type'].apply(lambda rt: 'pt' if rt in pt_route_types else rt)\n",
    "\n",
    "total = stack.groupby(\n",
    "    ['route_type', 'indicator']\n",
    ").sum()\n",
    "\n",
    "us = total['sum'].unstack('indicator')\n",
    "share = (us['count'] / us['count'].sum())\n",
    "us = us.apply(lambda c: c/us['count'])\n",
    "us['share'] = share\n",
    "stack = us.stack()\n",
    "stack.name = 'average'\n",
    "stacks['aggregated_path_average'] = stack"
   ]
  },
  {
   "cell_type": "code",
   "execution_count": 14,
   "metadata": {
    "collapsed": true
   },
   "outputs": [],
   "source": [
    "def buffer_stack(sm):\n",
    "    sm = sm.copy()\n",
    "    r = range(1,11)\n",
    "    \n",
    "    heavy_nodes = set(sm.links.loc[sm.links['route_type'].isin(['subway', 'tram', 'express_bus', 'gondola'])]['a'])\n",
    "    for b in r:\n",
    "        buffer = geometry.MultiPoint(list(sm.nodes.loc[heavy_nodes]['geometry'])).buffer(b * 100)\n",
    "\n",
    "        def in_buffer_ratio(geometry):\n",
    "            return (geometry.intersection(buffer).area) / geometry.area\n",
    "\n",
    "        sm.zones['ib' + str(b * 100)] = sm.zones['geometry'].apply(in_buffer_ratio)\n",
    "    right = sm.zones[['ib' + str(b * 100) for b in r]].apply(lambda c: c*sm.zones['pop'])\n",
    "    right.columns = [i * 100 for i in list(r)]\n",
    "    \n",
    "    tot = sm.zones['pop'].sum()\n",
    "    s = right.sum() / tot\n",
    "    s.name = 'ratio'\n",
    "    s.index.name = 'distance'\n",
    "    return s\n",
    "\n",
    "stacks['buffer'] = buffer_stack(sm)"
   ]
  },
  {
   "cell_type": "code",
   "execution_count": 15,
   "metadata": {
    "collapsed": true
   },
   "outputs": [],
   "source": [
    "parameter_stack = parameter_frame[scenario]\n",
    "parameter_stack.name = 'value'\n",
    "stacks['parameters'] =  parameter_stack"
   ]
  },
  {
   "cell_type": "markdown",
   "metadata": {},
   "source": [
    "# write"
   ]
  },
  {
   "cell_type": "code",
   "execution_count": 16,
   "metadata": {
    "collapsed": true
   },
   "outputs": [],
   "source": [
    "import pandas as pd\n",
    "with pd.ExcelWriter(quetzal_path + scenario + '/stacks.xlsx') as writer:  # doctest: +SKIP\n",
    "    for name, stack in stacks.items():\n",
    "        stack.to_excel(writer, sheet_name=name, index=False)"
   ]
  },
  {
   "cell_type": "markdown",
   "metadata": {},
   "source": [
    "# buffer"
   ]
  },
  {
   "cell_type": "markdown",
   "metadata": {},
   "source": [
    "# Temps moyen TC pondéré par zone"
   ]
  },
  {
   "cell_type": "code",
   "execution_count": 22,
   "metadata": {
    "collapsed": true
   },
   "outputs": [],
   "source": [
    "def link_plot(scenario, sm=None, *args, **kwargs):\n",
    "    sm = reader[scenario].copy() if sm==None else sm\n",
    "    l = gpd.GeoDataFrame(sm.links.copy()).dropna(subset=['route_type'])\n",
    "\n",
    "    d = {\n",
    "        'subway': syscolors.rainbow_shades[0],\n",
    "        'tram': syscolors.rainbow_shades[1],\n",
    "        'express_bus': syscolors.rainbow_shades[1],\n",
    "        'gondola': syscolors.rainbow_shades[3],\n",
    "    }\n",
    "    \n",
    "    road_ax = sm.plot('road_links', color='grey', linewidth=0.05, figsize=[17, 15])\n",
    "    #road_ax = sm.plot('links', color='grey', linewidth=0.05, figsize=[17, 15])\n",
    "\n",
    "    for route_type, color in d.items():\n",
    "        \n",
    "        p = l.copy()\n",
    "        p = p.loc[p['route_type'] == route_type]\n",
    "        if len(p):\n",
    "            p.plot(linewidth=5, color=color, ax=road_ax, *args, **kwargs) #, ax=road_ax\n",
    "            p = p.loc[p['route_id'].isin(['m1', 'm2', 'tele_este'])]\n",
    "            if len(p):\n",
    "                p.plot(linewidth=5, color=color, ax=road_ax)\n",
    "        \n",
    "    plot = road_ax\n",
    "    \n",
    "    plot.set_yticks([])\n",
    "    plot.set_xticks([])\n",
    "    \n",
    "    title = 'lines_%s' % scenario\n",
    "    plot.set_title(title)\n",
    "    fig = plot.get_figure()\n",
    "    fig.savefig(plot_path + title + '.png', bbox_inches='tight')\n"
   ]
  },
  {
   "cell_type": "code",
   "execution_count": 23,
   "metadata": {
    "collapsed": true
   },
   "outputs": [],
   "source": [
    "import matplotlib.pyplot as plt"
   ]
  },
  {
   "cell_type": "code",
   "execution_count": 24,
   "metadata": {
    "collapsed": true
   },
   "outputs": [],
   "source": [
    "if False:\n",
    "    both = sm.copy()\n",
    "    both.links = pd.concat([sm.links, ref.links.loc[ref.links['route_id'] == 'm2']])\n",
    "    link_plot(scenario, sm=both)"
   ]
  },
  {
   "cell_type": "code",
   "execution_count": 33,
   "metadata": {
    "collapsed": true
   },
   "outputs": [],
   "source": [
    "spectral = list(reversed(['#9e0142','#d53e4f','#f46d43','#fdae61','#fee08b','#e6f598','#abdda4','#66c2a5','#3288bd','#5e4fa2']))\n",
    "from shapely import geometry\n",
    "def bandwidth(df, value, power=1, scale=1, legend_values=None, cmap=spectral, dynamic_width=True,  n_category=10, *args, **kwargs):\n",
    "\n",
    "    if legend_values is None:\n",
    "        s = df[value].copy()\n",
    "        r = int(np.log10(s.mean())) \n",
    "        legend_values = [np.round(s.quantile(i/5), -r) for i in range(6)]\n",
    "    \n",
    "    df = df[[value, 'geometry']].copy().fillna(0)\n",
    "    df = df.loc[df[value] > 0]\n",
    "    mls = geometry.MultiPoint(list(df['geometry'].apply(lambda g: g.centroid)))\n",
    "\n",
    "    b = mls.bounds\n",
    "    delta = b[2] - b[0]\n",
    "    rank = 0\n",
    "    dx = delta /3 / len(legend_values)\n",
    "    data = []\n",
    "    for v in reversed(legend_values):\n",
    "        g = geometry.LineString([\n",
    "            ( b[2] - rank * dx, (b[1] + b[1]) / 2),\n",
    "            ( b[2] - (rank + 1)*dx, (b[1] + b[1]) / 2)]\n",
    "        )\n",
    "        rank += 1\n",
    "        data.append([v, g, str(v)])\n",
    "        to_concat = pd.DataFrame(data, columns=[value, 'geometry', 'label'])\n",
    "    df = pd.concat([df, to_concat])\n",
    "    \n",
    "    df = df.loc[df[value] > 0]\n",
    "    plot = gpd.GeoDataFrame(df).plot(linewidth=0.1, color='grey', *args, **kwargs)\n",
    "    \n",
    "    power_series = (np.power(df[value], power))\n",
    "    max_value = power_series.max()\n",
    "    \n",
    "\n",
    "    ratio = n_category / power_series.max()\n",
    "    df['cat'] = np.round(power_series * ratio).fillna(0) - 1\n",
    "    df = df.loc[df['cat']> 0]\n",
    "\n",
    "    plot.set_yticks([])\n",
    "    plot.set_xticks([])\n",
    "    \n",
    "    color_dict = dv.color_series(pd.Series(range(n_category)), cmap).to_dict()\n",
    "    for cat in tqdm(set(df['cat'])):\n",
    "        linewidth = cat*scale if dynamic_width else scale\n",
    "        pool = df.loc[df['cat'] == cat]\n",
    "        plot = gpd.GeoDataFrame(pool).plot(linewidth=linewidth, ax=plot, color=color_dict[int(cat)]) \n",
    "       \n",
    "\n",
    "    to_concat.apply(\n",
    "        lambda x: plot.annotate(\n",
    "            s=x[value], xy=x.geometry.centroid.coords[0], ha='center', va='bottom'\n",
    "        ),axis=1\n",
    "    )\n",
    "    return plot\n",
    "\n",
    "def loaded_plot(scenario, *args, **kwargs):\n",
    "    sm = reader[scenario].copy()\n",
    "\n",
    "    i_links = sm.loaded_links.loc[sm.loaded_links.road_length.isnull()]\n",
    "    df = pd.concat([i_links, sm.road_links])\n",
    "    columns = [('nocar', 'pt'), ('car', 'pt'), ('car', 'car'), 'geometry']\n",
    "    df['pt'] = df[('nocar', 'pt')].fillna(0) + df[ ('car', 'pt')].fillna(0)\n",
    "    df['car'] = df[('car', 'car')].fillna(0)\n",
    "    df['total'] = df['pt'] + df['car']\n",
    "    \n",
    "    for column in ['pt', 'car', 'total']:\n",
    "        #road_ax = sm.plot('road_links', color='grey', linewidth=0.05, figsize=[17, 15])\n",
    "        road_ax = sm.plot('links', color='grey', linewidth=0.05, figsize=[17, 15])\n",
    "        plot = bandwidth(df.loc[df[column] > 0], value=column, figsize=[17, 15], ax=road_ax,*args, **kwargs)\n",
    "\n",
    "        title = 'loaded_%s_%s' % (column, scenario)\n",
    "        plot.set_title(title)\n",
    "        fig = plot.get_figure()\n",
    "        fig.savefig(plot_path + title + '.png', bbox_inches='tight', dpi=300)\n"
   ]
  },
  {
   "cell_type": "code",
   "execution_count": 30,
   "metadata": {
    "collapsed": true
   },
   "outputs": [],
   "source": [
    "\n",
    "\n",
    "def time_plot(scenario, *args, **kwargs):\n",
    "    sm = reader[scenario].copy()\n",
    "    left = pd.concat([sm.car_los, sm.pt_los])\n",
    "    right = sm.volumes[['origin', 'destination', 'car', 'nocar']]\n",
    "\n",
    "    df = pd.merge(left, right, on=['origin', 'destination'])\n",
    "    df = pd.merge(df, sm.euclidean[['origin', 'destination', 'km']], on=['origin', 'destination'])\n",
    "\n",
    "    for segment in ['car', 'nocar']:\n",
    "        df[(segment, 'volume')] = df[segment]*df[(segment, 'probability')].fillna(0)\n",
    "\n",
    "    def time(zone, segment):\n",
    "        pool = df.loc[df['origin'] == zone]\n",
    "        if segment == 'car':\n",
    "            pool = pool.loc[pool['route_type'] == 'car']\n",
    "        try:\n",
    "            return np.average(pool['time'], weights=pool[(segment, 'volume')])\n",
    "        except ZeroDivisionError:\n",
    "            return np.nan\n",
    "    zones = sm.zones.copy()\n",
    "    for segment in ['car', 'nocar']:\n",
    "        zones[(segment, 'time')] = zones['index'].apply(lambda z: time(z, segment)) / 60\n",
    "    zones[('delta', 'time')] = zones[('nocar', 'time')] - zones[('car', 'time')]\n",
    "    \n",
    "\n",
    "    lv = [10, 20, 30, 40, 50, 60, 70, 80, 90, 100 ]\n",
    "\n",
    "    plot = bandwidth(\n",
    "        zones, value=('car','time'), power=1, figsize=[17, 15], \n",
    "        legend_values=lv,  scale=25, n_category=20, dynamic_width=False)\n",
    "    title = 'average_time_car_%s' % scenario\n",
    "    plot.set_title(title)\n",
    "    fig = plot.get_figure()\n",
    "    fig.savefig(plot_path + title + '.png', bbox_inches='tight')\n",
    "\n",
    "    plot = bandwidth(\n",
    "        zones, value=('nocar','time'), power=1, figsize=[17, 15], \n",
    "        legend_values=lv,  scale=25, n_category=20)\n",
    "\n",
    "    title = 'average_time_nocar_%s' % scenario\n",
    "\n",
    "    fig.savefig(plot_path + title + '.png', bbox_inches='tight')\n",
    "\n",
    "    lv = [5, 10, 15, 20, 25, 30, 35, 40, 45, 50, 55, 60]\n",
    "    plot = bandwidth(\n",
    "        zones, value=('delta','time'), power=1, figsize=[17, 15], \n",
    "        legend_values=lv,  scale=25, n_category=20, dynamic_width=False)\n",
    "    title = 'average_time_delta_%s' % scenario\n",
    "    plot.set_title(title)\n",
    "    fig = plot.get_figure()\n",
    "    fig.savefig(plot_path + title + '.png', bbox_inches='tight')"
   ]
  },
  {
   "cell_type": "code",
   "execution_count": 31,
   "metadata": {
    "collapsed": true
   },
   "outputs": [],
   "source": [
    "def share_plot(scenario):\n",
    "    \n",
    "    sm = reader[scenario].copy()\n",
    "    zones = sm.zones.copy()\n",
    "    \n",
    "    left = pd.concat([sm.car_los, sm.pt_los])\n",
    "    right = sm.volumes[['origin', 'destination', 'car', 'nocar']]\n",
    "\n",
    "    df = pd.merge(left, right, on=['origin', 'destination'])\n",
    "    df = pd.merge(df, sm.euclidean[['origin', 'destination', 'km']], on=['origin', 'destination'])\n",
    "    for segment in ['car', 'nocar']:\n",
    "        df[(segment, 'volume')] = df[segment]*df[(segment, 'probability')].fillna(0)\n",
    "\n",
    "    df[('root', 'volume')] = df[('car', 'volume')] + df[('nocar', 'volume')]\n",
    "    osum = df.groupby(['origin']).sum()[('car', 'volume')]\n",
    "    mat = df.groupby(['origin', 'route_type']).sum()[('car', 'volume')].unstack('route_type')\n",
    "    zones['car_car_share'] = mat.apply(lambda s: s/osum)['car']\n",
    "    lv = [0.5,  0.6,  0.7, 0.8, 0.9]\n",
    "    plot = bandwidth(zones, value='car_car_share', power=3, figsize=[17, 15], legend_values=lv, scale=25, dynamic_width=False)\n",
    "\n",
    "    title = 'car_share_among_car_owners_%s' % scenario\n",
    "    plot.set_title(title)\n",
    "    fig = plot.get_figure()\n",
    "    fig.savefig(plot_path + title + '.png', bbox_inches='tight')\n",
    "\n",
    "    osum = df.groupby(['origin']).sum()[('root', 'volume')]\n",
    "    mat = df.groupby(['origin', 'route_type']).sum()[('root', 'volume')].unstack('route_type')\n",
    "    \n",
    "    \n",
    "    zones['root_car_share'] = mat.apply(lambda s: s/osum)['car']\n",
    "    lv = [0.1,0.2,0.3, 0.4, 0.5, 0.6, 0.7]\n",
    "    plot = bandwidth(\n",
    "        zones, value='root_car_share', power=1, figsize=[17, 15], \n",
    "        legend_values=lv,  scale=25, dynamic_width=False, n_category=20\n",
    "    )\n",
    "    title = 'car_share_%s' % scenario\n",
    "    plot.set_title(title)\n",
    "    fig = plot.get_figure()\n",
    "    fig.savefig(plot_path + title + '.png', bbox_inches='tight')"
   ]
  },
  {
   "cell_type": "code",
   "execution_count": 34,
   "metadata": {
    "scrolled": true
   },
   "outputs": [
    {
     "ename": "IndexError",
     "evalue": "too many indices for array",
     "output_type": "error",
     "traceback": [
      "\u001b[1;31m---------------------------------------------------------------------------\u001b[0m",
      "\u001b[1;31mIndexError\u001b[0m                                Traceback (most recent call last)",
      "\u001b[1;32m<ipython-input-34-48d42a0be826>\u001b[0m in \u001b[0;36m<module>\u001b[1;34m()\u001b[0m\n\u001b[1;32m----> 1\u001b[1;33m \u001b[0mlink_plot\u001b[0m\u001b[1;33m(\u001b[0m\u001b[0mscenario\u001b[0m\u001b[1;33m)\u001b[0m\u001b[1;33m\u001b[0m\u001b[1;33m\u001b[0m\u001b[0m\n\u001b[0m\u001b[0;32m      2\u001b[0m \u001b[0mloaded_plot\u001b[0m\u001b[1;33m(\u001b[0m\u001b[0mscenario\u001b[0m\u001b[1;33m,\u001b[0m \u001b[0mn_category\u001b[0m\u001b[1;33m=\u001b[0m\u001b[1;36m20\u001b[0m\u001b[1;33m,\u001b[0m \u001b[0mscale\u001b[0m\u001b[1;33m=\u001b[0m\u001b[1;36m0.5\u001b[0m\u001b[1;33m,\u001b[0m \u001b[0mpower\u001b[0m\u001b[1;33m=\u001b[0m\u001b[1;36m0.5\u001b[0m\u001b[1;33m,\u001b[0m \u001b[0mlegend_values\u001b[0m\u001b[1;33m=\u001b[0m\u001b[1;33m(\u001b[0m\u001b[1;36m15000\u001b[0m\u001b[1;33m,\u001b[0m \u001b[1;36m10000\u001b[0m\u001b[1;33m,\u001b[0m \u001b[1;36m7000\u001b[0m\u001b[1;33m,\u001b[0m  \u001b[1;36m5000\u001b[0m\u001b[1;33m,\u001b[0m \u001b[1;36m3500\u001b[0m\u001b[1;33m,\u001b[0m \u001b[1;36m2000\u001b[0m\u001b[1;33m,\u001b[0m \u001b[1;36m1000\u001b[0m\u001b[1;33m)\u001b[0m\u001b[1;33m)\u001b[0m\u001b[1;33m\u001b[0m\u001b[1;33m\u001b[0m\u001b[0m\n\u001b[0;32m      3\u001b[0m \u001b[0mtime_plot\u001b[0m\u001b[1;33m(\u001b[0m\u001b[0mscenario\u001b[0m\u001b[1;33m)\u001b[0m\u001b[1;33m\u001b[0m\u001b[1;33m\u001b[0m\u001b[0m\n\u001b[0;32m      4\u001b[0m \u001b[0mshare_plot\u001b[0m\u001b[1;33m(\u001b[0m\u001b[0mscenario\u001b[0m\u001b[1;33m)\u001b[0m\u001b[1;33m\u001b[0m\u001b[1;33m\u001b[0m\u001b[0m\n",
      "\u001b[1;32m<ipython-input-22-d3e06656615e>\u001b[0m in \u001b[0;36mlink_plot\u001b[1;34m(scenario, sm, *args, **kwargs)\u001b[0m\n\u001b[0;32m     11\u001b[0m \u001b[1;33m\u001b[0m\u001b[0m\n\u001b[0;32m     12\u001b[0m     \u001b[1;31m#road_ax = sm.plot('road_links', color='grey', linewidth=0.05, figsize=[17, 15])\u001b[0m\u001b[1;33m\u001b[0m\u001b[1;33m\u001b[0m\u001b[1;33m\u001b[0m\u001b[0m\n\u001b[1;32m---> 13\u001b[1;33m     \u001b[0mroad_ax\u001b[0m \u001b[1;33m=\u001b[0m \u001b[0msm\u001b[0m\u001b[1;33m.\u001b[0m\u001b[0mplot\u001b[0m\u001b[1;33m(\u001b[0m\u001b[1;34m'links'\u001b[0m\u001b[1;33m,\u001b[0m \u001b[0mcolor\u001b[0m\u001b[1;33m=\u001b[0m\u001b[1;34m'grey'\u001b[0m\u001b[1;33m,\u001b[0m \u001b[0mlinewidth\u001b[0m\u001b[1;33m=\u001b[0m\u001b[1;36m0.05\u001b[0m\u001b[1;33m,\u001b[0m \u001b[0mfigsize\u001b[0m\u001b[1;33m=\u001b[0m\u001b[1;33m[\u001b[0m\u001b[1;36m17\u001b[0m\u001b[1;33m,\u001b[0m \u001b[1;36m15\u001b[0m\u001b[1;33m]\u001b[0m\u001b[1;33m)\u001b[0m\u001b[1;33m\u001b[0m\u001b[1;33m\u001b[0m\u001b[0m\n\u001b[0m\u001b[0;32m     14\u001b[0m \u001b[1;33m\u001b[0m\u001b[0m\n\u001b[0;32m     15\u001b[0m     \u001b[1;32mfor\u001b[0m \u001b[0mroute_type\u001b[0m\u001b[1;33m,\u001b[0m \u001b[0mcolor\u001b[0m \u001b[1;32min\u001b[0m \u001b[0md\u001b[0m\u001b[1;33m.\u001b[0m\u001b[0mitems\u001b[0m\u001b[1;33m(\u001b[0m\u001b[1;33m)\u001b[0m\u001b[1;33m:\u001b[0m\u001b[1;33m\u001b[0m\u001b[1;33m\u001b[0m\u001b[0m\n",
      "\u001b[1;32mJ:\\PT\\Etudes\\Republique_Dominicaine\\FR01T18C19_PMUS GSD\\C - TRAVAIL\\7 Quentin\\quetzal\\quetzal\\model\\model.py\u001b[0m in \u001b[0;36mplot\u001b[1;34m(self, attribute, *args, **kwargs)\u001b[0m\n\u001b[0;32m    190\u001b[0m     \u001b[1;32mdef\u001b[0m \u001b[0mplot\u001b[0m\u001b[1;33m(\u001b[0m\u001b[0mself\u001b[0m\u001b[1;33m,\u001b[0m \u001b[0mattribute\u001b[0m\u001b[1;33m,\u001b[0m \u001b[1;33m*\u001b[0m\u001b[0margs\u001b[0m\u001b[1;33m,\u001b[0m \u001b[1;33m**\u001b[0m\u001b[0mkwargs\u001b[0m\u001b[1;33m)\u001b[0m\u001b[1;33m:\u001b[0m\u001b[1;33m\u001b[0m\u001b[1;33m\u001b[0m\u001b[0m\n\u001b[0;32m    191\u001b[0m         \u001b[0mgdf\u001b[0m \u001b[1;33m=\u001b[0m \u001b[0mgpd\u001b[0m\u001b[1;33m.\u001b[0m\u001b[0mGeoDataFrame\u001b[0m\u001b[1;33m(\u001b[0m\u001b[0mself\u001b[0m\u001b[1;33m.\u001b[0m\u001b[0m__dict__\u001b[0m\u001b[1;33m[\u001b[0m\u001b[0mattribute\u001b[0m\u001b[1;33m]\u001b[0m\u001b[1;33m)\u001b[0m\u001b[1;33m\u001b[0m\u001b[1;33m\u001b[0m\u001b[0m\n\u001b[1;32m--> 192\u001b[1;33m         \u001b[1;32mreturn\u001b[0m \u001b[0mgdf\u001b[0m\u001b[1;33m.\u001b[0m\u001b[0mplot\u001b[0m\u001b[1;33m(\u001b[0m\u001b[1;33m*\u001b[0m\u001b[0margs\u001b[0m\u001b[1;33m,\u001b[0m \u001b[1;33m**\u001b[0m\u001b[0mkwargs\u001b[0m\u001b[1;33m)\u001b[0m\u001b[1;33m\u001b[0m\u001b[1;33m\u001b[0m\u001b[0m\n\u001b[0m\u001b[0;32m    193\u001b[0m \u001b[1;33m\u001b[0m\u001b[0m\n\u001b[0;32m    194\u001b[0m     \u001b[1;32mdef\u001b[0m \u001b[0mread_hdf\u001b[0m\u001b[1;33m(\u001b[0m\u001b[0mself\u001b[0m\u001b[1;33m,\u001b[0m \u001b[0mfilepath\u001b[0m\u001b[1;33m,\u001b[0m \u001b[0momitted_attributes\u001b[0m\u001b[1;33m=\u001b[0m\u001b[1;33m(\u001b[0m\u001b[1;33m)\u001b[0m\u001b[1;33m,\u001b[0m \u001b[0monly_attributes\u001b[0m\u001b[1;33m=\u001b[0m\u001b[1;32mNone\u001b[0m\u001b[1;33m)\u001b[0m\u001b[1;33m:\u001b[0m\u001b[1;33m\u001b[0m\u001b[1;33m\u001b[0m\u001b[0m\n",
      "\u001b[1;32mC:\\Users\\qchasserieau\\AppData\\Local\\Continuum\\Anaconda3\\lib\\site-packages\\geopandas\\geodataframe.py\u001b[0m in \u001b[0;36mplot\u001b[1;34m(self, *args, **kwargs)\u001b[0m\n\u001b[0;32m    467\u001b[0m     \u001b[1;32mdef\u001b[0m \u001b[0mplot\u001b[0m\u001b[1;33m(\u001b[0m\u001b[0mself\u001b[0m\u001b[1;33m,\u001b[0m \u001b[1;33m*\u001b[0m\u001b[0margs\u001b[0m\u001b[1;33m,\u001b[0m \u001b[1;33m**\u001b[0m\u001b[0mkwargs\u001b[0m\u001b[1;33m)\u001b[0m\u001b[1;33m:\u001b[0m\u001b[1;33m\u001b[0m\u001b[1;33m\u001b[0m\u001b[0m\n\u001b[0;32m    468\u001b[0m \u001b[1;33m\u001b[0m\u001b[0m\n\u001b[1;32m--> 469\u001b[1;33m         \u001b[1;32mreturn\u001b[0m \u001b[0mplot_dataframe\u001b[0m\u001b[1;33m(\u001b[0m\u001b[0mself\u001b[0m\u001b[1;33m,\u001b[0m \u001b[1;33m*\u001b[0m\u001b[0margs\u001b[0m\u001b[1;33m,\u001b[0m \u001b[1;33m**\u001b[0m\u001b[0mkwargs\u001b[0m\u001b[1;33m)\u001b[0m\u001b[1;33m\u001b[0m\u001b[1;33m\u001b[0m\u001b[0m\n\u001b[0m\u001b[0;32m    470\u001b[0m \u001b[1;33m\u001b[0m\u001b[0m\n\u001b[0;32m    471\u001b[0m     \u001b[0mplot\u001b[0m\u001b[1;33m.\u001b[0m\u001b[0m__doc__\u001b[0m \u001b[1;33m=\u001b[0m \u001b[0mplot_dataframe\u001b[0m\u001b[1;33m.\u001b[0m\u001b[0m__doc__\u001b[0m\u001b[1;33m\u001b[0m\u001b[1;33m\u001b[0m\u001b[0m\n",
      "\u001b[1;32mC:\\Users\\qchasserieau\\AppData\\Local\\Continuum\\Anaconda3\\lib\\site-packages\\geopandas\\plotting.py\u001b[0m in \u001b[0;36mplot_dataframe\u001b[1;34m(df, column, cmap, color, ax, categorical, legend, scheme, k, vmin, vmax, figsize, **style_kwds)\u001b[0m\n\u001b[0;32m    395\u001b[0m     \u001b[1;32mif\u001b[0m \u001b[0mcolumn\u001b[0m \u001b[1;32mis\u001b[0m \u001b[1;32mNone\u001b[0m\u001b[1;33m:\u001b[0m\u001b[1;33m\u001b[0m\u001b[1;33m\u001b[0m\u001b[0m\n\u001b[0;32m    396\u001b[0m         return plot_series(df.geometry, cmap=cmap, color=color, ax=ax,\n\u001b[1;32m--> 397\u001b[1;33m                            figsize=figsize, **style_kwds)\n\u001b[0m\u001b[0;32m    398\u001b[0m \u001b[1;33m\u001b[0m\u001b[0m\n\u001b[0;32m    399\u001b[0m     \u001b[1;32mif\u001b[0m \u001b[0mdf\u001b[0m\u001b[1;33m[\u001b[0m\u001b[0mcolumn\u001b[0m\u001b[1;33m]\u001b[0m\u001b[1;33m.\u001b[0m\u001b[0mdtype\u001b[0m \u001b[1;32mis\u001b[0m \u001b[0mnp\u001b[0m\u001b[1;33m.\u001b[0m\u001b[0mdtype\u001b[0m\u001b[1;33m(\u001b[0m\u001b[1;34m'O'\u001b[0m\u001b[1;33m)\u001b[0m\u001b[1;33m:\u001b[0m\u001b[1;33m\u001b[0m\u001b[1;33m\u001b[0m\u001b[0m\n",
      "\u001b[1;32mC:\\Users\\qchasserieau\\AppData\\Local\\Continuum\\Anaconda3\\lib\\site-packages\\geopandas\\plotting.py\u001b[0m in \u001b[0;36mplot_series\u001b[1;34m(s, cmap, color, ax, figsize, **style_kwds)\u001b[0m\n\u001b[0;32m    295\u001b[0m         \u001b[0mvalues_\u001b[0m \u001b[1;33m=\u001b[0m \u001b[0mvalues\u001b[0m\u001b[1;33m[\u001b[0m\u001b[0mline_idx\u001b[0m\u001b[1;33m]\u001b[0m \u001b[1;32mif\u001b[0m \u001b[0mcmap\u001b[0m \u001b[1;32melse\u001b[0m \u001b[1;32mNone\u001b[0m\u001b[1;33m\u001b[0m\u001b[1;33m\u001b[0m\u001b[0m\n\u001b[0;32m    296\u001b[0m         plot_linestring_collection(ax, lines, values_, color=color, cmap=cmap,\n\u001b[1;32m--> 297\u001b[1;33m                                    **style_kwds)\n\u001b[0m\u001b[0;32m    298\u001b[0m \u001b[1;33m\u001b[0m\u001b[0m\n\u001b[0;32m    299\u001b[0m     \u001b[1;31m# plot all Points in the same collection\u001b[0m\u001b[1;33m\u001b[0m\u001b[1;33m\u001b[0m\u001b[1;33m\u001b[0m\u001b[0m\n",
      "\u001b[1;32mC:\\Users\\qchasserieau\\AppData\\Local\\Continuum\\Anaconda3\\lib\\site-packages\\geopandas\\plotting.py\u001b[0m in \u001b[0;36mplot_linestring_collection\u001b[1;34m(ax, geoms, values, color, cmap, vmin, vmax, **kwargs)\u001b[0m\n\u001b[0;32m    148\u001b[0m         \u001b[0mkwargs\u001b[0m\u001b[1;33m[\u001b[0m\u001b[1;34m'color'\u001b[0m\u001b[1;33m]\u001b[0m \u001b[1;33m=\u001b[0m \u001b[0mcolor\u001b[0m\u001b[1;33m\u001b[0m\u001b[1;33m\u001b[0m\u001b[0m\n\u001b[0;32m    149\u001b[0m \u001b[1;33m\u001b[0m\u001b[0m\n\u001b[1;32m--> 150\u001b[1;33m     \u001b[0msegments\u001b[0m \u001b[1;33m=\u001b[0m \u001b[1;33m[\u001b[0m\u001b[0mnp\u001b[0m\u001b[1;33m.\u001b[0m\u001b[0marray\u001b[0m\u001b[1;33m(\u001b[0m\u001b[0mlinestring\u001b[0m\u001b[1;33m)\u001b[0m\u001b[1;33m[\u001b[0m\u001b[1;33m:\u001b[0m\u001b[1;33m,\u001b[0m \u001b[1;33m:\u001b[0m\u001b[1;36m2\u001b[0m\u001b[1;33m]\u001b[0m \u001b[1;32mfor\u001b[0m \u001b[0mlinestring\u001b[0m \u001b[1;32min\u001b[0m \u001b[0mgeoms\u001b[0m\u001b[1;33m]\u001b[0m\u001b[1;33m\u001b[0m\u001b[1;33m\u001b[0m\u001b[0m\n\u001b[0m\u001b[0;32m    151\u001b[0m     \u001b[0mcollection\u001b[0m \u001b[1;33m=\u001b[0m \u001b[0mLineCollection\u001b[0m\u001b[1;33m(\u001b[0m\u001b[0msegments\u001b[0m\u001b[1;33m,\u001b[0m \u001b[1;33m**\u001b[0m\u001b[0mkwargs\u001b[0m\u001b[1;33m)\u001b[0m\u001b[1;33m\u001b[0m\u001b[1;33m\u001b[0m\u001b[0m\n\u001b[0;32m    152\u001b[0m \u001b[1;33m\u001b[0m\u001b[0m\n",
      "\u001b[1;32mC:\\Users\\qchasserieau\\AppData\\Local\\Continuum\\Anaconda3\\lib\\site-packages\\geopandas\\plotting.py\u001b[0m in \u001b[0;36m<listcomp>\u001b[1;34m(.0)\u001b[0m\n\u001b[0;32m    148\u001b[0m         \u001b[0mkwargs\u001b[0m\u001b[1;33m[\u001b[0m\u001b[1;34m'color'\u001b[0m\u001b[1;33m]\u001b[0m \u001b[1;33m=\u001b[0m \u001b[0mcolor\u001b[0m\u001b[1;33m\u001b[0m\u001b[1;33m\u001b[0m\u001b[0m\n\u001b[0;32m    149\u001b[0m \u001b[1;33m\u001b[0m\u001b[0m\n\u001b[1;32m--> 150\u001b[1;33m     \u001b[0msegments\u001b[0m \u001b[1;33m=\u001b[0m \u001b[1;33m[\u001b[0m\u001b[0mnp\u001b[0m\u001b[1;33m.\u001b[0m\u001b[0marray\u001b[0m\u001b[1;33m(\u001b[0m\u001b[0mlinestring\u001b[0m\u001b[1;33m)\u001b[0m\u001b[1;33m[\u001b[0m\u001b[1;33m:\u001b[0m\u001b[1;33m,\u001b[0m \u001b[1;33m:\u001b[0m\u001b[1;36m2\u001b[0m\u001b[1;33m]\u001b[0m \u001b[1;32mfor\u001b[0m \u001b[0mlinestring\u001b[0m \u001b[1;32min\u001b[0m \u001b[0mgeoms\u001b[0m\u001b[1;33m]\u001b[0m\u001b[1;33m\u001b[0m\u001b[1;33m\u001b[0m\u001b[0m\n\u001b[0m\u001b[0;32m    151\u001b[0m     \u001b[0mcollection\u001b[0m \u001b[1;33m=\u001b[0m \u001b[0mLineCollection\u001b[0m\u001b[1;33m(\u001b[0m\u001b[0msegments\u001b[0m\u001b[1;33m,\u001b[0m \u001b[1;33m**\u001b[0m\u001b[0mkwargs\u001b[0m\u001b[1;33m)\u001b[0m\u001b[1;33m\u001b[0m\u001b[1;33m\u001b[0m\u001b[0m\n\u001b[0;32m    152\u001b[0m \u001b[1;33m\u001b[0m\u001b[0m\n",
      "\u001b[1;31mIndexError\u001b[0m: too many indices for array"
     ]
    },
    {
     "data": {
      "image/png": "[encoded data removed]",
      "text/plain": [
       "<Figure size 1224x1080 with 1 Axes>"
      ]
     },
     "metadata": {},
     "output_type": "display_data"
    }
   ],
   "source": [
    "link_plot(scenario)\n",
    "loaded_plot(scenario, n_category=20, scale=0.5, power=0.5, legend_values=(15000, 10000, 7000,  5000, 3500, 2000, 1000))\n",
    "time_plot(scenario)\n",
    "share_plot(scenario)"
   ]
  },
  {
   "cell_type": "code",
   "execution_count": null,
   "metadata": {
    "collapsed": true
   },
   "outputs": [],
   "source": []
  }
 ],
 "metadata": {
  "kernelspec": {
   "display_name": "Python 3",
   "language": "python",
   "name": "python3"
  },
  "language_info": {
   "codemirror_mode": {
    "name": "ipython",
    "version": 3
   },
   "file_extension": ".py",
   "mimetype": "text/x-python",
   "name": "python",
   "nbconvert_exporter": "python",
   "pygments_lexer": "ipython3",
   "version": "3.6.8"
  }
 },
 "nbformat": 4,
 "nbformat_minor": 2
}
