{
 "cells": [
  {
   "cell_type": "code",
   "execution_count": 3,
   "metadata": {
    "collapsed": true
   },
   "outputs": [],
   "source": [
    "work_path = r'../../../'\n",
    "quetzal_path = work_path + r'quetzal_santo_domingo/'"
   ]
  },
  {
   "cell_type": "code",
   "execution_count": 7,
   "metadata": {
    "collapsed": true
   },
   "outputs": [],
   "source": [
    "from tqdm import tqdm"
   ]
  },
  {
   "cell_type": "code",
   "execution_count": 4,
   "metadata": {
    "scrolled": true
   },
   "outputs": [],
   "source": [
    "import pandas as pd\n",
    "parameter_frame = pd.read_csv(quetzal_path + 'inputs/parameters.csv', sep=';', decimal=',').set_index(['category','parameter'])\n",
    "for c in parameter_frame.columns:\n",
    "    parent = parameter_frame[c][('general', 'parent')]\n",
    "    parameter_frame[c] = parameter_frame[c].fillna(parameter_frame[parent])\n",
    "\n",
    "scenario_list = list(parameter_frame.columns)"
   ]
  },
  {
   "cell_type": "code",
   "execution_count": 5,
   "metadata": {
    "collapsed": true
   },
   "outputs": [],
   "source": [
    "pool = {}\n",
    "\n"
   ]
  },
  {
   "cell_type": "code",
   "execution_count": 85,
   "metadata": {},
   "outputs": [
    {
     "data": {
      "text/plain": [
       "['ref_18',\n",
       " 'emd_18',\n",
       " 'freeze_distribution_18',\n",
       " 'freeze_modal_split_18',\n",
       " 'ref_30',\n",
       " 'oeste_ambos_30',\n",
       " 'oeste_ambos_freeze_30',\n",
       " 'oeste_metro_30',\n",
       " 'oeste_metro_freeze_30',\n",
       " 'oeste_tele_30',\n",
       " 'oeste_tele_freeze_30',\n",
       " 'sitp_30',\n",
       " 'sitp_con_integracion_30',\n",
       " 'integracion_parcial_30',\n",
       " 'gasolina_30',\n",
       " 'integracion_parcial_sin_aumento_30',\n",
       " 'sin integracion',\n",
       " 'integracion_total_30',\n",
       " 'integracion_parcial_50']"
      ]
     },
     "execution_count": 85,
     "metadata": {},
     "output_type": "execute_result"
    }
   ],
   "source": [
    "scenario_list"
   ]
  },
  {
   "cell_type": "code",
   "execution_count": 66,
   "metadata": {},
   "outputs": [
    {
     "name": "stderr",
     "output_type": "stream",
     "text": [
      "100%|██████████████████████████████████████████████████████████████████████████████████| 19/19 [00:03<00:00,  5.52it/s]\n"
     ]
    }
   ],
   "source": [
    "df_dict = pd.read_excel(quetzal_path + 'model/ref_18' + '/stacks.xlsx', sheetname=None)\n",
    "for key in df_dict.keys():\n",
    "    pool[key] = []\n",
    "for scenario in tqdm(scenario_list):\n",
    "    df_dict = pd.read_excel(quetzal_path + r'model/' + scenario + '/stacks.xlsx', sheetname=None)\n",
    "    for key, value in df_dict.items():\n",
    "        \n",
    "        value['scenario'] = scenario\n",
    "        col = [c for c in value.columns if 'scenario' not in c]\n",
    "        col.insert(-1, 'scenario')\n",
    "        value = value[col]\n",
    "        pool[key].append(value)"
   ]
  },
  {
   "cell_type": "code",
   "execution_count": 83,
   "metadata": {
    "collapsed": true
   },
   "outputs": [],
   "source": [
    "stacks = {k: pd.concat(v) for k, v in pool.items()}\n",
    "s = stacks['path_sum'].copy()\n",
    "s = s.loc[(s['segment'] == 'car') & (s['indicator'] == 'in_vehicle_length') & (s['route_type'] == 'car')]\n",
    "s = s[['segment', 'route_type', 'scenario', 'sum']]\n",
    "s.columns = ['segment', 'route_type', 'scenario', 'in_vehicle_length']\n",
    "stacks['modelo_car'] = s"
   ]
  },
  {
   "cell_type": "code",
   "execution_count": 84,
   "metadata": {
    "collapsed": true
   },
   "outputs": [],
   "source": [
    "with pd.ExcelWriter(quetzal_path + r'outputs/'+ 'stacks.xlsx') as writer:  # doctest: +SKIP\n",
    "    for name, stack in stacks.items():\n",
    "        stack.to_excel(writer, sheet_name=name, index=False)"
   ]
  }
 ],
 "metadata": {
  "kernelspec": {
   "display_name": "Python 3",
   "language": "python",
   "name": "python3"
  },
  "language_info": {
   "codemirror_mode": {
    "name": "ipython",
    "version": 3
   },
   "file_extension": ".py",
   "mimetype": "text/x-python",
   "name": "python",
   "nbconvert_exporter": "python",
   "pygments_lexer": "ipython3",
   "version": "3.6.8"
  }
 },
 "nbformat": 4,
 "nbformat_minor": 2
}
