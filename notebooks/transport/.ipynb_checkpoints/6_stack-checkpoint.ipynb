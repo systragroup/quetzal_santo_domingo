{
 "cells": [
  {
   "cell_type": "code",
   "execution_count": 69,
   "metadata": {
    "collapsed": true
   },
   "outputs": [],
   "source": [
    "import sys\n",
    "if 'ipykernel_launcher.py' not in sys.argv[0]:\n",
    "    manual = False\n",
    "    scenario = sys.argv[1]\n",
    "else:\n",
    "    manual = True\n",
    "    scenario = 'oeste_metro_30'\n",
    "    %matplotlib inline"
   ]
  },
  {
   "cell_type": "code",
   "execution_count": 70,
   "metadata": {
    "collapsed": true
   },
   "outputs": [],
   "source": [
    "import geopandas as gpd\n",
    "import pandas as pd\n",
    "import numpy as np\n",
    "\n",
    "work_path = r'../../../'\n",
    "quetzal_path = work_path + r'quetzal_santo_domingo/model/'\n",
    "\n",
    "plot_path = work_path + r'plot/scenarios/'\n",
    "import sys\n",
    "sys.path.insert(0, '../../../quetzal/')\n",
    "\n",
    "from quetzal.model import stepmodel"
   ]
  },
  {
   "cell_type": "code",
   "execution_count": 71,
   "metadata": {
    "collapsed": true
   },
   "outputs": [],
   "source": [
    "from shapely import geometry"
   ]
  },
  {
   "cell_type": "code",
   "execution_count": 72,
   "metadata": {},
   "outputs": [
    {
     "name": "stderr",
     "output_type": "stream",
     "text": [
      "read_hdf: : 100%|██████████████████████████████████████████████████████████████████████| 34/34 [00:07<00:00,  4.79it/s]\n"
     ]
    }
   ],
   "source": [
    "sm =  stepmodel.read_zip(quetzal_path + scenario +  '/assigned.zip')"
   ]
  },
  {
   "cell_type": "code",
   "execution_count": 73,
   "metadata": {
    "collapsed": true
   },
   "outputs": [],
   "source": [
    "sm.volumes.loc[sm.volumes['origin'] == sm.volumes['destination'], ['car', 'nocar']] = 0 "
   ]
  },
  {
   "cell_type": "code",
   "execution_count": 74,
   "metadata": {},
   "outputs": [
    {
     "name": "stdout",
     "output_type": "stream",
     "text": [
      "['bus', 'concho', 'express_bus', 'gondola', 'minibus', 'subway', 'tram']\n"
     ]
    }
   ],
   "source": [
    "pt = list(sm.mode_nests.reset_index().set_index('root').loc['pt']['route_type'])\n",
    "print(pt)"
   ]
  },
  {
   "cell_type": "code",
   "execution_count": 75,
   "metadata": {
    "collapsed": true
   },
   "outputs": [],
   "source": [
    "sm.summary_earning(['car', 'nocar'], inplace=True, dense=True)\n",
    "sm.summary_link_max( ['car', 'nocar'], inplace=True)\n",
    "sm.summary_link_sum(['car', 'nocar'], inplace=True)\n",
    "sm.summary_path_sum(['car', 'nocar'], inplace=True, dense=True)\n",
    "sm.summary_path_average(['car', 'nocar'], inplace=True, dense=True)\n",
    "sm.summary_aggregated_path_average(['car', 'nocar'], inplace=True, dense=True, pt_route_types=pt)"
   ]
  },
  {
   "cell_type": "code",
   "execution_count": 76,
   "metadata": {
    "collapsed": true,
    "scrolled": true
   },
   "outputs": [],
   "source": [
    "los = pd.concat([sm.pt_los, sm.car_los])\n",
    "los['mode'] = los['route_type']\n",
    "los.loc[los['route_type'].isin(pt), 'mode'] = 'pt'\n",
    "\n",
    "segments = ['car', 'nocar']\n",
    "columns = []\n",
    "\n",
    "los = pd.merge(\n",
    "    los, sm.volumes[['origin', 'destination'] +  segments], on=['origin', 'destination'], suffixes=['_old', ''])"
   ]
  },
  {
   "cell_type": "code",
   "execution_count": 77,
   "metadata": {
    "collapsed": true
   },
   "outputs": [],
   "source": [
    "costs =  ['price', 'time', 'in_vehicle_time', 'in_vehicle_length', 'ntransfers']\n",
    "for segment in segments:\n",
    "    los[(segment, 'volume')] = los[(segment, 'probability')] * los[segment]\n",
    "\n",
    "\n",
    "for segment in segments:\n",
    "    columns.append((segment, 'volume'))\n",
    "    for service in costs:\n",
    "        column = (segment, service)\n",
    "        columns.append(column)\n",
    "        los[column] = los[(segment, 'probability')] * los[service]\n",
    "\n",
    "df = los.groupby(['origin', 'destination', 'mode'])[columns].sum()      \n",
    "df.columns = pd.MultiIndex.from_tuples(df.columns)\n",
    "\n",
    "# add root (weighted mean of segments)\n",
    "\n",
    "df[('root', 'volume')] = sum([df[(segment, 'volume')].fillna(0) for segment in segments])\n",
    "\n",
    "weighted_sum = sum(\n",
    "    [\n",
    "        df[segment][costs].apply(lambda s: s * df[(segment, 'volume')]).fillna(0)\n",
    "        for segment in segments\n",
    "    ]      \n",
    ")\n",
    "\n",
    "for c in costs: \n",
    "    df[('root', c)] = (weighted_sum[c] / df[('root', 'volume')]).fillna(0)\n",
    "    \n",
    "df.columns.names = 'segment', 'sum'"
   ]
  },
  {
   "cell_type": "markdown",
   "metadata": {},
   "source": [
    "# write"
   ]
  },
  {
   "cell_type": "code",
   "execution_count": 20,
   "metadata": {
    "collapsed": true
   },
   "outputs": [],
   "source": [
    "import pandas as pd\n",
    "\n",
    "stacks = {name[6:]: attr for name, attr in sm.__dict__.items() if name[:5] == 'stack'}\n",
    "with pd.ExcelWriter(quetzal_path + scenario + '/stacks.xlsx') as writer:  \n",
    "    for name, stack in stacks.items():\n",
    "        stack.reset_index().to_excel(writer, sheet_name=name, index=False)\n",
    "        \n",
    "df.stack('segment').to_csv(quetzal_path + scenario + '/od_stack.csv')"
   ]
  },
  {
   "cell_type": "markdown",
   "metadata": {},
   "source": [
    "# OLD"
   ]
  },
  {
   "cell_type": "code",
   "execution_count": 21,
   "metadata": {
    "collapsed": true
   },
   "outputs": [],
   "source": [
    "def buffer_stack(sm):\n",
    "    sm = sm.copy()\n",
    "    r = range(1,11)\n",
    "    \n",
    "    heavy_nodes = set(sm.links.loc[sm.links['route_type'].isin(['subway', 'tram', 'express_bus', 'gondola'])]['a'])\n",
    "    for b in r:\n",
    "        buffer = geometry.MultiPoint(list(sm.nodes.loc[heavy_nodes]['geometry'])).buffer(b * 100)\n",
    "\n",
    "        def in_buffer_ratio(geometry):\n",
    "            return (geometry.intersection(buffer).area) / geometry.area\n",
    "\n",
    "        sm.zones['ib' + str(b * 100)] = sm.zones['geometry'].apply(in_buffer_ratio)\n",
    "    right = sm.zones[['ib' + str(b * 100) for b in r]].apply(lambda c: c*sm.zones['pop'])\n",
    "    right.columns = [i * 100 for i in list(r)]\n",
    "    \n",
    "    tot = sm.zones['pop'].sum()\n",
    "    s = right.sum() / tot\n",
    "    s.name = 'ratio'\n",
    "    s.index.name = 'distance'\n",
    "    return s\n",
    "\n",
    "if False:\n",
    "    stacks['buffer'] = buffer_stack(sm)\n",
    "\n",
    "    parameter_stack = parameter_frame[scenario]\n",
    "    parameter_stack.name = 'value'\n",
    "    stacks['parameters'] =  parameter_stack"
   ]
  }
 ],
 "metadata": {
  "kernelspec": {
   "display_name": "Python 3",
   "language": "python",
   "name": "python3"
  },
  "language_info": {
   "codemirror_mode": {
    "name": "ipython",
    "version": 3
   },
   "file_extension": ".py",
   "mimetype": "text/x-python",
   "name": "python",
   "nbconvert_exporter": "python",
   "pygments_lexer": "ipython3",
   "version": "3.6.8"
  }
 },
 "nbformat": 4,
 "nbformat_minor": 2
}
