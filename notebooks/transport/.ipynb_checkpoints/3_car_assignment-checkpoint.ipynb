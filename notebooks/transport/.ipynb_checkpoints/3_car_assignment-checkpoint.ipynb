{
 "cells": [
  {
   "cell_type": "code",
   "execution_count": 31,
   "metadata": {
    "collapsed": true
   },
   "outputs": [],
   "source": [
    "import geopandas as gpd\n",
    "import pandas as pd\n",
    "\n",
    "work_path = r'../../../'\n",
    "quetzal_path = work_path + r'quetzal_santo_domingo/'\n",
    "\n",
    "import sys\n",
    "sys.path.insert(0, '../../../quetzal/')\n",
    "\n",
    "from quetzal.model import stepmodel"
   ]
  },
  {
   "cell_type": "code",
   "execution_count": 38,
   "metadata": {},
   "outputs": [
    {
     "name": "stderr",
     "output_type": "stream",
     "text": [
      "read_hdf: : 100%|██████████████████████████████████████████████████████████████████████| 27/27 [00:04<00:00,  6.34it/s]\n"
     ]
    }
   ],
   "source": [
    "sm = stepmodel.read_zip(quetzal_path + 'model/preparation/walkmodel.zip')"
   ]
  },
  {
   "cell_type": "code",
   "execution_count": 39,
   "metadata": {},
   "outputs": [
    {
     "name": "stderr",
     "output_type": "stream",
     "text": [
      "read_hdf: : 100%|██████████████████████████████████████████████████████████████████████| 29/29 [00:01<00:00, 25.73it/s]\n"
     ]
    }
   ],
   "source": [
    "distributed =  stepmodel.read_zip(quetzal_path + 'model/transport/distribution.zip')"
   ]
  },
  {
   "cell_type": "code",
   "execution_count": 40,
   "metadata": {
    "collapsed": true,
    "scrolled": true
   },
   "outputs": [],
   "source": [
    "sm.volumes = distributed.volumes"
   ]
  },
  {
   "cell_type": "code",
   "execution_count": 41,
   "metadata": {
    "collapsed": true
   },
   "outputs": [],
   "source": [
    "sm.zones = sm.zones.loc[set(sm.volumes['origin']).union(set(sm.volumes['destination']))]\n",
    "#sm = sm.change_epsg(epsg=32619, coordinates_unit='meter')"
   ]
  },
  {
   "cell_type": "code",
   "execution_count": 42,
   "metadata": {},
   "outputs": [],
   "source": [
    "sm.zone_to_road = sm.zone_to_road.loc[sm.zone_to_road['rank'] == 0]"
   ]
  },
  {
   "cell_type": "code",
   "execution_count": 43,
   "metadata": {
    "collapsed": true,
    "scrolled": true
   },
   "outputs": [],
   "source": [
    "car_speed = 5\n",
    "sm.road_links['capacity'] = 5000\n",
    "sm.road_links['length'] = sm.road_links['geometry'].apply(lambda g: g.length)\n",
    "sm.road_links['time'] = sm.road_links['length'] / car_speed"
   ]
  },
  {
   "cell_type": "code",
   "execution_count": 44,
   "metadata": {
    "collapsed": true
   },
   "outputs": [],
   "source": [
    "#sm.road_links.index = ['road_link_' + str(i) for i in sm.road_links.index]"
   ]
  },
  {
   "cell_type": "code",
   "execution_count": 45,
   "metadata": {
    "collapsed": true
   },
   "outputs": [],
   "source": [
    "sm.volumes['volume_car'] = sm.volumes['volume'] / 2"
   ]
  },
  {
   "cell_type": "code",
   "execution_count": 46,
   "metadata": {},
   "outputs": [
    {
     "data": {
      "text/html": [
       "<div>\n",
       "<style>\n",
       "    .dataframe thead tr:only-child th {\n",
       "        text-align: right;\n",
       "    }\n",
       "\n",
       "    .dataframe thead th {\n",
       "        text-align: left;\n",
       "    }\n",
       "\n",
       "    .dataframe tbody tr th {\n",
       "        vertical-align: top;\n",
       "    }\n",
       "</style>\n",
       "<table border=\"1\" class=\"dataframe\">\n",
       "  <thead>\n",
       "    <tr style=\"text-align: right;\">\n",
       "      <th></th>\n",
       "      <th>origin</th>\n",
       "      <th>destination</th>\n",
       "      <th>volume</th>\n",
       "      <th>motorizacion</th>\n",
       "      <th>car</th>\n",
       "      <th>nocar</th>\n",
       "      <th>survey_walk</th>\n",
       "      <th>survey_car</th>\n",
       "      <th>survey_pt</th>\n",
       "      <th>growth</th>\n",
       "      <th>...</th>\n",
       "      <th>nocar2030</th>\n",
       "      <th>car2035</th>\n",
       "      <th>nocar2035</th>\n",
       "      <th>car2040</th>\n",
       "      <th>nocar2040</th>\n",
       "      <th>car2045</th>\n",
       "      <th>nocar2045</th>\n",
       "      <th>car2050</th>\n",
       "      <th>nocar2050</th>\n",
       "      <th>volume_car</th>\n",
       "    </tr>\n",
       "  </thead>\n",
       "  <tbody>\n",
       "    <tr>\n",
       "      <th>0</th>\n",
       "      <td>zone_1</td>\n",
       "      <td>zone_1</td>\n",
       "      <td>3.706954e+03</td>\n",
       "      <td>0.545</td>\n",
       "      <td>6.950091e+02</td>\n",
       "      <td>5.802369e+02</td>\n",
       "      <td>583.104657</td>\n",
       "      <td>0.0</td>\n",
       "      <td>0.0</td>\n",
       "      <td>1.006</td>\n",
       "      <td>...</td>\n",
       "      <td>6.234206e+02</td>\n",
       "      <td>7.694070e+02</td>\n",
       "      <td>6.423490e+02</td>\n",
       "      <td>7.927679e+02</td>\n",
       "      <td>6.618521e+02</td>\n",
       "      <td>8.168381e+02</td>\n",
       "      <td>6.819474e+02</td>\n",
       "      <td>8.416390e+02</td>\n",
       "      <td>7.026528e+02</td>\n",
       "      <td>1.853477e+03</td>\n",
       "    </tr>\n",
       "    <tr>\n",
       "      <th>1</th>\n",
       "      <td>zone_1</td>\n",
       "      <td>zone_10</td>\n",
       "      <td>1.362500e+01</td>\n",
       "      <td>0.545</td>\n",
       "      <td>2.554523e+00</td>\n",
       "      <td>2.132675e+00</td>\n",
       "      <td>0.000000</td>\n",
       "      <td>0.0</td>\n",
       "      <td>0.0</td>\n",
       "      <td>1.006</td>\n",
       "      <td>...</td>\n",
       "      <td>2.291398e+00</td>\n",
       "      <td>2.827975e+00</td>\n",
       "      <td>2.360970e+00</td>\n",
       "      <td>2.913838e+00</td>\n",
       "      <td>2.432654e+00</td>\n",
       "      <td>3.002308e+00</td>\n",
       "      <td>2.506514e+00</td>\n",
       "      <td>3.093465e+00</td>\n",
       "      <td>2.582618e+00</td>\n",
       "      <td>6.812500e+00</td>\n",
       "    </tr>\n",
       "    <tr>\n",
       "      <th>2</th>\n",
       "      <td>zone_1</td>\n",
       "      <td>zone_101</td>\n",
       "      <td>2.021907e-15</td>\n",
       "      <td>0.545</td>\n",
       "      <td>3.790831e-16</td>\n",
       "      <td>3.164822e-16</td>\n",
       "      <td>0.000000</td>\n",
       "      <td>0.0</td>\n",
       "      <td>0.0</td>\n",
       "      <td>1.006</td>\n",
       "      <td>...</td>\n",
       "      <td>3.400361e-16</td>\n",
       "      <td>4.196624e-16</td>\n",
       "      <td>3.503604e-16</td>\n",
       "      <td>4.324043e-16</td>\n",
       "      <td>3.609981e-16</td>\n",
       "      <td>4.455330e-16</td>\n",
       "      <td>3.719587e-16</td>\n",
       "      <td>4.590603e-16</td>\n",
       "      <td>3.832522e-16</td>\n",
       "      <td>1.010953e-15</td>\n",
       "    </tr>\n",
       "    <tr>\n",
       "      <th>3</th>\n",
       "      <td>zone_1</td>\n",
       "      <td>zone_102</td>\n",
       "      <td>1.753460e+01</td>\n",
       "      <td>0.545</td>\n",
       "      <td>3.287525e+00</td>\n",
       "      <td>2.744631e+00</td>\n",
       "      <td>0.000000</td>\n",
       "      <td>0.0</td>\n",
       "      <td>0.0</td>\n",
       "      <td>1.006</td>\n",
       "      <td>...</td>\n",
       "      <td>2.948898e+00</td>\n",
       "      <td>3.639442e+00</td>\n",
       "      <td>3.038433e+00</td>\n",
       "      <td>3.749943e+00</td>\n",
       "      <td>3.130686e+00</td>\n",
       "      <td>3.863799e+00</td>\n",
       "      <td>3.225741e+00</td>\n",
       "      <td>3.981113e+00</td>\n",
       "      <td>3.323681e+00</td>\n",
       "      <td>8.767298e+00</td>\n",
       "    </tr>\n",
       "    <tr>\n",
       "      <th>4</th>\n",
       "      <td>zone_1</td>\n",
       "      <td>zone_103</td>\n",
       "      <td>2.372934e+00</td>\n",
       "      <td>0.545</td>\n",
       "      <td>4.448965e-01</td>\n",
       "      <td>3.714274e-01</td>\n",
       "      <td>0.000000</td>\n",
       "      <td>0.0</td>\n",
       "      <td>0.0</td>\n",
       "      <td>1.006</td>\n",
       "      <td>...</td>\n",
       "      <td>3.990705e-01</td>\n",
       "      <td>4.925209e-01</td>\n",
       "      <td>4.111872e-01</td>\n",
       "      <td>5.074749e-01</td>\n",
       "      <td>4.236717e-01</td>\n",
       "      <td>5.228830e-01</td>\n",
       "      <td>4.365353e-01</td>\n",
       "      <td>5.387588e-01</td>\n",
       "      <td>4.497895e-01</td>\n",
       "      <td>1.186467e+00</td>\n",
       "    </tr>\n",
       "  </tbody>\n",
       "</table>\n",
       "<p>5 rows × 27 columns</p>\n",
       "</div>"
      ],
      "text/plain": [
       "   origin destination        volume  motorizacion           car         nocar  \\\n",
       "0  zone_1      zone_1  3.706954e+03         0.545  6.950091e+02  5.802369e+02   \n",
       "1  zone_1     zone_10  1.362500e+01         0.545  2.554523e+00  2.132675e+00   \n",
       "2  zone_1    zone_101  2.021907e-15         0.545  3.790831e-16  3.164822e-16   \n",
       "3  zone_1    zone_102  1.753460e+01         0.545  3.287525e+00  2.744631e+00   \n",
       "4  zone_1    zone_103  2.372934e+00         0.545  4.448965e-01  3.714274e-01   \n",
       "\n",
       "   survey_walk  survey_car  survey_pt  growth      ...          nocar2030  \\\n",
       "0   583.104657         0.0        0.0   1.006      ...       6.234206e+02   \n",
       "1     0.000000         0.0        0.0   1.006      ...       2.291398e+00   \n",
       "2     0.000000         0.0        0.0   1.006      ...       3.400361e-16   \n",
       "3     0.000000         0.0        0.0   1.006      ...       2.948898e+00   \n",
       "4     0.000000         0.0        0.0   1.006      ...       3.990705e-01   \n",
       "\n",
       "        car2035     nocar2035       car2040     nocar2040       car2045  \\\n",
       "0  7.694070e+02  6.423490e+02  7.927679e+02  6.618521e+02  8.168381e+02   \n",
       "1  2.827975e+00  2.360970e+00  2.913838e+00  2.432654e+00  3.002308e+00   \n",
       "2  4.196624e-16  3.503604e-16  4.324043e-16  3.609981e-16  4.455330e-16   \n",
       "3  3.639442e+00  3.038433e+00  3.749943e+00  3.130686e+00  3.863799e+00   \n",
       "4  4.925209e-01  4.111872e-01  5.074749e-01  4.236717e-01  5.228830e-01   \n",
       "\n",
       "      nocar2045       car2050     nocar2050    volume_car  \n",
       "0  6.819474e+02  8.416390e+02  7.026528e+02  1.853477e+03  \n",
       "1  2.506514e+00  3.093465e+00  2.582618e+00  6.812500e+00  \n",
       "2  3.719587e-16  4.590603e-16  3.832522e-16  1.010953e-15  \n",
       "3  3.225741e+00  3.981113e+00  3.323681e+00  8.767298e+00  \n",
       "4  4.365353e-01  5.387588e-01  4.497895e-01  1.186467e+00  \n",
       "\n",
       "[5 rows x 27 columns]"
      ]
     },
     "execution_count": 46,
     "metadata": {},
     "output_type": "execute_result"
    }
   ],
   "source": [
    "sm.volumes.head()"
   ]
  },
  {
   "cell_type": "code",
   "execution_count": 47,
   "metadata": {},
   "outputs": [
    {
     "name": "stderr",
     "output_type": "stream",
     "text": [
      "100%|████████████████████████████████████████████████████████████████████████████████| 125/125 [00:35<00:00,  3.60it/s]\n"
     ]
    }
   ],
   "source": [
    "sm.step_road_pathfinder(all_or_nothing=True)"
   ]
  },
  {
   "cell_type": "code",
   "execution_count": 48,
   "metadata": {},
   "outputs": [
    {
     "name": "stderr",
     "output_type": "stream",
     "text": [
      "to_hdf(new file): 100%|████████████████████████████████████████████████████████████████| 35/35 [00:09<00:00,  2.95it/s]\n"
     ]
    }
   ],
   "source": [
    "sm.to_zip(quetzal_path + r'model/transport/car_pathfinder.zip')"
   ]
  },
  {
   "cell_type": "markdown",
   "metadata": {},
   "source": [
    "# CONSTRAINED"
   ]
  },
  {
   "cell_type": "code",
   "execution_count": null,
   "metadata": {
    "scrolled": true
   },
   "outputs": [],
   "source": [
    "constrained = sm.copy()\n",
    "constrained.step_road_pathfinder(maxiters=2, log=True, speedup=True, tolerance=0.001)"
   ]
  },
  {
   "cell_type": "code",
   "execution_count": null,
   "metadata": {},
   "outputs": [],
   "source": [
    "constrained.car_los.groupby(['origin', 'destination'])['time'].count().max()"
   ]
  },
  {
   "cell_type": "code",
   "execution_count": null,
   "metadata": {},
   "outputs": [],
   "source": [
    "len(constrained.car_los)"
   ]
  },
  {
   "cell_type": "code",
   "execution_count": null,
   "metadata": {},
   "outputs": [],
   "source": [
    "constrained.to_zip('transport/car_pathfinder.zip')"
   ]
  },
  {
   "cell_type": "code",
   "execution_count": null,
   "metadata": {
    "collapsed": true
   },
   "outputs": [],
   "source": [
    "free = sm.copy()\n",
    "free.step_road_pathfinder(maxiters=1)"
   ]
  },
  {
   "cell_type": "code",
   "execution_count": null,
   "metadata": {
    "collapsed": true
   },
   "outputs": [],
   "source": [
    "import numpy as np\n",
    "from syspy.syspy_utils import data_visualization as dv\n",
    "spectral = list(reversed(['#9e0142','#d53e4f','#f46d43','#fdae61','#fee08b','#e6f598','#abdda4','#66c2a5','#3288bd','#5e4fa2']))"
   ]
  },
  {
   "cell_type": "code",
   "execution_count": null,
   "metadata": {
    "collapsed": true
   },
   "outputs": [],
   "source": [
    "sm.road_links['volume_car'].max()"
   ]
  },
  {
   "cell_type": "code",
   "execution_count": null,
   "metadata": {
    "collapsed": true
   },
   "outputs": [],
   "source": [
    "np.power(2000, 0.3)"
   ]
  },
  {
   "cell_type": "code",
   "execution_count": null,
   "metadata": {
    "collapsed": true
   },
   "outputs": [],
   "source": [
    "sm = constrained.copy()\n",
    "sm.road_links['volume_car'] = sm.road_links['flow'].replace(0, np.nan)\n",
    "df = sm.road_links[['volume_car', 'geometry']].dropna(subset=['volume_car'])\n",
    "df['color'] = dv.color_series(np.power(df['volume_car'], 0.3), max_value=np.power(1500, 0.3),colors=spectral)\n",
    "df['width'] = dv.width_series(np.power(df['volume_car'], 0.3), max_value=np.power(3000, 0.3), outer_average_width=1)\n",
    "sm.constrained_loaded_road_links = df\n",
    "\n",
    "sm.to_json(\n",
    "    r'../model/latest', \n",
    "    only_attributes=['constrained_loaded_road_links']\n",
    ")"
   ]
  },
  {
   "cell_type": "code",
   "execution_count": null,
   "metadata": {
    "collapsed": true
   },
   "outputs": [],
   "source": [
    "sm = free.copy()\n",
    "sm.road_links['volume_car'] = sm.road_links['flow'].replace(0, np.nan)\n",
    "df = sm.road_links[['volume_car', 'geometry']].dropna(subset=['volume_car'])\n",
    "df['color'] = dv.color_series(np.power(df['volume_car'], 0.3), max_value=np.power(1500, 0.3),colors=spectral)\n",
    "df['width'] = dv.width_series(np.power(df['volume_car'], 0.3), max_value=np.power(3000, 0.3), outer_average_width=1)\n",
    "sm.free_loaded_road_links = df\n",
    "\n",
    "sm.to_json(\n",
    "    r'../model/latest', \n",
    "    only_attributes=['free_loaded_road_links']\n",
    ")"
   ]
  },
  {
   "cell_type": "code",
   "execution_count": null,
   "metadata": {
    "collapsed": true
   },
   "outputs": [],
   "source": [
    "from quetzal.io import display"
   ]
  },
  {
   "cell_type": "code",
   "execution_count": null,
   "metadata": {
    "collapsed": true
   },
   "outputs": [],
   "source": [
    "projected = constrained.change_epsg(epsg=4326, coordinates_unit='degree')"
   ]
  },
  {
   "cell_type": "code",
   "execution_count": null,
   "metadata": {
    "collapsed": true,
    "scrolled": true
   },
   "outputs": [],
   "source": [
    "projected.car_los.groupby(['origin', 'destination'])['phi'].count()"
   ]
  },
  {
   "cell_type": "code",
   "execution_count": null,
   "metadata": {
    "collapsed": true,
    "scrolled": true
   },
   "outputs": [],
   "source": [
    "od_paths = projected.car_los.set_index(['origin' ,'destination']).loc[('zone_99', 'zone_72')]\n",
    "assigned = raw_assignment.assign(list(od_paths['weight']), list(od_paths['link_path']))\n",
    "print(len(od_paths))\n",
    "rl = projected.road_links.copy().loc[assigned.index]\n",
    "rl['weight'] = assigned\n",
    "import matplotlib.pyplot as plt\n",
    "plt.rcParams['figure.figsize'] = [10, 10]\n",
    "gpd.GeoDataFrame(rl).plot(column='weight', cmap='RdYlGn_r')"
   ]
  },
  {
   "cell_type": "code",
   "execution_count": null,
   "metadata": {
    "collapsed": true,
    "scrolled": true
   },
   "outputs": [],
   "source": [
    "b = od_paths['link_path'].iloc[3]"
   ]
  },
  {
   "cell_type": "code",
   "execution_count": null,
   "metadata": {
    "collapsed": true
   },
   "outputs": [],
   "source": [
    "def diff(a, b):\n",
    "    return [i for i in a if i in (set(a) - set(b))]"
   ]
  },
  {
   "cell_type": "code",
   "execution_count": null,
   "metadata": {
    "collapsed": true
   },
   "outputs": [],
   "source": [
    "ax = gpd.GeoDataFrame(sm.road_links.loc[a]).plot()\n",
    "ax = gpd.GeoDataFrame(sm.road_links.loc[diff(a, b)]).plot(ax=ax, color='red')\n",
    "ax = gpd.GeoDataFrame(sm.road_links.loc[diff(b, a)]).plot(color='green', ax=ax)"
   ]
  },
  {
   "cell_type": "code",
   "execution_count": null,
   "metadata": {
    "collapsed": true,
    "scrolled": true
   },
   "outputs": [],
   "source": [
    "[i for i in a if i in (set(a) - set(b))]"
   ]
  },
  {
   "cell_type": "code",
   "execution_count": null,
   "metadata": {
    "collapsed": true,
    "scrolled": true
   },
   "outputs": [],
   "source": [
    "print()"
   ]
  },
  {
   "cell_type": "code",
   "execution_count": null,
   "metadata": {
    "collapsed": true
   },
   "outputs": [],
   "source": [
    "display.all_car_paths(projected, )"
   ]
  },
  {
   "cell_type": "code",
   "execution_count": null,
   "metadata": {
    "collapsed": true
   },
   "outputs": [],
   "source": []
  }
 ],
 "metadata": {
  "kernelspec": {
   "display_name": "Python 3",
   "language": "python",
   "name": "python3"
  },
  "language_info": {
   "codemirror_mode": {
    "name": "ipython",
    "version": 3
   },
   "file_extension": ".py",
   "mimetype": "text/x-python",
   "name": "python",
   "nbconvert_exporter": "python",
   "pygments_lexer": "ipython3",
   "version": "3.6.8"
  }
 },
 "nbformat": 4,
 "nbformat_minor": 2
}
