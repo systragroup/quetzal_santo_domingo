{
 "cells": [
  {
   "cell_type": "code",
   "execution_count": 25,
   "metadata": {},
   "outputs": [],
   "source": [
    "import sys\n",
    "if 'ipykernel_launcher.py' not in sys.argv[0]:\n",
    "    manual = False\n",
    "    scenario = sys.argv[1]\n",
    "else:\n",
    "    manual = True\n",
    "    scenario = 'ref_18'\n",
    "    %matplotlib inline"
   ]
  },
  {
   "cell_type": "code",
   "execution_count": 26,
   "metadata": {},
   "outputs": [],
   "source": [
    "import geopandas as gpd\n",
    "import pandas as pd\n",
    "import numpy as np\n",
    "\n",
    "work_path = r'../../'\n",
    "quetzal_path = work_path + r'model/'\n",
    "plot_path = work_path + r'outputs/plot/detail/'\n",
    "\n",
    "import sys\n",
    "sys.path.insert(0, '../../../quetzal/')\n",
    "\n",
    "from quetzal.model import stepmodel"
   ]
  },
  {
   "cell_type": "code",
   "execution_count": 27,
   "metadata": {},
   "outputs": [],
   "source": [
    "from shapely import geometry"
   ]
  },
  {
   "cell_type": "code",
   "execution_count": null,
   "metadata": {},
   "outputs": [
    {
     "name": "stderr",
     "output_type": "stream",
     "text": [
      "links:  29%|█████████████████████▍                                                     | 10/35 [00:00<00:01, 13.85it/s]"
     ]
    }
   ],
   "source": [
    "sm =  stepmodel.read_zip(quetzal_path + scenario +  '/assigned.zip')"
   ]
  },
  {
   "cell_type": "code",
   "execution_count": null,
   "metadata": {},
   "outputs": [],
   "source": [
    "sm.volumes.loc[sm.volumes['origin'] == sm.volumes['destination'], ['car', 'nocar']] = 0 "
   ]
  },
  {
   "cell_type": "code",
   "execution_count": null,
   "metadata": {},
   "outputs": [],
   "source": [
    "sm.loaded_links = sm.links"
   ]
  },
  {
   "cell_type": "markdown",
   "metadata": {},
   "source": [
    "# maps"
   ]
  },
  {
   "cell_type": "code",
   "execution_count": null,
   "metadata": {},
   "outputs": [],
   "source": [
    "from syspy.syspy_utils import data_visualization as dv\n",
    "from syspy.syspy_utils import syscolors\n",
    "spectral = list(reversed(['#9e0142','#d53e4f','#f46d43','#fdae61','#fee08b','#e6f598','#abdda4','#66c2a5','#3288bd','#5e4fa2']))\n",
    "from tqdm import tqdm"
   ]
  },
  {
   "cell_type": "code",
   "execution_count": null,
   "metadata": {},
   "outputs": [],
   "source": [
    "def link_plot(scenario, sm, *args, **kwargs):\n",
    "    sm = sm.copy()\n",
    "    l = gpd.GeoDataFrame(sm.links.copy()).dropna(subset=['route_type'])\n",
    "\n",
    "    d = {\n",
    "        'subway': syscolors.rainbow_shades[0],\n",
    "        'tram': syscolors.rainbow_shades[1],\n",
    "        'express_bus': syscolors.rainbow_shades[1],\n",
    "        'gondola': syscolors.rainbow_shades[3],\n",
    "    }\n",
    "    \n",
    "    road_ax = sm.plot('road_links', color='grey', linewidth=0.05, figsize=[17, 15])\n",
    "    #road_ax = sm.plot('links', color='grey', linewidth=0.05, figsize=[17, 15])\n",
    "\n",
    "    for route_type, color in d.items():\n",
    "        \n",
    "        p = l.copy()\n",
    "        p = p.loc[p['route_type'] == route_type]\n",
    "        if len(p):\n",
    "            p.plot(linewidth=5, color=color, ax=road_ax, *args, **kwargs) #, ax=road_ax\n",
    "            p = p.loc[p['route_id'].isin(['m1', 'm2', 'tele_este'])]\n",
    "            if len(p):\n",
    "                p.plot(linewidth=5, color=color, ax=road_ax)\n",
    "        \n",
    "    plot = road_ax\n",
    "    \n",
    "    plot.set_yticks([])\n",
    "    plot.set_xticks([])\n",
    "    \n",
    "    title = 'lines_%s' % scenario\n",
    "    plot.set_title(title)\n",
    "    fig = plot.get_figure()\n",
    "    fig.savefig(plot_path + title + '.png', bbox_inches='tight')"
   ]
  },
  {
   "cell_type": "code",
   "execution_count": null,
   "metadata": {},
   "outputs": [],
   "source": [
    "sm.loaded_links[('volume', 'pt')] = sm.loaded_links['volume']"
   ]
  },
  {
   "cell_type": "code",
   "execution_count": null,
   "metadata": {},
   "outputs": [],
   "source": [
    "def bandwidth(df, value, power=1, scale=1, legend_values=None, cmap=spectral, dynamic_width=True,  n_category=10, *args, **kwargs):\n",
    "\n",
    "    if legend_values is None:\n",
    "        s = df[value].copy()\n",
    "        r = int(np.log10(s.mean())) \n",
    "        legend_values = [np.round(s.quantile(i/5), -r) for i in range(6)]\n",
    "    \n",
    "    df = df[[value, 'geometry']].copy().fillna(0)\n",
    "    df = df.loc[df[value] > 0]\n",
    "    mls = geometry.MultiPoint(list(df['geometry'].apply(lambda g: g.centroid)))\n",
    "\n",
    "    b = mls.bounds\n",
    "    delta = b[2] - b[0]\n",
    "    rank = 0\n",
    "    dx = delta /3 / len(legend_values)\n",
    "    data = []\n",
    "    for v in reversed(legend_values):\n",
    "        g = geometry.LineString([\n",
    "            ( b[2] - rank * dx, (b[1] + b[1]) / 2),\n",
    "            ( b[2] - (rank + 1)*dx, (b[1] + b[1]) / 2)]\n",
    "        )\n",
    "        rank += 1\n",
    "        data.append([v, g, str(v)])\n",
    "        to_concat = pd.DataFrame(data, columns=[value, 'geometry', 'label'])\n",
    "    df = pd.concat([df, to_concat])\n",
    "    \n",
    "    df = df.loc[df[value] > 0]\n",
    "    plot = gpd.GeoDataFrame(df).plot(linewidth=0.1, color='grey', *args, **kwargs)\n",
    "    \n",
    "    power_series = (np.power(df[value], power))\n",
    "    max_value = power_series.max()\n",
    "    \n",
    "\n",
    "    ratio = n_category / power_series.max()\n",
    "    df['cat'] = np.round(power_series * ratio).fillna(0) - 1\n",
    "    df = df.loc[df['cat']> 0]\n",
    "\n",
    "    plot.set_yticks([])\n",
    "    plot.set_xticks([])\n",
    "    \n",
    "    color_dict = dv.color_series(pd.Series(range(n_category)), cmap).to_dict()\n",
    "    for cat in tqdm(set(df['cat'])):\n",
    "        linewidth = cat*scale if dynamic_width else scale\n",
    "        pool = df.loc[df['cat'] == cat]\n",
    "        plot = gpd.GeoDataFrame(pool).plot(linewidth=linewidth, ax=plot, color=color_dict[int(cat)]) \n",
    "       \n",
    "\n",
    "    to_concat.apply(\n",
    "        lambda x: plot.annotate(\n",
    "            s=x[value], xy=x.geometry.centroid.coords[0], ha='center', va='bottom'\n",
    "        ),axis=1\n",
    "    )\n",
    "    return plot\n",
    "\n",
    "def loaded_plot(scenario, sm, *args, **kwargs):\n",
    "    sm = sm.copy()\n",
    "\n",
    "    i_links = sm.loaded_links.loc[sm.loaded_links.road_length.isnull()]\n",
    "    df = pd.concat([i_links, sm.road_links])\n",
    "    columns = [('nocar', 'pt'), ('car', 'pt'), ('car', 'car'), 'geometry']\n",
    "    df['pt'] = df[('volume', 'pt')].fillna(0) \n",
    "    df['car'] = df[('volume', 'car')].fillna(0)\n",
    "    df['total'] = df['pt'] + df['car']\n",
    "    \n",
    "    for column in ['pt', 'car', 'total']:\n",
    "        #road_ax = sm.plot('road_links', color='grey', linewidth=0.05, figsize=[17, 15])\n",
    "        road_ax = sm.plot('links', color='grey', linewidth=0.05, figsize=[17, 15])\n",
    "        plot = bandwidth(df.loc[df[column] > 0], value=column, figsize=[17, 15], ax=road_ax,*args, **kwargs)\n",
    "\n",
    "        title = 'loaded_%s_%s' % (column, scenario)\n",
    "        plot.set_title(title)\n",
    "        fig = plot.get_figure()\n",
    "        fig.savefig(plot_path + title + '.png', bbox_inches='tight', dpi=300)\n"
   ]
  },
  {
   "cell_type": "code",
   "execution_count": null,
   "metadata": {},
   "outputs": [],
   "source": [
    "sm.car_los = sm.los.loc[sm.los['route_type'] == 'car']\n",
    "sm.pt_los = sm.los.loc[sm.los['route_type'] != 'car']"
   ]
  },
  {
   "cell_type": "code",
   "execution_count": null,
   "metadata": {},
   "outputs": [],
   "source": [
    "import os\n",
    "try:\n",
    "    os.mkdir('../../outputs')\n",
    "except FileExistsError:\n",
    "    pass\n",
    "try:\n",
    "    os.mkdir('../../outputs/plot')\n",
    "except FileExistsError:\n",
    "    pass\n",
    "try:\n",
    "    os.mkdir('../../outputs/plot/detail')\n",
    "except FileExistsError:\n",
    "    pass"
   ]
  },
  {
   "cell_type": "code",
   "execution_count": null,
   "metadata": {
    "scrolled": false
   },
   "outputs": [],
   "source": [
    "link_plot(scenario=scenario ,sm=sm)\n",
    "loaded_plot(scenario=scenario,sm=sm, n_category=20, scale=0.5, power=0.5, \n",
    "            legend_values=(15000, 10000, 7000,  5000, 3500, 2000, 1000))"
   ]
  }
 ],
 "metadata": {
  "kernelspec": {
   "display_name": "Python [conda env:anaconda3-quetzal_env]",
   "language": "python",
   "name": "conda-env-anaconda3-quetzal_env-py"
  },
  "language_info": {
   "codemirror_mode": {
    "name": "ipython",
    "version": 3
   },
   "file_extension": ".py",
   "mimetype": "text/x-python",
   "name": "python",
   "nbconvert_exporter": "python",
   "pygments_lexer": "ipython3",
   "version": "3.7.5"
  }
 },
 "nbformat": 4,
 "nbformat_minor": 2
}
