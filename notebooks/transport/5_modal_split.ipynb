{
 "cells": [
  {
   "cell_type": "markdown",
   "metadata": {},
   "source": [
    "# python launcher"
   ]
  },
  {
   "cell_type": "code",
   "execution_count": 1,
   "metadata": {},
   "outputs": [],
   "source": [
    "import sys\n",
    "if 'ipykernel_launcher.py' not in sys.argv[0]:\n",
    "    manual = False\n",
    "    scenario = sys.argv[1]\n",
    "else:\n",
    "    manual = True\n",
    "    scenario = 'intermodal'\n",
    "    %matplotlib inline"
   ]
  },
  {
   "cell_type": "code",
   "execution_count": 2,
   "metadata": {},
   "outputs": [],
   "source": [
    "#%matplotlib inline"
   ]
  },
  {
   "cell_type": "code",
   "execution_count": 3,
   "metadata": {},
   "outputs": [],
   "source": [
    "import pandas as pd"
   ]
  },
  {
   "cell_type": "markdown",
   "metadata": {},
   "source": [
    "# import "
   ]
  },
  {
   "cell_type": "code",
   "execution_count": 4,
   "metadata": {},
   "outputs": [
    {
     "name": "stdout",
     "output_type": "stream",
     "text": [
      "SQLalchemy is not installed. No support for SQL output.\n"
     ]
    }
   ],
   "source": [
    "import geopandas as gpd\n",
    "import pandas as pd\n",
    "import numpy as np\n",
    "\n",
    "work_path = r'../../../'\n",
    "quetzal_path = work_path + r'quetzal_santo_domingo/'\n",
    "\n",
    "import sys\n",
    "sys.path.insert(0, '../../../quetzal/')\n",
    "\n",
    "from quetzal.model import stepmodel\n",
    "from quetzal.io import display"
   ]
  },
  {
   "cell_type": "code",
   "execution_count": 5,
   "metadata": {},
   "outputs": [
    {
     "name": "stderr",
     "output_type": "stream",
     "text": [
      "zones: 100%|██████████| 29/29 [00:00<00:00, 40.95it/s]          \n"
     ]
    }
   ],
   "source": [
    "distributed =  stepmodel.read_zip(quetzal_path + 'model/transport/distribution.zip')"
   ]
  },
  {
   "cell_type": "code",
   "execution_count": 6,
   "metadata": {
    "scrolled": true
   },
   "outputs": [
    {
     "name": "stderr",
     "output_type": "stream",
     "text": [
      "zones: 100%|██████████| 29/29 [00:15<00:00,  1.85it/s]          \n",
      "zones: 100%|██████████| 26/26 [00:03<00:00,  6.62it/s]       \n"
     ]
    }
   ],
   "source": [
    "car =  stepmodel.read_zip(quetzal_path + 'model/transport/car_pathfinder.zip')\n",
    "pt = stepmodel.read_zip(quetzal_path + 'model/'+ scenario +'/pt_pathfinder.zip')"
   ]
  },
  {
   "cell_type": "code",
   "execution_count": 7,
   "metadata": {},
   "outputs": [],
   "source": [
    "sm = pt.copy()\n",
    "sm.car_los = car.car_los\n",
    "\n",
    "sm.road_nodes = car.road_nodes\n",
    "sm.road_links = car.road_links"
   ]
  },
  {
   "cell_type": "code",
   "execution_count": 8,
   "metadata": {},
   "outputs": [],
   "source": [
    "sm.volumes = distributed.volumes"
   ]
  },
  {
   "cell_type": "markdown",
   "metadata": {},
   "source": [
    "# prep"
   ]
  },
  {
   "cell_type": "code",
   "execution_count": 9,
   "metadata": {},
   "outputs": [],
   "source": [
    "self = sm\n",
    "for value in ['length']:\n",
    "    value_dict = self.road_links[value].to_dict()\n",
    "    self.car_los[value] = self.car_los['link_path'].apply(\n",
    "        lambda p: sum([value_dict[l] for l in p])\n",
    "    ) "
   ]
  },
  {
   "cell_type": "markdown",
   "metadata": {},
   "source": [
    "# Utility parameters"
   ]
  },
  {
   "cell_type": "code",
   "execution_count": 10,
   "metadata": {},
   "outputs": [],
   "source": [
    "parameter_frame = pd.read_excel(quetzal_path + r'inputs/parametros.xlsx').set_index(['category','parameter'])\n",
    "for c in parameter_frame.columns:\n",
    "    parent = parameter_frame[c][('general', 'parent')]\n",
    "    try:\n",
    "        parent = parent.iloc[0]\n",
    "    except AttributeError:# 'str' object has no attribute 'iloc'\n",
    "        pass\n",
    "    parameter_frame[c] = parameter_frame[c].fillna(parameter_frame[parent])\n",
    "var = parameter_frame[scenario]\n",
    "\n",
    "year = int(var['general', 'year'])"
   ]
  },
  {
   "cell_type": "code",
   "execution_count": 11,
   "metadata": {},
   "outputs": [
    {
     "data": {
      "text/plain": [
       "category                 parameter          \n",
       "PARAMETROS DE ESCENARIO  NaN                                  NaN\n",
       "general                  parent                 ambicioso_sitp_30\n",
       "                         year                                2030\n",
       "                         freeze_modal_split                 false\n",
       "                         freeze_distribution                false\n",
       "                                                      ...        \n",
       "                         footpath_speed                       3.4\n",
       "                         short_leg_speed                      4.4\n",
       "                         long_leg_speed                        12\n",
       "                         n_ntlegs                              10\n",
       "                         ntleg_threshold                      300\n",
       "Name: intermodal, Length: 105, dtype: object"
      ]
     },
     "execution_count": 11,
     "metadata": {},
     "output_type": "execute_result"
    }
   ],
   "source": [
    "var"
   ]
  },
  {
   "cell_type": "markdown",
   "metadata": {},
   "source": [
    "# volumes"
   ]
  },
  {
   "cell_type": "code",
   "execution_count": 12,
   "metadata": {},
   "outputs": [],
   "source": [
    "if var['general','freeze_distribution'].iloc[0].lower() == 'true':\n",
    "    sm.volumes['car'] = sm.volumes['survey_car']\n",
    "    sm.volumes['nocar'] = sm.volumes['survey_pt'] + sm.volumes['survey_walk']\n",
    "    delta = year - 2018\n",
    "    for segment in ['car', 'nocar']:\n",
    "        sm.volumes[segment] = sm.volumes[segment]  * np.power(sm.volumes['growth'], delta)\n",
    "else :\n",
    "    sm.volumes[['car', 'nocar']] = sm.volumes[['car' + str(year), 'nocar' + str(year)]]"
   ]
  },
  {
   "cell_type": "code",
   "execution_count": 13,
   "metadata": {},
   "outputs": [],
   "source": [
    "car_speed = float(var['speed']['car'])\n",
    "gas_per_km = float(var['general']['gas_per_km']) # gal US per km (1 US gal= 3.7L)\n",
    "gas_price = float(var['general']['gas_price'])# DOP per gal US\n",
    "price_per_m =  gas_per_km * gas_price / 1000"
   ]
  },
  {
   "cell_type": "markdown",
   "metadata": {},
   "source": [
    "# Fares"
   ]
  },
  {
   "cell_type": "markdown",
   "metadata": {},
   "source": [
    "## PT fares"
   ]
  },
  {
   "cell_type": "code",
   "execution_count": 14,
   "metadata": {},
   "outputs": [],
   "source": [
    "# Cálculo de tarifas según número de transferencias permitidas\n",
    "\n",
    "for t in [0,1,2,3,4,5,'n']:\n",
    "    name = 'f' + str(t)\n",
    "\n",
    "    if t!='n':\n",
    "        var['transfers', name] = t\n",
    "    else:\n",
    "        var['transfers', name] = 10\n",
    "\n",
    "    price = min(var['base']['fx'] + (var['transfers'][name]*var['add']['fx']), var['max']['fx'])\n",
    "    var['price', name] = price\n",
    "\n",
    "# OJO: Solo para escenarios tarifarios -> OPRET se integra, respetando gratuidad entre metro-teleferico\n",
    "\n",
    "var['price','opret'] = var['base']['fx']"
   ]
  },
  {
   "cell_type": "code",
   "execution_count": 15,
   "metadata": {},
   "outputs": [
    {
     "data": {
      "text/html": [
       "<div>\n",
       "<style scoped>\n",
       "    .dataframe tbody tr th:only-of-type {\n",
       "        vertical-align: middle;\n",
       "    }\n",
       "\n",
       "    .dataframe tbody tr th {\n",
       "        vertical-align: top;\n",
       "    }\n",
       "\n",
       "    .dataframe thead th {\n",
       "        text-align: right;\n",
       "    }\n",
       "</style>\n",
       "<table border=\"1\" class=\"dataframe\">\n",
       "  <thead>\n",
       "    <tr style=\"text-align: right;\">\n",
       "      <th></th>\n",
       "      <th>fare_id</th>\n",
       "      <th>price</th>\n",
       "      <th>transfers</th>\n",
       "    </tr>\n",
       "  </thead>\n",
       "  <tbody>\n",
       "    <tr>\n",
       "      <th>0</th>\n",
       "      <td>bus</td>\n",
       "      <td>15.0</td>\n",
       "      <td>0.0</td>\n",
       "    </tr>\n",
       "    <tr>\n",
       "      <th>1</th>\n",
       "      <td>concho</td>\n",
       "      <td>35.0</td>\n",
       "      <td>0.0</td>\n",
       "    </tr>\n",
       "    <tr>\n",
       "      <th>2</th>\n",
       "      <td>express_bus</td>\n",
       "      <td>30.0</td>\n",
       "      <td>0.0</td>\n",
       "    </tr>\n",
       "    <tr>\n",
       "      <th>3</th>\n",
       "      <td>f0</td>\n",
       "      <td>35.0</td>\n",
       "      <td>0.0</td>\n",
       "    </tr>\n",
       "    <tr>\n",
       "      <th>4</th>\n",
       "      <td>f1</td>\n",
       "      <td>50.0</td>\n",
       "      <td>1.0</td>\n",
       "    </tr>\n",
       "    <tr>\n",
       "      <th>5</th>\n",
       "      <td>f2</td>\n",
       "      <td>65.0</td>\n",
       "      <td>2.0</td>\n",
       "    </tr>\n",
       "    <tr>\n",
       "      <th>6</th>\n",
       "      <td>f3</td>\n",
       "      <td>80.0</td>\n",
       "      <td>3.0</td>\n",
       "    </tr>\n",
       "    <tr>\n",
       "      <th>7</th>\n",
       "      <td>f4</td>\n",
       "      <td>80.0</td>\n",
       "      <td>4.0</td>\n",
       "    </tr>\n",
       "    <tr>\n",
       "      <th>8</th>\n",
       "      <td>f5</td>\n",
       "      <td>80.0</td>\n",
       "      <td>5.0</td>\n",
       "    </tr>\n",
       "    <tr>\n",
       "      <th>9</th>\n",
       "      <td>fn</td>\n",
       "      <td>80.0</td>\n",
       "      <td>10.0</td>\n",
       "    </tr>\n",
       "    <tr>\n",
       "      <th>10</th>\n",
       "      <td>integrated</td>\n",
       "      <td>50.0</td>\n",
       "      <td>inf</td>\n",
       "    </tr>\n",
       "    <tr>\n",
       "      <th>11</th>\n",
       "      <td>minibus</td>\n",
       "      <td>35.0</td>\n",
       "      <td>0.0</td>\n",
       "    </tr>\n",
       "    <tr>\n",
       "      <th>12</th>\n",
       "      <td>opret</td>\n",
       "      <td>35.0</td>\n",
       "      <td>10.0</td>\n",
       "    </tr>\n",
       "    <tr>\n",
       "      <th>13</th>\n",
       "      <td>tram</td>\n",
       "      <td>30.0</td>\n",
       "      <td>0.0</td>\n",
       "    </tr>\n",
       "  </tbody>\n",
       "</table>\n",
       "</div>"
      ],
      "text/plain": [
       "        fare_id  price  transfers\n",
       "0           bus   15.0        0.0\n",
       "1        concho   35.0        0.0\n",
       "2   express_bus   30.0        0.0\n",
       "3            f0   35.0        0.0\n",
       "4            f1   50.0        1.0\n",
       "5            f2   65.0        2.0\n",
       "6            f3   80.0        3.0\n",
       "7            f4   80.0        4.0\n",
       "8            f5   80.0        5.0\n",
       "9            fn   80.0       10.0\n",
       "10   integrated   50.0        inf\n",
       "11      minibus   35.0        0.0\n",
       "12        opret   35.0       10.0\n",
       "13         tram   30.0        0.0"
      ]
     },
     "execution_count": 15,
     "metadata": {},
     "output_type": "execute_result"
    }
   ],
   "source": [
    "fare_attributes = pd.DataFrame(\n",
    "    {\n",
    "    'price': var['price'],\n",
    "    'transfers': var['transfers']\n",
    "    }\n",
    ")\n",
    "fare_attributes.index.name = 'fare_id'\n",
    "fare_attributes.reset_index(inplace=True)\n",
    "fare_attributes[['price', 'transfers']] = fare_attributes[['price', 'transfers']].astype(float)\n",
    "fare_attributes.loc[fare_attributes['fare_id'] == 'integrated', 'transfers'] = np.inf\n",
    "\n",
    "# CHANGE TO TRUE TO TEST FARES | FALSE FOR THE FORMER BEHAVIOUR\n",
    "add_custom_fare_attributes = False\n",
    "#TODO change that so it is automated somehow\n",
    "if add_custom_fare_attributes:\n",
    "    fare_attributes = fare_attributes.append(pd.Series({'fare_id': 'direct', 'price': 25, 'transfers': 0}), ignore_index=True)\n",
    "    fare_attributes = fare_attributes.append(pd.Series({'fare_id': 'opret', 'price': 20, 'transfers': np.inf}), ignore_index=True)\n",
    "fare_attributes"
   ]
  },
  {
   "cell_type": "code",
   "execution_count": 16,
   "metadata": {},
   "outputs": [],
   "source": [
    "left = left = var['fare_id'].apply(lambda s: [item.strip() for item in  s.split(',')]).explode().reset_index()\n",
    "left.columns = ['route_type', 'fare_id']\n",
    "\n",
    "#TODO change that so it is automated somehow\n",
    "if add_custom_fare_attributes:\n",
    "    left = pd.concat(\n",
    "        [\n",
    "            left, \n",
    "            left.loc[left['fare_id']=='integrated'].replace('integrated', 'direct'),\n",
    "            left.loc[left['route_type'].isin(['subway'])].replace('integrated', 'opret')\n",
    "        ]\n",
    "    )\n"
   ]
  },
  {
   "cell_type": "code",
   "execution_count": 17,
   "metadata": {},
   "outputs": [],
   "source": [
    "right = pt.lines[['route_type', 'route_id']]"
   ]
  },
  {
   "cell_type": "code",
   "execution_count": 18,
   "metadata": {
    "scrolled": true
   },
   "outputs": [
    {
     "data": {
      "text/html": [
       "<div>\n",
       "<style scoped>\n",
       "    .dataframe tbody tr th:only-of-type {\n",
       "        vertical-align: middle;\n",
       "    }\n",
       "\n",
       "    .dataframe tbody tr th {\n",
       "        vertical-align: top;\n",
       "    }\n",
       "\n",
       "    .dataframe thead th {\n",
       "        text-align: right;\n",
       "    }\n",
       "</style>\n",
       "<table border=\"1\" class=\"dataframe\">\n",
       "  <thead>\n",
       "    <tr style=\"text-align: right;\">\n",
       "      <th></th>\n",
       "      <th>fare_id</th>\n",
       "      <th>route_id</th>\n",
       "    </tr>\n",
       "  </thead>\n",
       "  <tbody>\n",
       "    <tr>\n",
       "      <th>0</th>\n",
       "      <td>concho</td>\n",
       "      <td>CP_C100_1</td>\n",
       "    </tr>\n",
       "    <tr>\n",
       "      <th>1</th>\n",
       "      <td>concho</td>\n",
       "      <td>CP_C100_2</td>\n",
       "    </tr>\n",
       "    <tr>\n",
       "      <th>2</th>\n",
       "      <td>concho</td>\n",
       "      <td>CP_C101E_1</td>\n",
       "    </tr>\n",
       "    <tr>\n",
       "      <th>3</th>\n",
       "      <td>concho</td>\n",
       "      <td>CP_C101E_2</td>\n",
       "    </tr>\n",
       "    <tr>\n",
       "      <th>4</th>\n",
       "      <td>concho</td>\n",
       "      <td>CP_C102_1</td>\n",
       "    </tr>\n",
       "  </tbody>\n",
       "</table>\n",
       "</div>"
      ],
      "text/plain": [
       "  fare_id    route_id\n",
       "0  concho   CP_C100_1\n",
       "1  concho   CP_C100_2\n",
       "2  concho  CP_C101E_1\n",
       "3  concho  CP_C101E_2\n",
       "4  concho   CP_C102_1"
      ]
     },
     "execution_count": 18,
     "metadata": {},
     "output_type": "execute_result"
    }
   ],
   "source": [
    "fare_rules = pd.merge(left, right)[['fare_id', 'route_id']]\n",
    "fare_rules.head()"
   ]
  },
  {
   "cell_type": "code",
   "execution_count": 19,
   "metadata": {
    "scrolled": true
   },
   "outputs": [],
   "source": [
    "fare_attributes['agency_id'] = 'intrant'"
   ]
  },
  {
   "cell_type": "code",
   "execution_count": 20,
   "metadata": {
    "scrolled": true
   },
   "outputs": [],
   "source": [
    "sm.links['agency_id'] = 'intrant'\n",
    "sm.nodes['zone_id'] = 0"
   ]
  },
  {
   "cell_type": "code",
   "execution_count": 24,
   "metadata": {
    "scrolled": true
   },
   "outputs": [
    {
     "name": "stdout",
     "output_type": "stream",
     "text": [
      "{'tele_este': {'tele_este', 'm2_completo', 'm1', 'm2'}, 'm2_completo': {'tele_este', 'm2_completo', 'm1', 'm2'}, 'm1': {'tele_este', 'm2_completo', 'm1', 'm2'}, 'm2': {'tele_este', 'm2_completo', 'm1', 'm2'}}\n"
     ]
    }
   ],
   "source": [
    "sm.fare_rules = fare_rules\n",
    "sm.fare_attributes = fare_attributes.copy()\n",
    "\n",
    "opret_routes = {'m1', 'm2', 'm2_completo', 'tele_este'}\n",
    "sm.compute_arod_list(tap_free_networks=[opret_routes])\n"
   ]
  },
  {
   "cell_type": "code",
   "execution_count": 25,
   "metadata": {},
   "outputs": [
    {
     "data": {
      "text/html": [
       "<div>\n",
       "<style scoped>\n",
       "    .dataframe tbody tr th:only-of-type {\n",
       "        vertical-align: middle;\n",
       "    }\n",
       "\n",
       "    .dataframe tbody tr th {\n",
       "        vertical-align: top;\n",
       "    }\n",
       "\n",
       "    .dataframe thead th {\n",
       "        text-align: right;\n",
       "    }\n",
       "</style>\n",
       "<table border=\"1\" class=\"dataframe\">\n",
       "  <thead>\n",
       "    <tr style=\"text-align: right;\">\n",
       "      <th></th>\n",
       "      <th>fare_id</th>\n",
       "      <th>price</th>\n",
       "      <th>transfers</th>\n",
       "      <th>agency_id</th>\n",
       "    </tr>\n",
       "  </thead>\n",
       "  <tbody>\n",
       "    <tr>\n",
       "      <th>0</th>\n",
       "      <td>bus</td>\n",
       "      <td>15.0</td>\n",
       "      <td>0.0</td>\n",
       "      <td>intrant</td>\n",
       "    </tr>\n",
       "    <tr>\n",
       "      <th>1</th>\n",
       "      <td>concho</td>\n",
       "      <td>35.0</td>\n",
       "      <td>0.0</td>\n",
       "      <td>intrant</td>\n",
       "    </tr>\n",
       "    <tr>\n",
       "      <th>2</th>\n",
       "      <td>express_bus</td>\n",
       "      <td>30.0</td>\n",
       "      <td>0.0</td>\n",
       "      <td>intrant</td>\n",
       "    </tr>\n",
       "    <tr>\n",
       "      <th>3</th>\n",
       "      <td>f0</td>\n",
       "      <td>35.0</td>\n",
       "      <td>0.0</td>\n",
       "      <td>intrant</td>\n",
       "    </tr>\n",
       "    <tr>\n",
       "      <th>4</th>\n",
       "      <td>f1</td>\n",
       "      <td>50.0</td>\n",
       "      <td>1.0</td>\n",
       "      <td>intrant</td>\n",
       "    </tr>\n",
       "    <tr>\n",
       "      <th>5</th>\n",
       "      <td>f2</td>\n",
       "      <td>65.0</td>\n",
       "      <td>2.0</td>\n",
       "      <td>intrant</td>\n",
       "    </tr>\n",
       "    <tr>\n",
       "      <th>6</th>\n",
       "      <td>f3</td>\n",
       "      <td>80.0</td>\n",
       "      <td>3.0</td>\n",
       "      <td>intrant</td>\n",
       "    </tr>\n",
       "    <tr>\n",
       "      <th>7</th>\n",
       "      <td>f4</td>\n",
       "      <td>80.0</td>\n",
       "      <td>4.0</td>\n",
       "      <td>intrant</td>\n",
       "    </tr>\n",
       "    <tr>\n",
       "      <th>8</th>\n",
       "      <td>f5</td>\n",
       "      <td>80.0</td>\n",
       "      <td>5.0</td>\n",
       "      <td>intrant</td>\n",
       "    </tr>\n",
       "    <tr>\n",
       "      <th>9</th>\n",
       "      <td>fn</td>\n",
       "      <td>80.0</td>\n",
       "      <td>10.0</td>\n",
       "      <td>intrant</td>\n",
       "    </tr>\n",
       "    <tr>\n",
       "      <th>10</th>\n",
       "      <td>integrated</td>\n",
       "      <td>50.0</td>\n",
       "      <td>inf</td>\n",
       "      <td>intrant</td>\n",
       "    </tr>\n",
       "    <tr>\n",
       "      <th>11</th>\n",
       "      <td>minibus</td>\n",
       "      <td>35.0</td>\n",
       "      <td>0.0</td>\n",
       "      <td>intrant</td>\n",
       "    </tr>\n",
       "    <tr>\n",
       "      <th>12</th>\n",
       "      <td>opret</td>\n",
       "      <td>35.0</td>\n",
       "      <td>10.0</td>\n",
       "      <td>intrant</td>\n",
       "    </tr>\n",
       "    <tr>\n",
       "      <th>13</th>\n",
       "      <td>tram</td>\n",
       "      <td>30.0</td>\n",
       "      <td>0.0</td>\n",
       "      <td>intrant</td>\n",
       "    </tr>\n",
       "  </tbody>\n",
       "</table>\n",
       "</div>"
      ],
      "text/plain": [
       "        fare_id  price  transfers agency_id\n",
       "0           bus   15.0        0.0   intrant\n",
       "1        concho   35.0        0.0   intrant\n",
       "2   express_bus   30.0        0.0   intrant\n",
       "3            f0   35.0        0.0   intrant\n",
       "4            f1   50.0        1.0   intrant\n",
       "5            f2   65.0        2.0   intrant\n",
       "6            f3   80.0        3.0   intrant\n",
       "7            f4   80.0        4.0   intrant\n",
       "8            f5   80.0        5.0   intrant\n",
       "9            fn   80.0       10.0   intrant\n",
       "10   integrated   50.0        inf   intrant\n",
       "11      minibus   35.0        0.0   intrant\n",
       "12        opret   35.0       10.0   intrant\n",
       "13         tram   30.0        0.0   intrant"
      ]
     },
     "execution_count": 25,
     "metadata": {},
     "output_type": "execute_result"
    }
   ],
   "source": [
    "sm.fare_attributes"
   ]
  },
  {
   "cell_type": "code",
   "execution_count": 26,
   "metadata": {},
   "outputs": [],
   "source": [
    "# FORMER FARES\n",
    "forbidden = {\n",
    "    'f0': {'f1', 'f2', 'f3', 'f4', 'f5'},\n",
    "    'f1': {'f0', 'f2', 'f3', 'f4', 'f5'},\n",
    "    'f2': {'f0', 'f1', 'f3', 'f4', 'f5'},\n",
    "    'f3': {'f0', 'f1', 'f2', 'f4', 'f5'},\n",
    "    'f4': {'f0', 'f1', 'f2', 'f3', 'f5'},\n",
    "    'f5': {'f0', 'f1', 'f2', 'f3', 'f4'},\n",
    "} # fares that are irrelevant when consecutive\n",
    "sm.compute_route_fares(\n",
    "    irrelevant_consecutive_fares=forbidden, \n",
    "    consecutive=False, \n",
    ")\n",
    "sm.pt_los['price'] = sm.pt_los['route_fares'].apply(lambda breakdown: sum(breakdown.values()))"
   ]
  },
  {
   "cell_type": "code",
   "execution_count": null,
   "metadata": {},
   "outputs": [],
   "source": [
    "if manual:\n",
    "    sm.pt_los.loc[~sm.pt_los.all_walk][['arod_list','route_fares','price']].to_excel(r'../../model/latest/test_'+scenario+'.xlsx')"
   ]
  },
  {
   "cell_type": "markdown",
   "metadata": {},
   "source": [
    "## car fares"
   ]
  },
  {
   "cell_type": "code",
   "execution_count": null,
   "metadata": {},
   "outputs": [],
   "source": [
    "# length\n",
    "self = sm\n",
    "sm.road_links['toll'] = 0"
   ]
  },
  {
   "cell_type": "code",
   "execution_count": null,
   "metadata": {},
   "outputs": [],
   "source": [
    "self.car_los['price'] = self.car_los['length'] * price_per_m #+ self.car_los['toll']"
   ]
  },
  {
   "cell_type": "markdown",
   "metadata": {},
   "source": [
    "# Time"
   ]
  },
  {
   "cell_type": "markdown",
   "metadata": {},
   "source": [
    "## walk_time"
   ]
  },
  {
   "cell_type": "code",
   "execution_count": null,
   "metadata": {
    "scrolled": true
   },
   "outputs": [],
   "source": [
    "short_leg_speed = float(var['general']['short_leg_speed'])\n",
    "long_leg_speed = float(var['general']['long_leg_speed'])\n",
    "threshold= float(var['general']['ntleg_threshold'])\n",
    "footpath_speed= float(var['general']['footpath_speed'])\n",
    "n_ntlegs = int(var['general']['n_ntlegs'])"
   ]
  },
  {
   "cell_type": "code",
   "execution_count": null,
   "metadata": {
    "scrolled": true
   },
   "outputs": [],
   "source": [
    "sm.footpaths['time'] = sm.footpaths['length']  / 1000 * 3600 / footpath_speed\n",
    "#sm.zone_to_transit['time'] = sm.zone_to_transit['distance']  / 1000 * 3600 / short_leg_speed\n",
    "#sm.zone_to_road['time'] = sm.zone_to_road['distance']  / 1000 * 3600 / short_leg_speed"
   ]
  },
  {
   "cell_type": "code",
   "execution_count": null,
   "metadata": {},
   "outputs": [],
   "source": [
    "sm.preparation_ntlegs(\n",
    "    n_ntlegs=n_ntlegs,\n",
    "    short_leg_speed=short_leg_speed,\n",
    "    long_leg_speed=long_leg_speed,\n",
    "    zone_to_road=True,\n",
    ")"
   ]
  },
  {
   "cell_type": "markdown",
   "metadata": {},
   "source": [
    "## car_time"
   ]
  },
  {
   "cell_type": "code",
   "execution_count": null,
   "metadata": {
    "scrolled": true
   },
   "outputs": [],
   "source": [
    "sm.road_links['speed'] = car_speed\n",
    "sm.road_links['time'] = sm.road_links['length'] / 1000 * 3600 / sm.road_links['speed']"
   ]
  },
  {
   "cell_type": "code",
   "execution_count": null,
   "metadata": {},
   "outputs": [],
   "source": [
    "sm.zone_to_road  = car.zone_to_road"
   ]
  },
  {
   "cell_type": "code",
   "execution_count": null,
   "metadata": {
    "scrolled": true
   },
   "outputs": [],
   "source": [
    "sm.analysis_car_time()\n",
    "sm.analysis_car_length()"
   ]
  },
  {
   "cell_type": "markdown",
   "metadata": {},
   "source": [
    "## pt_time"
   ]
  },
  {
   "cell_type": "code",
   "execution_count": null,
   "metadata": {},
   "outputs": [],
   "source": [
    "from shapely import geometry\n",
    "def straight_length(ls):\n",
    "    return geometry.LineString([list(ls.coords)[0],  list(ls.coords)[-1]]).length"
   ]
  },
  {
   "cell_type": "code",
   "execution_count": null,
   "metadata": {},
   "outputs": [],
   "source": [
    "sm.links['length'] = sm.links['geometry'].apply(straight_length)"
   ]
  },
  {
   "cell_type": "code",
   "execution_count": null,
   "metadata": {
    "scrolled": true
   },
   "outputs": [],
   "source": [
    "if False:\n",
    "    sm.links['speed'] = link_speed\n",
    "    sm.links.loc[sm.links['route_type'] == 'subway', 'speed'] = metro_speed\n",
    "    sm.links['time'] =  sm.links['length'] / 1000 * 3600 / sm.links['speed']"
   ]
  },
  {
   "cell_type": "code",
   "execution_count": null,
   "metadata": {
    "scrolled": true
   },
   "outputs": [],
   "source": [
    "sm.analysis_pt_time(boarding_time=0)\n",
    "sm.analysis_pt_length()"
   ]
  },
  {
   "cell_type": "markdown",
   "metadata": {},
   "source": [
    "# transfers"
   ]
  },
  {
   "cell_type": "code",
   "execution_count": null,
   "metadata": {},
   "outputs": [],
   "source": [
    "sm.car_los['ntransfers'] = 0\n",
    "sm.pt_los['ntransfers'] = sm.pt_los['alighting_links'].apply(len)"
   ]
  },
  {
   "cell_type": "markdown",
   "metadata": {},
   "source": [
    "# route_types"
   ]
  },
  {
   "cell_type": "code",
   "execution_count": null,
   "metadata": {},
   "outputs": [],
   "source": [
    "mode_hierarchy = ['car', 'subway', 'tram',  'gondola', 'express_bus', 'bus', 'minibus', 'concho', 'walk']"
   ]
  },
  {
   "cell_type": "code",
   "execution_count": null,
   "metadata": {
    "scrolled": true
   },
   "outputs": [],
   "source": [
    "sm.los = sm.pt_los\n",
    "sm.analysis_pt_route_type(hierarchy=mode_hierarchy)\n",
    "sm.analysis_car_route_type()"
   ]
  },
  {
   "cell_type": "code",
   "execution_count": null,
   "metadata": {},
   "outputs": [],
   "source": [
    "sm.lighten_pt_los()\n",
    "sm.analysis_pt_los()\n",
    "sm.lighten_car_los()\n",
    "sm.analysis_car_los()\n",
    "sm.los = pd.concat([sm.car_los, sm.pt_los]).reset_index(drop=True)"
   ]
  },
  {
   "cell_type": "code",
   "execution_count": null,
   "metadata": {},
   "outputs": [],
   "source": [
    "#sm.los.dropna(axis=1, inplace=True)"
   ]
  },
  {
   "cell_type": "markdown",
   "metadata": {
    "scrolled": true
   },
   "source": [
    "# UTILITY"
   ]
  },
  {
   "cell_type": "code",
   "execution_count": null,
   "metadata": {
    "scrolled": true
   },
   "outputs": [],
   "source": [
    "loc = (sm.los['route_type'] == 'walk') & (sm.los['time'] > 1800)\n",
    "sm.los.loc[loc, 'price'] = 100"
   ]
  },
  {
   "cell_type": "code",
   "execution_count": null,
   "metadata": {},
   "outputs": [],
   "source": [
    "route_types = set(sm.links['route_type'].unique()).union({'car', 'walk'})"
   ]
  },
  {
   "cell_type": "code",
   "execution_count": null,
   "metadata": {},
   "outputs": [],
   "source": [
    "# Average\n",
    "sm.preparation_logit(\n",
    "    mode=1, \n",
    "    pt_mode=0.5, \n",
    "    pt_path=0.2, \n",
    "    time=-1 / 3600,\n",
    "    price= -1 / 50,\n",
    "    transfers=-0.2,\n",
    "    segments=['car', 'nocar'],\n",
    ")"
   ]
  },
  {
   "cell_type": "code",
   "execution_count": null,
   "metadata": {},
   "outputs": [],
   "source": [
    "sm.mode_utility[['car', 'nocar']] = 0\n",
    "sm.mode_utility.loc[['car'], ['nocar', 'car']] = [-100, 0.5] # [-100, 0] \n",
    "sm.mode_utility.loc[['minibus', 'concho'], ['nocar', 'car']] = 0\n",
    "\n",
    "if var['general','freeze_modal_split'].iloc[0].lower() == 'true':\n",
    "    sm.mode_utility.loc[['car'], ['nocar', 'car']] = [-100, 100] # [-100, 0] "
   ]
  },
  {
   "cell_type": "code",
   "execution_count": null,
   "metadata": {},
   "outputs": [],
   "source": [
    "sm.mode_utility -= sm.mode_utility.max()"
   ]
  },
  {
   "cell_type": "code",
   "execution_count": null,
   "metadata": {},
   "outputs": [],
   "source": [
    "sm.logit_scales\n",
    "sm.mode_utility"
   ]
  },
  {
   "cell_type": "code",
   "execution_count": null,
   "metadata": {},
   "outputs": [],
   "source": [
    "sm.utility_values.loc['time', 'car'] = sm.utility_values.loc['time', 'nocar'] * 2"
   ]
  },
  {
   "cell_type": "markdown",
   "metadata": {},
   "source": [
    "# here"
   ]
  },
  {
   "cell_type": "code",
   "execution_count": null,
   "metadata": {},
   "outputs": [],
   "source": [
    "sm.los.reset_index(drop=True, inplace=True)"
   ]
  },
  {
   "cell_type": "code",
   "execution_count": null,
   "metadata": {
    "scrolled": true
   },
   "outputs": [],
   "source": [
    "sm.los['index'] = sm.los.index"
   ]
  },
  {
   "cell_type": "markdown",
   "metadata": {},
   "source": [
    "# utility"
   ]
  },
  {
   "cell_type": "code",
   "execution_count": null,
   "metadata": {
    "scrolled": true
   },
   "outputs": [],
   "source": [
    "sm.analysis_mode_utility(how='min', segment='car')\n",
    "sm.analysis_mode_utility(how='min', segment='nocar')"
   ]
  },
  {
   "cell_type": "code",
   "execution_count": null,
   "metadata": {},
   "outputs": [],
   "source": [
    "sm.initialize_logit()"
   ]
  },
  {
   "cell_type": "code",
   "execution_count": null,
   "metadata": {},
   "outputs": [],
   "source": [
    "sm.segments = ['car', 'nocar']"
   ]
  },
  {
   "cell_type": "code",
   "execution_count": null,
   "metadata": {},
   "outputs": [],
   "source": [
    "sm.logit_scales['nocar'] = sm.logit_scales['car']"
   ]
  },
  {
   "cell_type": "code",
   "execution_count": null,
   "metadata": {},
   "outputs": [],
   "source": [
    "sm.logit_scales"
   ]
  },
  {
   "cell_type": "code",
   "execution_count": null,
   "metadata": {},
   "outputs": [],
   "source": [
    "sm.step_logit(nchunks=5)"
   ]
  },
  {
   "cell_type": "code",
   "execution_count": null,
   "metadata": {},
   "outputs": [],
   "source": [
    "sm.od_probabilities = sm.probabilities.set_index(\n",
    "    ['origin', 'destination', 'segment']\n",
    ").unstack('segment').swaplevel(axis='columns')\n",
    "sm.od_utilities = sm.utilities.set_index(\n",
    "    ['origin', 'destination', 'segment']\n",
    ").unstack('segment').swaplevel(axis='columns')"
   ]
  },
  {
   "cell_type": "code",
   "execution_count": null,
   "metadata": {},
   "outputs": [],
   "source": [
    "sm.od_probabilities"
   ]
  },
  {
   "cell_type": "code",
   "execution_count": null,
   "metadata": {},
   "outputs": [],
   "source": [
    "t = sm.los['path'].apply(tuple)"
   ]
  },
  {
   "cell_type": "code",
   "execution_count": null,
   "metadata": {},
   "outputs": [],
   "source": []
  },
  {
   "cell_type": "markdown",
   "metadata": {},
   "source": [
    "# Control"
   ]
  },
  {
   "cell_type": "code",
   "execution_count": null,
   "metadata": {},
   "outputs": [],
   "source": [
    "if manual:\n",
    "    %matplotlib inline"
   ]
  },
  {
   "cell_type": "code",
   "execution_count": null,
   "metadata": {},
   "outputs": [],
   "source": [
    "sm.volumes = distributed.volumes.copy()\n",
    "#sm.volumes.loc[sm.volumes['origin'] == sm.volumes['destination'], ['car', 'nocar']] = 0 "
   ]
  },
  {
   "cell_type": "code",
   "execution_count": null,
   "metadata": {},
   "outputs": [],
   "source": [
    "sm.od = sm.volumes.set_index(['origin', 'destination'])[['car', 'nocar']] "
   ]
  },
  {
   "cell_type": "code",
   "execution_count": null,
   "metadata": {},
   "outputs": [],
   "source": [
    "sm.probabilities"
   ]
  },
  {
   "cell_type": "code",
   "execution_count": null,
   "metadata": {},
   "outputs": [],
   "source": [
    "a = sm.od_probabilities.copy()\n",
    "a.columns = pd.MultiIndex.from_tuples(a.columns)"
   ]
  },
  {
   "cell_type": "code",
   "execution_count": null,
   "metadata": {
    "scrolled": true
   },
   "outputs": [],
   "source": [
    "voy = a['car'].apply(lambda c: c * sm.od['car']) + a['nocar'].apply(lambda c: c * sm.od['nocar']) "
   ]
  },
  {
   "cell_type": "code",
   "execution_count": null,
   "metadata": {},
   "outputs": [],
   "source": [
    "voykil = voy.apply(\n",
    "    lambda c: c * distributed.euclidean.set_index(\n",
    "    ['origin', 'destination']).sort_index()['km']\n",
    ")\n",
    "\n",
    "\n",
    "s = voy.sum()[sorted(set(sm.mode_nests.index) - set(sm.mode_nests['root']))]\n",
    "plot = s.plot(\n",
    "    kind='pie', \n",
    "    autopct='%1.0f%%',\n",
    "    shadow=False,\n",
    "    startangle=90, figsize=[5, 5])\n",
    "plot.set_aspect('equal')"
   ]
  },
  {
   "cell_type": "code",
   "execution_count": null,
   "metadata": {},
   "outputs": [],
   "source": [
    "s = voykil.sum()[sorted(set(sm.mode_nests.index) - set(sm.mode_nests['root']))]\n",
    "plot = s.plot(\n",
    "    kind='pie', \n",
    "    autopct='%1.0f%%',\n",
    "    shadow=False,\n",
    "    startangle=90, figsize=[5, 5])\n",
    "plot.set_aspect('equal')"
   ]
  },
  {
   "cell_type": "code",
   "execution_count": null,
   "metadata": {},
   "outputs": [],
   "source": [
    "s = voykil.sum()[sorted(set(sm.mode_nests.index) - set(sm.mode_nests['root']))]"
   ]
  },
  {
   "cell_type": "markdown",
   "metadata": {},
   "source": [
    "# Assignment"
   ]
  },
  {
   "cell_type": "code",
   "execution_count": null,
   "metadata": {},
   "outputs": [],
   "source": [
    "sm.car_los['path'] = sm.car_los['path'].apply(tuple)\n",
    "sm.pt_los['path'] = sm.pt_los['path'].apply(tuple)\n",
    "sm.los['path'] = sm.los['path'].apply(tuple)"
   ]
  },
  {
   "cell_type": "markdown",
   "metadata": {},
   "source": [
    "## PT"
   ]
  },
  {
   "cell_type": "markdown",
   "metadata": {},
   "source": [
    "# segmented assignment"
   ]
  },
  {
   "cell_type": "code",
   "execution_count": null,
   "metadata": {},
   "outputs": [],
   "source": [
    "sm.step_assignment(boarding_links=True, alightings=True, transfers=True, road=True, segmented=False)"
   ]
  },
  {
   "cell_type": "code",
   "execution_count": null,
   "metadata": {},
   "outputs": [],
   "source": [
    "sm.road_links.loc[53982]"
   ]
  },
  {
   "cell_type": "code",
   "execution_count": null,
   "metadata": {},
   "outputs": [],
   "source": [
    "links = sm.links#.loc[sm.links['route_type'] == 'subway']\n",
    "links = sm.links.loc[sm.links['volume'] > 0]\n",
    "links['label'] = ''"
   ]
  },
  {
   "cell_type": "code",
   "execution_count": null,
   "metadata": {},
   "outputs": [],
   "source": [
    "links['volume'].max()"
   ]
  },
  {
   "cell_type": "code",
   "execution_count": null,
   "metadata": {},
   "outputs": [],
   "source": [
    "sm.road_links['volume'] = sm.road_links[('volume', 'pt')]"
   ]
  },
  {
   "cell_type": "code",
   "execution_count": null,
   "metadata": {},
   "outputs": [],
   "source": [
    "df = sm.links\n",
    "df = df.loc[df['volume'] > 0]"
   ]
  },
  {
   "cell_type": "code",
   "execution_count": null,
   "metadata": {
    "scrolled": false
   },
   "outputs": [],
   "source": [
    "if manual:\n",
    "    import matplotlib.pyplot as plt\n",
    "    from syspy.syspy_utils import data_visualization as dv\n",
    "    spectral = list(reversed(\n",
    "        ['#9e0142','#d53e4f','#f46d43','#fdae61','#fee08b',\n",
    "         '#e6f598','#abdda4','#66c2a5','#3288bd','#5e4fa2']))\n",
    "\n",
    "    fig, ax = plt.subplots(figsize=[17, 15])\n",
    "    lv = (5000,3000, 2000, 1000)\n",
    "    df = sm.road_links\n",
    "    df['volume'] = df[('volume', 'car')]\n",
    "    df = df.dropna(subset=['volume'])\n",
    "\n",
    "    plot = dv.bandwidth(\n",
    "        df, value_column='volume', power=0.5, max_value=lv[0], legend_values=lv,\n",
    "        legend_length=0.5, label_column='label', max_linewidth_meters=100,\n",
    "        cmap=spectral,\n",
    "        label_kwargs={'size':14, 'color':'black'}, ax=ax\n",
    "    )\n",
    "\n",
    "    lv = (12000,10000, 7000,5000, 2000, 1000)\n",
    "    fig, ax = plt.subplots(figsize=[17, 15])\n",
    "    infra_links = sm.links.loc[sm.links.road_length.isnull()]\n",
    "\n",
    "    sm.road_links['volume'] = sm.road_links[('volume', 'pt')]\n",
    "    df = pd.concat([infra_links, sm.road_links])\n",
    "    df['volume'] = df['volume'].fillna(0)\n",
    "    df = df.loc[df['volume'] > 0]\n",
    "\n",
    "    plot = dv.bandwidth(\n",
    "        df, value_column='volume', power=0.5, max_value=lv[0],legend_values=lv,\n",
    "        legend_length=0.5, label_column='label', max_linewidth_meters=200,\n",
    "        #geographical_bounds=list(raster_montreal.bounds),\n",
    "        cmap=spectral,\n",
    "        label_kwargs={'size':14, 'color':'black'}, ax=ax\n",
    "    )"
   ]
  },
  {
   "cell_type": "code",
   "execution_count": null,
   "metadata": {},
   "outputs": [],
   "source": [
    "sm.pt_los = sm.los.loc[sm.los['route_type'] != 'car']\n",
    "sm.to_zip(quetzal_path + 'model/' +scenario + '/assigned.zip', omitted_attributes=['pt_los', 'car_los'])"
   ]
  }
 ],
 "metadata": {
  "kernelspec": {
   "display_name": "Python 3.8.12 ('quetzal_env')",
   "language": "python",
   "name": "python3"
  },
  "language_info": {
   "codemirror_mode": {
    "name": "ipython",
    "version": 3
   },
   "file_extension": ".py",
   "mimetype": "text/x-python",
   "name": "python",
   "nbconvert_exporter": "python",
   "pygments_lexer": "ipython3",
   "version": "3.8.12"
  },
  "vscode": {
   "interpreter": {
    "hash": "63ed8d3682b3a3f883b3db9dd4a15374715afa9f25179090c3e8481b99e79868"
   }
  }
 },
 "nbformat": 4,
 "nbformat_minor": 2
}
