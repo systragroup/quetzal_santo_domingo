{
 "cells": [
  {
   "cell_type": "code",
   "execution_count": 14,
   "metadata": {},
   "outputs": [],
   "source": [
    "work_path = r'../../../'\n",
    "quetzal_path = work_path + r'quetzal_santo_domingo/'"
   ]
  },
  {
   "cell_type": "code",
   "execution_count": 15,
   "metadata": {},
   "outputs": [],
   "source": [
    "from tqdm import tqdm"
   ]
  },
  {
   "cell_type": "code",
   "execution_count": 16,
   "metadata": {
    "scrolled": true
   },
   "outputs": [],
   "source": [
    "import pandas as pd\n",
    "parameter_frame = pd.read_csv(quetzal_path + 'inputs/parameters.csv', sep=';', decimal=',').set_index(['category','parameter'])\n",
    "for c in parameter_frame.columns:\n",
    "    parent = parameter_frame[c][('general', 'parent')]\n",
    "    try:\n",
    "        parent = parent.iloc[0]\n",
    "    except AttributeError:# 'str' object has no attribute 'iloc'\n",
    "        pass\n",
    "    parameter_frame[c] = parameter_frame[c].fillna(parameter_frame[parent])\n",
    "\n",
    "scenario_list = list(parameter_frame.columns)"
   ]
  },
  {
   "cell_type": "code",
   "execution_count": 17,
   "metadata": {},
   "outputs": [],
   "source": [
    "pool = {}"
   ]
  },
  {
   "cell_type": "code",
   "execution_count": 19,
   "metadata": {},
   "outputs": [
    {
     "name": "stderr",
     "output_type": "stream",
     "text": [
      "100%|████████████████████████████████████████████████████████████████████████████████████| 2/2 [00:00<00:00,  7.27it/s]\n"
     ]
    }
   ],
   "source": [
    "df_dict = pd.read_excel(quetzal_path + 'model/ref_18' + '/stacks.xlsx', sheet_name=None)\n",
    "for key in df_dict.keys():\n",
    "    pool[key] = []\n",
    "for scenario in tqdm(scenario_list):\n",
    "    df_dict = pd.read_excel(quetzal_path + r'model/' + scenario + '/stacks.xlsx', sheet_name=None)\n",
    "    for key, value in df_dict.items():\n",
    "\n",
    "        value['scenario'] = scenario\n",
    "        col = [c for c in value.columns if 'scenario' not in c]\n",
    "        col.insert(-1, 'scenario')\n",
    "        value = value[col]\n",
    "        pool[key].append(value)\n"
   ]
  },
  {
   "cell_type": "code",
   "execution_count": 20,
   "metadata": {},
   "outputs": [],
   "source": [
    "stacks = {k: pd.concat(v) for k, v in pool.items()}"
   ]
  },
  {
   "cell_type": "code",
   "execution_count": 21,
   "metadata": {},
   "outputs": [],
   "source": [
    "with pd.ExcelWriter(quetzal_path + r'outputs/'+ 'stacks.xlsx') as writer:  # doctest: +SKIP\n",
    "    for name, stack in stacks.items():\n",
    "        stack.to_excel(writer, sheet_name=name, index=False)"
   ]
  }
 ],
 "metadata": {
  "kernelspec": {
   "display_name": "Python 3",
   "language": "python",
   "name": "python3"
  },
  "language_info": {
   "codemirror_mode": {
    "name": "ipython",
    "version": 3
   },
   "file_extension": ".py",
   "mimetype": "text/x-python",
   "name": "python",
   "nbconvert_exporter": "python",
   "pygments_lexer": "ipython3",
   "version": "3.7.4"
  }
 },
 "nbformat": 4,
 "nbformat_minor": 2
}
