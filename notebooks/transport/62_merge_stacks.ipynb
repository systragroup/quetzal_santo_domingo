{
 "cells": [
  {
   "cell_type": "code",
   "execution_count": 10,
   "metadata": {},
   "outputs": [],
   "source": [
    "work_path = r'../../../'\n",
    "quetzal_path = work_path + r'quetzal_santo_domingo/'"
   ]
  },
  {
   "cell_type": "code",
   "execution_count": 11,
   "metadata": {},
   "outputs": [],
   "source": [
    "from tqdm import tqdm"
   ]
  },
  {
   "cell_type": "code",
   "execution_count": 12,
   "metadata": {
    "scrolled": true
   },
   "outputs": [],
   "source": [
    "import pandas as pd\n",
    "    \n",
    "parameter_frame = pd.read_excel(quetzal_path + r'inputs/parametros.xlsx').set_index(['category','parameter'])\n",
    "for c in parameter_frame.columns:\n",
    "    parent = parameter_frame[c][('general', 'parent')]\n",
    "    try:\n",
    "        parent = parent.iloc[0]\n",
    "    except AttributeError:# 'str' object has no attribute 'iloc'\n",
    "        pass\n",
    "    parameter_frame[c] = parameter_frame[c].fillna(parameter_frame[parent])\n",
    "\n",
    "scenario_list = list(parameter_frame.columns)"
   ]
  },
  {
   "cell_type": "code",
   "execution_count": 13,
   "metadata": {},
   "outputs": [],
   "source": [
    "pool = {}"
   ]
  },
  {
   "cell_type": "code",
   "execution_count": 14,
   "metadata": {},
   "outputs": [
    {
     "name": "stderr",
     "output_type": "stream",
     "text": [
      "100%|██████████| 5/5 [00:00<00:00,  5.94it/s]\n"
     ]
    }
   ],
   "source": [
    "df_dict = pd.read_excel(quetzal_path + 'model/ref_18' + '/stacks.xlsx', sheet_name=None)\n",
    "for key in df_dict.keys():\n",
    "    pool[key] = []\n",
    "for scenario in tqdm(scenario_list):\n",
    "    df_dict = pd.read_excel(quetzal_path + r'model/' + scenario + '/stacks.xlsx', sheet_name=None)\n",
    "    for key, value in df_dict.items():\n",
    "\n",
    "        value['scenario'] = scenario\n",
    "        col = [c for c in value.columns if 'scenario' not in c]\n",
    "        col.insert(-1, 'scenario')\n",
    "        value = value[col]\n",
    "        pool[key].append(value)\n"
   ]
  },
  {
   "cell_type": "code",
   "execution_count": 15,
   "metadata": {},
   "outputs": [],
   "source": [
    "stacks = {k: pd.concat(v) for k, v in pool.items()}"
   ]
  },
  {
   "cell_type": "code",
   "execution_count": 27,
   "metadata": {},
   "outputs": [],
   "source": [
    "def densify(stack):\n",
    "    stack = stacks['summary']\n",
    "    c = stack.columns\n",
    "    return stack.set_index(list(c[:-1]))[c[-1]].unstack()"
   ]
  },
  {
   "cell_type": "code",
   "execution_count": 28,
   "metadata": {},
   "outputs": [],
   "source": [
    "dense_stacks = {k: densify(v) for k, v in stacks.items()}"
   ]
  },
  {
   "cell_type": "code",
   "execution_count": null,
   "metadata": {},
   "outputs": [],
   "source": [
    "with pd.ExcelWriter(quetzal_path + r'outputs/'+ 'stacks.xlsx') as writer:  # doctest: +SKIP\n",
    "    for name, stack in stacks.items():\n",
    "        stack.to_excel(writer, sheet_name=name, index=False)"
   ]
  },
  {
   "cell_type": "code",
   "execution_count": 46,
   "metadata": {},
   "outputs": [],
   "source": [
    "with pd.ExcelWriter(quetzal_path + r'outputs/'+ 'dense_stacks.xlsx') as writer:  # doctest: +SKIP\n",
    "    for name, stack in dense_stacks.items():\n",
    "        stack.reset_index().to_excel(writer, sheet_name=name, index=False)"
   ]
  },
  {
   "cell_type": "code",
   "execution_count": null,
   "metadata": {},
   "outputs": [],
   "source": []
  }
 ],
 "metadata": {
  "kernelspec": {
   "display_name": "Python 3.8.8 64-bit ('Anaconda3')",
   "language": "python",
   "name": "python3"
  },
  "language_info": {
   "codemirror_mode": {
    "name": "ipython",
    "version": 3
   },
   "file_extension": ".py",
   "mimetype": "text/x-python",
   "name": "python",
   "nbconvert_exporter": "python",
   "pygments_lexer": "ipython3",
   "version": "3.8.8"
  },
  "vscode": {
   "interpreter": {
    "hash": "4996b24100d5153f2e06c1a9119939fb39383a0784eef28bb72548c9113b3fe7"
   }
  }
 },
 "nbformat": 4,
 "nbformat_minor": 2
}
