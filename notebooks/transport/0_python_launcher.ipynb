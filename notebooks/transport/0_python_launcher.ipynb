{
 "cells": [
  {
   "cell_type": "code",
   "execution_count": 2,
   "metadata": {},
   "outputs": [],
   "source": [
    "import pandas as pd\n",
    "import os"
   ]
  },
  {
   "cell_type": "code",
   "execution_count": 3,
   "metadata": {},
   "outputs": [],
   "source": [
    "import sys\n",
    "sys.path.insert(0, r'../../../quetzal')\n",
    "from quetzal.os.parallel_call import parallel_call_notebook"
   ]
  },
  {
   "cell_type": "code",
   "execution_count": 4,
   "metadata": {
    "scrolled": true
   },
   "outputs": [],
   "source": [
    "parameter_frame = pd.read_excel(r'../../inputs/parametros.xlsx').set_index(['category','parameter'])\n",
    "scenario_list = list(parameter_frame.columns)"
   ]
  },
  {
   "cell_type": "code",
   "execution_count": 5,
   "metadata": {},
   "outputs": [
    {
     "data": {
      "text/plain": [
       "['ref_18', 'ambicioso_sitp_30', 'monomodal', 'intermodal', 'multimodal']"
      ]
     },
     "execution_count": 5,
     "metadata": {},
     "output_type": "execute_result"
    }
   ],
   "source": [
    "scenario_list"
   ]
  },
  {
   "cell_type": "code",
   "execution_count": 6,
   "metadata": {},
   "outputs": [],
   "source": [
    "arg_list = scenario_list"
   ]
  },
  {
   "cell_type": "code",
   "execution_count": 18,
   "metadata": {
    "scrolled": true
   },
   "outputs": [
    {
     "name": "stdout",
     "output_type": "stream",
     "text": [
      "0 4_pt_pathfinder.py ref_18\n",
      "1 4_pt_pathfinder.py ambicioso_sitp_30\n",
      "2 4_pt_pathfinder.py monomodal\n",
      "3 4_pt_pathfinder.py intermodal\n",
      "4 4_pt_pathfinder.py multimodal\n",
      "154 seconds\n"
     ]
    }
   ],
   "source": [
    "parallel_call_notebook(\n",
    "    '4_pt_pathfinder.ipynb', \n",
    "    stderr_path=r'log/err.txt', stdout_path=r'log/out.txt', errout_suffix=True,\n",
    "    arg_list=arg_list, workers=5)"
   ]
  },
  {
   "cell_type": "code",
   "execution_count": 7,
   "metadata": {},
   "outputs": [
    {
     "name": "stdout",
     "output_type": "stream",
     "text": [
      "0 5_modal_split.py ref_18\n",
      "1 5_modal_split.py ambicioso_sitp_30\n",
      "2 5_modal_split.py monomodal\n",
      "3 5_modal_split.py intermodal\n",
      "4 5_modal_split.py multimodal\n",
      "132 seconds\n"
     ]
    }
   ],
   "source": [
    "parallel_call_notebook(\n",
    "    '5_modal_split.ipynb', \n",
    "    stderr_path=r'log/err.txt', stdout_path=r'log/out.txt', errout_suffix=True, \n",
    "    arg_list=arg_list, workers=5)"
   ]
  },
  {
   "cell_type": "code",
   "execution_count": 9,
   "metadata": {
    "scrolled": true
   },
   "outputs": [
    {
     "name": "stdout",
     "output_type": "stream",
     "text": [
      "0 61_stack.py ref_18\n",
      "1 61_stack.py ambicioso_sitp_30\n",
      "2 61_stack.py monomodal\n",
      "3 61_stack.py intermodal\n",
      "4 61_stack.py multimodal\n",
      "59 seconds\n"
     ]
    }
   ],
   "source": [
    "parallel_call_notebook(\n",
    "    '61_stack.ipynb', \n",
    "    stderr_path=r'log/err.txt', stdout_path=r'log/out.txt', errout_suffix=True, \n",
    "    arg_list=arg_list, workers=5)"
   ]
  },
  {
   "cell_type": "code",
   "execution_count": 36,
   "metadata": {},
   "outputs": [
    {
     "name": "stdout",
     "output_type": "stream",
     "text": [
      "0 7_maps.py ref_18\n",
      "1 7_maps.py ambicioso_sitp_30\n",
      "53 seconds\n"
     ]
    }
   ],
   "source": [
    "parallel_call_notebook('7_maps.ipynb', arg_list, workers=8)"
   ]
  },
  {
   "cell_type": "code",
   "execution_count": 37,
   "metadata": {},
   "outputs": [],
   "source": [
    "#parallel_call_notebook('72_gis.ipynb', arg_list, workers=8)"
   ]
  },
  {
   "cell_type": "code",
   "execution_count": 11,
   "metadata": {
    "scrolled": true
   },
   "outputs": [
    {
     "name": "stderr",
     "output_type": "stream",
     "text": [
      "100%|██████████| 5/5 [00:01<00:00,  3.63it/s]\n"
     ]
    }
   ],
   "source": [
    "%run 62_merge_stacks.ipynb"
   ]
  },
  {
   "cell_type": "code",
   "execution_count": 39,
   "metadata": {},
   "outputs": [],
   "source": [
    "arg_list = ['oeste_tele_30', 'oeste_tele_freeze_30','oeste_metro_30', 'oeste_metro_freeze_30', 'oeste_ambos_30', 'oeste_ambos_freeze_30']\n",
    "arg_list = ['ref_30', 'oeste_metro_30']"
   ]
  }
 ],
 "metadata": {
  "kernelspec": {
   "display_name": "Python 3.8.12 ('quetzal_env')",
   "language": "python",
   "name": "python3"
  },
  "language_info": {
   "codemirror_mode": {
    "name": "ipython",
    "version": 3
   },
   "file_extension": ".py",
   "mimetype": "text/x-python",
   "name": "python",
   "nbconvert_exporter": "python",
   "pygments_lexer": "ipython3",
   "version": "3.8.12"
  },
  "vscode": {
   "interpreter": {
    "hash": "63ed8d3682b3a3f883b3db9dd4a15374715afa9f25179090c3e8481b99e79868"
   }
  }
 },
 "nbformat": 4,
 "nbformat_minor": 2
}
