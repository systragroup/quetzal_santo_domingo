{
 "cells": [
  {
   "cell_type": "code",
   "execution_count": 28,
   "metadata": {},
   "outputs": [],
   "source": [
    "import pandas as pd\n",
    "import os"
   ]
  },
  {
   "cell_type": "code",
   "execution_count": 29,
   "metadata": {},
   "outputs": [],
   "source": [
    "import sys\n",
    "sys.path.insert(0, r'../../../quetzal')\n",
    "from quetzal.os.parallel_call import parallel_call_notebook"
   ]
  },
  {
   "cell_type": "code",
   "execution_count": 30,
   "metadata": {
    "scrolled": true
   },
   "outputs": [],
   "source": [
    "parameter_frame = pd.read_excel(r'../../inputs/parametros.xlsx').set_index(['category','parameter'])\n",
    "scenario_list = list(parameter_frame.columns)"
   ]
  },
  {
   "cell_type": "code",
   "execution_count": 31,
   "metadata": {},
   "outputs": [
    {
     "data": {
      "text/plain": [
       "['ref_18', 'ambicioso_sitp_30']"
      ]
     },
     "execution_count": 31,
     "metadata": {},
     "output_type": "execute_result"
    }
   ],
   "source": [
    "scenario_list"
   ]
  },
  {
   "cell_type": "code",
   "execution_count": 32,
   "metadata": {},
   "outputs": [],
   "source": [
    "arg_list = scenario_list"
   ]
  },
  {
   "cell_type": "code",
   "execution_count": 33,
   "metadata": {
    "scrolled": true
   },
   "outputs": [
    {
     "name": "stdout",
     "output_type": "stream",
     "text": [
      "0 4_pt_pathfinder.py ref_18\n",
      "1 4_pt_pathfinder.py ambicioso_sitp_30\n",
      "55 seconds\n"
     ]
    }
   ],
   "source": [
    "parallel_call_notebook(\n",
    "    '4_pt_pathfinder.ipynb', \n",
    "    stderr_path=r'log/err.txt', stdout_path=r'log/out.txt', errout_suffix=True,\n",
    "    arg_list=arg_list, workers=5)"
   ]
  },
  {
   "cell_type": "code",
   "execution_count": 34,
   "metadata": {},
   "outputs": [
    {
     "name": "stdout",
     "output_type": "stream",
     "text": [
      "0 5_modal_split.py ref_18\n",
      "1 5_modal_split.py ambicioso_sitp_30\n",
      "62 seconds\n"
     ]
    }
   ],
   "source": [
    "parallel_call_notebook(\n",
    "    '5_modal_split.ipynb', \n",
    "    stderr_path=r'log/err.txt', stdout_path=r'log/out.txt', errout_suffix=True, \n",
    "    arg_list=arg_list, workers=5)"
   ]
  },
  {
   "cell_type": "code",
   "execution_count": 35,
   "metadata": {
    "scrolled": true
   },
   "outputs": [
    {
     "name": "stdout",
     "output_type": "stream",
     "text": [
      "0 61_stack.py ref_18\n",
      "1 61_stack.py ambicioso_sitp_30\n",
      "26 seconds\n"
     ]
    }
   ],
   "source": [
    "parallel_call_notebook(\n",
    "    '61_stack.ipynb', \n",
    "    stderr_path=r'log/err.txt', stdout_path=r'log/out.txt', errout_suffix=True, \n",
    "    arg_list=arg_list, workers=5)"
   ]
  },
  {
   "cell_type": "code",
   "execution_count": 36,
   "metadata": {},
   "outputs": [
    {
     "name": "stdout",
     "output_type": "stream",
     "text": [
      "0 7_maps.py ref_18\n",
      "1 7_maps.py ambicioso_sitp_30\n",
      "53 seconds\n"
     ]
    }
   ],
   "source": [
    "parallel_call_notebook('7_maps.ipynb', arg_list, workers=8)"
   ]
  },
  {
   "cell_type": "code",
   "execution_count": 37,
   "metadata": {},
   "outputs": [],
   "source": [
    "#parallel_call_notebook('72_gis.ipynb', arg_list, workers=8)"
   ]
  },
  {
   "cell_type": "code",
   "execution_count": 38,
   "metadata": {
    "scrolled": true
   },
   "outputs": [
    {
     "name": "stderr",
     "output_type": "stream",
     "text": [
      "100%|██████████| 2/2 [00:01<00:00,  1.73it/s]\n"
     ]
    }
   ],
   "source": [
    "%run 62_merge_stacks.ipynb"
   ]
  },
  {
   "cell_type": "code",
   "execution_count": 39,
   "metadata": {},
   "outputs": [],
   "source": [
    "arg_list = ['oeste_tele_30', 'oeste_tele_freeze_30','oeste_metro_30', 'oeste_metro_freeze_30', 'oeste_ambos_30', 'oeste_ambos_freeze_30']\n",
    "arg_list = ['ref_30', 'oeste_metro_30']"
   ]
  }
 ],
 "metadata": {
  "kernelspec": {
   "display_name": "Python 3.8.13 ('quetzal_sdo')",
   "language": "python",
   "name": "python3"
  },
  "language_info": {
   "codemirror_mode": {
    "name": "ipython",
    "version": 3
   },
   "file_extension": ".py",
   "mimetype": "text/x-python",
   "name": "python",
   "nbconvert_exporter": "python",
   "pygments_lexer": "ipython3",
   "version": "3.8.13"
  },
  "vscode": {
   "interpreter": {
    "hash": "0e627864a60cfef3fdb728f93d1fb15697359da2b2aae170813e5828996a5e66"
   }
  }
 },
 "nbformat": 4,
 "nbformat_minor": 2
}
