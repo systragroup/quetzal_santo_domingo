{
 "cells": [
  {
   "cell_type": "code",
   "execution_count": 53,
   "metadata": {},
   "outputs": [],
   "source": [
    "import sys\n",
    "if 'ipykernel_launcher.py' not in sys.argv[0]:\n",
    "    manual = False\n",
    "    scenario = sys.argv[1]\n",
    "else:\n",
    "    manual = True\n",
    "    scenario = 'intermodal'\n",
    "    %matplotlib inline"
   ]
  },
  {
   "cell_type": "code",
   "execution_count": 54,
   "metadata": {},
   "outputs": [],
   "source": [
    "import geopandas as gpd\n",
    "import pandas as pd\n",
    "import numpy as np\n",
    "\n",
    "work_path = r'../../../'\n",
    "quetzal_path = work_path + r'quetzal_santo_domingo/model/'\n",
    "\n",
    "plot_path = work_path + r'plot/scenarios/'\n",
    "import sys\n",
    "sys.path.insert(0, '../../../quetzal/')\n",
    "\n",
    "from quetzal.model import stepmodel"
   ]
  },
  {
   "cell_type": "code",
   "execution_count": 55,
   "metadata": {},
   "outputs": [],
   "source": [
    "from shapely import geometry"
   ]
  },
  {
   "cell_type": "code",
   "execution_count": 56,
   "metadata": {},
   "outputs": [
    {
     "name": "stderr",
     "output_type": "stream",
     "text": [
      "zones: 100%|██████████| 35/35 [00:11<00:00,  3.16it/s]           \n"
     ]
    }
   ],
   "source": [
    "sm =  stepmodel.read_zip(quetzal_path + scenario +  '/assigned.zip')"
   ]
  },
  {
   "cell_type": "code",
   "execution_count": 57,
   "metadata": {},
   "outputs": [],
   "source": [
    "sm.volumes.loc[sm.volumes['origin'] == sm.volumes['destination'], ['car', 'nocar']] = 0 "
   ]
  },
  {
   "cell_type": "code",
   "execution_count": 58,
   "metadata": {},
   "outputs": [
    {
     "name": "stdout",
     "output_type": "stream",
     "text": [
      "['express_bus', 'subway', 'concho', 'minibus', 'bus', 'gondola', 'tram']\n"
     ]
    }
   ],
   "source": [
    "pt = list(sm.mode_nests.reset_index().set_index('root').loc['pt']['route_type'])\n",
    "print(pt)"
   ]
  },
  {
   "cell_type": "code",
   "execution_count": 59,
   "metadata": {},
   "outputs": [
    {
     "data": {
      "text/plain": [
       "<module 'quetzal.model.summarymodel' from 'c:\\\\Users\\\\qchasserieau\\\\quetzal_quartz\\\\quetzal_santo_domingo\\\\notebooks\\\\transport\\\\../../../quetzal\\\\quetzal\\\\model\\\\summarymodel.py'>"
      ]
     },
     "execution_count": 59,
     "metadata": {},
     "output_type": "execute_result"
    }
   ],
   "source": [
    "from imp import reload\n",
    "from quetzal.model import summarymodel\n",
    "reload(summarymodel)"
   ]
  },
  {
   "cell_type": "code",
   "execution_count": 60,
   "metadata": {},
   "outputs": [],
   "source": [
    "sm.los['od_fares'] = [{} for i in sm.los.index]"
   ]
  },
  {
   "cell_type": "code",
   "execution_count": 61,
   "metadata": {},
   "outputs": [
    {
     "data": {
      "text/html": [
       "<div>\n",
       "<style scoped>\n",
       "    .dataframe tbody tr th:only-of-type {\n",
       "        vertical-align: middle;\n",
       "    }\n",
       "\n",
       "    .dataframe tbody tr th {\n",
       "        vertical-align: top;\n",
       "    }\n",
       "\n",
       "    .dataframe thead th {\n",
       "        text-align: right;\n",
       "    }\n",
       "</style>\n",
       "<table border=\"1\" class=\"dataframe\">\n",
       "  <thead>\n",
       "    <tr style=\"text-align: right;\">\n",
       "      <th></th>\n",
       "      <th>fare_id</th>\n",
       "      <th>route_id</th>\n",
       "    </tr>\n",
       "  </thead>\n",
       "  <tbody>\n",
       "    <tr>\n",
       "      <th>0</th>\n",
       "      <td>concho</td>\n",
       "      <td>CP_C100_1</td>\n",
       "    </tr>\n",
       "    <tr>\n",
       "      <th>1</th>\n",
       "      <td>concho</td>\n",
       "      <td>CP_C100_2</td>\n",
       "    </tr>\n",
       "    <tr>\n",
       "      <th>2</th>\n",
       "      <td>concho</td>\n",
       "      <td>CP_C101E_1</td>\n",
       "    </tr>\n",
       "    <tr>\n",
       "      <th>3</th>\n",
       "      <td>concho</td>\n",
       "      <td>CP_C101E_2</td>\n",
       "    </tr>\n",
       "    <tr>\n",
       "      <th>4</th>\n",
       "      <td>concho</td>\n",
       "      <td>CP_C102_1</td>\n",
       "    </tr>\n",
       "    <tr>\n",
       "      <th>...</th>\n",
       "      <td>...</td>\n",
       "      <td>...</td>\n",
       "    </tr>\n",
       "    <tr>\n",
       "      <th>614</th>\n",
       "      <td>opret</td>\n",
       "      <td>27_febrero</td>\n",
       "    </tr>\n",
       "    <tr>\n",
       "      <th>615</th>\n",
       "      <td>opret</td>\n",
       "      <td>ecologico</td>\n",
       "    </tr>\n",
       "    <tr>\n",
       "      <th>616</th>\n",
       "      <td>opret</td>\n",
       "      <td>ecologico</td>\n",
       "    </tr>\n",
       "    <tr>\n",
       "      <th>617</th>\n",
       "      <td>opret</td>\n",
       "      <td>mella</td>\n",
       "    </tr>\n",
       "    <tr>\n",
       "      <th>618</th>\n",
       "      <td>opret</td>\n",
       "      <td>mella</td>\n",
       "    </tr>\n",
       "  </tbody>\n",
       "</table>\n",
       "<p>619 rows × 2 columns</p>\n",
       "</div>"
      ],
      "text/plain": [
       "    fare_id    route_id\n",
       "0    concho   CP_C100_1\n",
       "1    concho   CP_C100_2\n",
       "2    concho  CP_C101E_1\n",
       "3    concho  CP_C101E_2\n",
       "4    concho   CP_C102_1\n",
       "..      ...         ...\n",
       "614   opret  27_febrero\n",
       "615   opret   ecologico\n",
       "616   opret   ecologico\n",
       "617   opret       mella\n",
       "618   opret       mella\n",
       "\n",
       "[619 rows x 2 columns]"
      ]
     },
     "execution_count": 61,
     "metadata": {},
     "output_type": "execute_result"
    }
   ],
   "source": [
    "sm.fare_rules"
   ]
  },
  {
   "cell_type": "code",
   "execution_count": 62,
   "metadata": {
    "scrolled": true
   },
   "outputs": [],
   "source": [
    "sm.loaded_links = sm.links.copy()\n",
    "sm.summary_link_max(inplace=True)\n",
    "sm.summary_link_sum(inplace=True)\n",
    "sm.summary_path_sum(inplace=True, dense=True)\n",
    "sm.summary_path_average(inplace=True, dense=True)\n",
    "sm.summary_aggregated_path_average(inplace=True)\n",
    "sm.summary_earning(inplace=True, dense=True)"
   ]
  },
  {
   "cell_type": "code",
   "execution_count": 63,
   "metadata": {},
   "outputs": [
    {
     "data": {
      "text/html": [
       "<div>\n",
       "<style scoped>\n",
       "    .dataframe tbody tr th:only-of-type {\n",
       "        vertical-align: middle;\n",
       "    }\n",
       "\n",
       "    .dataframe tbody tr th {\n",
       "        vertical-align: top;\n",
       "    }\n",
       "\n",
       "    .dataframe thead th {\n",
       "        text-align: right;\n",
       "    }\n",
       "</style>\n",
       "<table border=\"1\" class=\"dataframe\">\n",
       "  <thead>\n",
       "    <tr style=\"text-align: right;\">\n",
       "      <th></th>\n",
       "      <th>fare_id</th>\n",
       "      <th>price</th>\n",
       "      <th>transfers</th>\n",
       "      <th>agency_id</th>\n",
       "    </tr>\n",
       "  </thead>\n",
       "  <tbody>\n",
       "    <tr>\n",
       "      <th>0</th>\n",
       "      <td>bus</td>\n",
       "      <td>15.0</td>\n",
       "      <td>0.0</td>\n",
       "      <td>intrant</td>\n",
       "    </tr>\n",
       "    <tr>\n",
       "      <th>1</th>\n",
       "      <td>concho</td>\n",
       "      <td>25.0</td>\n",
       "      <td>0.0</td>\n",
       "      <td>intrant</td>\n",
       "    </tr>\n",
       "    <tr>\n",
       "      <th>2</th>\n",
       "      <td>express_bus</td>\n",
       "      <td>30.0</td>\n",
       "      <td>0.0</td>\n",
       "      <td>intrant</td>\n",
       "    </tr>\n",
       "    <tr>\n",
       "      <th>3</th>\n",
       "      <td>f0</td>\n",
       "      <td>25.0</td>\n",
       "      <td>0.0</td>\n",
       "      <td>intrant</td>\n",
       "    </tr>\n",
       "    <tr>\n",
       "      <th>4</th>\n",
       "      <td>f1</td>\n",
       "      <td>40.0</td>\n",
       "      <td>1.0</td>\n",
       "      <td>intrant</td>\n",
       "    </tr>\n",
       "    <tr>\n",
       "      <th>5</th>\n",
       "      <td>f2</td>\n",
       "      <td>55.0</td>\n",
       "      <td>2.0</td>\n",
       "      <td>intrant</td>\n",
       "    </tr>\n",
       "    <tr>\n",
       "      <th>6</th>\n",
       "      <td>f3</td>\n",
       "      <td>70.0</td>\n",
       "      <td>3.0</td>\n",
       "      <td>intrant</td>\n",
       "    </tr>\n",
       "    <tr>\n",
       "      <th>7</th>\n",
       "      <td>fn</td>\n",
       "      <td>80.0</td>\n",
       "      <td>10.0</td>\n",
       "      <td>intrant</td>\n",
       "    </tr>\n",
       "    <tr>\n",
       "      <th>8</th>\n",
       "      <td>integrated</td>\n",
       "      <td>50.0</td>\n",
       "      <td>inf</td>\n",
       "      <td>intrant</td>\n",
       "    </tr>\n",
       "    <tr>\n",
       "      <th>9</th>\n",
       "      <td>minibus</td>\n",
       "      <td>25.0</td>\n",
       "      <td>0.0</td>\n",
       "      <td>intrant</td>\n",
       "    </tr>\n",
       "    <tr>\n",
       "      <th>10</th>\n",
       "      <td>opret</td>\n",
       "      <td>20.0</td>\n",
       "      <td>10.0</td>\n",
       "      <td>intrant</td>\n",
       "    </tr>\n",
       "    <tr>\n",
       "      <th>11</th>\n",
       "      <td>tram</td>\n",
       "      <td>30.0</td>\n",
       "      <td>0.0</td>\n",
       "      <td>intrant</td>\n",
       "    </tr>\n",
       "  </tbody>\n",
       "</table>\n",
       "</div>"
      ],
      "text/plain": [
       "        fare_id  price  transfers agency_id\n",
       "0           bus   15.0        0.0   intrant\n",
       "1        concho   25.0        0.0   intrant\n",
       "2   express_bus   30.0        0.0   intrant\n",
       "3            f0   25.0        0.0   intrant\n",
       "4            f1   40.0        1.0   intrant\n",
       "5            f2   55.0        2.0   intrant\n",
       "6            f3   70.0        3.0   intrant\n",
       "7            fn   80.0       10.0   intrant\n",
       "8    integrated   50.0        inf   intrant\n",
       "9       minibus   25.0        0.0   intrant\n",
       "10        opret   20.0       10.0   intrant\n",
       "11         tram   30.0        0.0   intrant"
      ]
     },
     "execution_count": 63,
     "metadata": {},
     "output_type": "execute_result"
    }
   ],
   "source": [
    "sm.fare_attributes"
   ]
  },
  {
   "cell_type": "code",
   "execution_count": 64,
   "metadata": {},
   "outputs": [
    {
     "data": {
      "text/plain": [
       "Index(['a', 'trip_id', 'link_sequence', 'b', 'route_id', 'direction_id',\n",
       "       'route_type', 'route_color', 'road_a', 'road_b', 'road_node_list',\n",
       "       'road_link_list', 'road_length', 'geometry', 'headway', 'speed',\n",
       "       'length', 'time', 'route_type_group', 'duration', 'cost', 'origin',\n",
       "       'destination', 'agency_id', 'volume', 'boardings'],\n",
       "      dtype='object')"
      ]
     },
     "execution_count": 64,
     "metadata": {},
     "output_type": "execute_result"
    }
   ],
   "source": [
    "sm.links.columns"
   ]
  },
  {
   "cell_type": "code",
   "execution_count": 65,
   "metadata": {
    "scrolled": true
   },
   "outputs": [],
   "source": [
    "def od_stack(\n",
    "    self, \n",
    "    segments=['car', 'nocar'], \n",
    "    costs=['price', 'time', 'in_vehicle_time', 'in_vehicle_length', 'ntransfers']\n",
    "):\n",
    "    sm = self\n",
    "    los = pd.concat([sm.pt_los, sm.car_los])\n",
    "    los['mode'] = los['route_type']\n",
    "    los.loc[los['route_type'].isin(pt), 'mode'] = 'pt'\n",
    "\n",
    "    columns = []\n",
    "\n",
    "    los = pd.merge(\n",
    "        los, sm.volumes[['origin', 'destination'] +  segments], \n",
    "        on=['origin', 'destination'], suffixes=['_old', '']\n",
    "    )\n",
    "    \n",
    "\n",
    "    for segment in segments:\n",
    "        los[(segment, 'volume')] = los[(segment, 'probability')] * los[segment]\n",
    "\n",
    "\n",
    "    for segment in segments:\n",
    "        columns.append((segment, 'volume'))\n",
    "        for service in costs:\n",
    "            column = (segment, service)\n",
    "            columns.append(column)\n",
    "            los[column] = los[(segment, 'probability')] * los[service]\n",
    "\n",
    "    df = los.groupby(['origin', 'destination', 'mode'])[columns].sum()      \n",
    "    df.columns = pd.MultiIndex.from_tuples(df.columns)\n",
    "\n",
    "    # add root (weighted mean of segments)\n",
    "\n",
    "    df[('root', 'volume')] = sum([df[(segment, 'volume')].fillna(0) for segment in segments])\n",
    "\n",
    "    weighted_sum = sum(\n",
    "        [\n",
    "            df[segment][costs].apply(lambda s: s * df[(segment, 'volume')]).fillna(0)\n",
    "            for segment in segments\n",
    "        ]      \n",
    "    )\n",
    "\n",
    "    for c in costs: \n",
    "        df[('root', c)] = (weighted_sum[c] / df[('root', 'volume')]).fillna(0)\n",
    "\n",
    "    df.columns.names = 'segment', 'sum'\n",
    "    return df"
   ]
  },
  {
   "cell_type": "code",
   "execution_count": 66,
   "metadata": {},
   "outputs": [],
   "source": [
    "def municipio_stack(sm, *args, **kwargs):\n",
    "    df = od_stack(sm, *args, **kwargs)\n",
    "    right = sm.zones[['municipio']]\n",
    "    proto = df.stack('segment')\n",
    "    index_names = proto.index.names\n",
    "    left = proto.reset_index()\n",
    "    merged = pd.merge(left, right, left_on=['origin'], right_index=True\n",
    "                     ).set_index(index_names).reset_index('mode').reset_index(drop=True)\n",
    "\n",
    "    wm = lambda x: np.average(x, weights=merged.loc[x.index, 'volume'])\n",
    "    # Groupby and aggregate with your dictionary:\n",
    "    return merged.groupby(['municipio', 'mode']).agg(wm).stack()"
   ]
  },
  {
   "cell_type": "code",
   "execution_count": 67,
   "metadata": {
    "scrolled": true
   },
   "outputs": [],
   "source": [
    "sm.pt_los = sm.los.loc[sm.los['route_type'] != 'car']\n",
    "sm.car_los = sm.los.loc[sm.los['route_type'] == 'car']\n",
    "sm.stack_municipio = municipio_stack(sm)\n",
    "sm.stack_municipio.name = 'average'"
   ]
  },
  {
   "cell_type": "code",
   "execution_count": 68,
   "metadata": {},
   "outputs": [
    {
     "data": {
      "text/html": [
       "<div>\n",
       "<style scoped>\n",
       "    .dataframe tbody tr th:only-of-type {\n",
       "        vertical-align: middle;\n",
       "    }\n",
       "\n",
       "    .dataframe tbody tr th {\n",
       "        vertical-align: top;\n",
       "    }\n",
       "\n",
       "    .dataframe thead th {\n",
       "        text-align: right;\n",
       "    }\n",
       "</style>\n",
       "<table border=\"1\" class=\"dataframe\">\n",
       "  <thead>\n",
       "    <tr style=\"text-align: right;\">\n",
       "      <th></th>\n",
       "      <th></th>\n",
       "      <th>in_vehicle_length</th>\n",
       "      <th>in_vehicle_time</th>\n",
       "      <th>ntransfers</th>\n",
       "      <th>price</th>\n",
       "      <th>time</th>\n",
       "      <th>volume</th>\n",
       "    </tr>\n",
       "    <tr>\n",
       "      <th>municipio</th>\n",
       "      <th>mode</th>\n",
       "      <th></th>\n",
       "      <th></th>\n",
       "      <th></th>\n",
       "      <th></th>\n",
       "      <th></th>\n",
       "      <th></th>\n",
       "    </tr>\n",
       "  </thead>\n",
       "  <tbody>\n",
       "    <tr>\n",
       "      <th rowspan=\"2\" valign=\"top\">los alcarrizos</th>\n",
       "      <th>pt</th>\n",
       "      <td>10467.106801</td>\n",
       "      <td>1520.523050</td>\n",
       "      <td>1.255520</td>\n",
       "      <td>20.124631</td>\n",
       "      <td>2619.826503</td>\n",
       "      <td>167.089279</td>\n",
       "    </tr>\n",
       "    <tr>\n",
       "      <th>walk</th>\n",
       "      <td>0.000000</td>\n",
       "      <td>0.000000</td>\n",
       "      <td>0.000000</td>\n",
       "      <td>4.951300</td>\n",
       "      <td>379.809758</td>\n",
       "      <td>24.875519</td>\n",
       "    </tr>\n",
       "    <tr>\n",
       "      <th rowspan=\"2\" valign=\"top\">santo domingo de guzman</th>\n",
       "      <th>pt</th>\n",
       "      <td>4358.729167</td>\n",
       "      <td>810.284601</td>\n",
       "      <td>0.622990</td>\n",
       "      <td>18.342585</td>\n",
       "      <td>1701.321401</td>\n",
       "      <td>34.860708</td>\n",
       "    </tr>\n",
       "    <tr>\n",
       "      <th>walk</th>\n",
       "      <td>0.000000</td>\n",
       "      <td>0.000000</td>\n",
       "      <td>0.000000</td>\n",
       "      <td>1.612434</td>\n",
       "      <td>544.677904</td>\n",
       "      <td>63.566790</td>\n",
       "    </tr>\n",
       "    <tr>\n",
       "      <th rowspan=\"2\" valign=\"top\">santo domingo este</th>\n",
       "      <th>pt</th>\n",
       "      <td>7653.952423</td>\n",
       "      <td>1382.565809</td>\n",
       "      <td>0.876918</td>\n",
       "      <td>20.532392</td>\n",
       "      <td>2626.938599</td>\n",
       "      <td>37.898098</td>\n",
       "    </tr>\n",
       "    <tr>\n",
       "      <th>walk</th>\n",
       "      <td>0.000000</td>\n",
       "      <td>0.000000</td>\n",
       "      <td>0.000000</td>\n",
       "      <td>2.127110</td>\n",
       "      <td>689.594899</td>\n",
       "      <td>72.447538</td>\n",
       "    </tr>\n",
       "    <tr>\n",
       "      <th rowspan=\"2\" valign=\"top\">santo domingo norte</th>\n",
       "      <th>pt</th>\n",
       "      <td>8191.649605</td>\n",
       "      <td>1408.204139</td>\n",
       "      <td>1.110517</td>\n",
       "      <td>24.708555</td>\n",
       "      <td>2687.165982</td>\n",
       "      <td>192.471300</td>\n",
       "    </tr>\n",
       "    <tr>\n",
       "      <th>walk</th>\n",
       "      <td>0.000000</td>\n",
       "      <td>0.000000</td>\n",
       "      <td>0.000000</td>\n",
       "      <td>5.652147</td>\n",
       "      <td>313.206066</td>\n",
       "      <td>20.162604</td>\n",
       "    </tr>\n",
       "    <tr>\n",
       "      <th rowspan=\"2\" valign=\"top\">santo domingo oeste</th>\n",
       "      <th>pt</th>\n",
       "      <td>5020.960750</td>\n",
       "      <td>940.597220</td>\n",
       "      <td>0.802585</td>\n",
       "      <td>17.783656</td>\n",
       "      <td>1956.590303</td>\n",
       "      <td>33.275954</td>\n",
       "    </tr>\n",
       "    <tr>\n",
       "      <th>walk</th>\n",
       "      <td>0.000000</td>\n",
       "      <td>0.000000</td>\n",
       "      <td>0.000000</td>\n",
       "      <td>1.059688</td>\n",
       "      <td>652.639467</td>\n",
       "      <td>95.254519</td>\n",
       "    </tr>\n",
       "  </tbody>\n",
       "</table>\n",
       "</div>"
      ],
      "text/plain": [
       "                              in_vehicle_length  in_vehicle_time  ntransfers  \\\n",
       "municipio               mode                                                   \n",
       "los alcarrizos          pt         10467.106801      1520.523050    1.255520   \n",
       "                        walk           0.000000         0.000000    0.000000   \n",
       "santo domingo de guzman pt          4358.729167       810.284601    0.622990   \n",
       "                        walk           0.000000         0.000000    0.000000   \n",
       "santo domingo este      pt          7653.952423      1382.565809    0.876918   \n",
       "                        walk           0.000000         0.000000    0.000000   \n",
       "santo domingo norte     pt          8191.649605      1408.204139    1.110517   \n",
       "                        walk           0.000000         0.000000    0.000000   \n",
       "santo domingo oeste     pt          5020.960750       940.597220    0.802585   \n",
       "                        walk           0.000000         0.000000    0.000000   \n",
       "\n",
       "                                  price         time      volume  \n",
       "municipio               mode                                      \n",
       "los alcarrizos          pt    20.124631  2619.826503  167.089279  \n",
       "                        walk   4.951300   379.809758   24.875519  \n",
       "santo domingo de guzman pt    18.342585  1701.321401   34.860708  \n",
       "                        walk   1.612434   544.677904   63.566790  \n",
       "santo domingo este      pt    20.532392  2626.938599   37.898098  \n",
       "                        walk   2.127110   689.594899   72.447538  \n",
       "santo domingo norte     pt    24.708555  2687.165982  192.471300  \n",
       "                        walk   5.652147   313.206066   20.162604  \n",
       "santo domingo oeste     pt    17.783656  1956.590303   33.275954  \n",
       "                        walk   1.059688   652.639467   95.254519  "
      ]
     },
     "execution_count": 68,
     "metadata": {},
     "output_type": "execute_result"
    }
   ],
   "source": [
    "sm.stack_municipio.unstack()"
   ]
  },
  {
   "cell_type": "markdown",
   "metadata": {},
   "source": [
    "# Buffer"
   ]
  },
  {
   "cell_type": "code",
   "execution_count": 69,
   "metadata": {},
   "outputs": [],
   "source": [
    "def buffer_stack(sm, route_types=()):\n",
    "    sm = sm.copy()\n",
    "    r = range(1,11)\n",
    "    \n",
    "    heavy_nodes = set(sm.links.loc[sm.links['route_type'].isin(route_types)]['a'])\n",
    "    for b in r:\n",
    "        buffer = geometry.MultiPoint(list(sm.nodes.loc[heavy_nodes]['geometry'])).buffer(b * 100)\n",
    "\n",
    "        def in_buffer_ratio(geometry):\n",
    "            return (geometry.intersection(buffer).area) / geometry.area\n",
    "\n",
    "        sm.zones['ib' + str(b * 100)] = sm.zones['geometry'].apply(in_buffer_ratio)\n",
    "    right = sm.zones[['ib' + str(b * 100) for b in r]].apply(lambda c: c*sm.zones['pop'])\n",
    "    right.columns = [i * 100 for i in list(r)]\n",
    "    \n",
    "    tot = sm.zones['pop'].sum()\n",
    "    s = right.sum() / tot\n",
    "    s.name = 'ratio'\n",
    "    s.index.name = 'distance'\n",
    "    return s\n",
    "\n",
    "if True:\n",
    "    sm.stack_buffer = buffer_stack(sm, route_types=['subway', 'tram', 'express_bus', 'gondola'])"
   ]
  },
  {
   "cell_type": "code",
   "execution_count": 70,
   "metadata": {},
   "outputs": [],
   "source": [
    "sm.to_excel(quetzal_path + scenario + '/stacks.xlsx')"
   ]
  },
  {
   "cell_type": "code",
   "execution_count": 71,
   "metadata": {},
   "outputs": [
    {
     "data": {
      "text/plain": [
       "4259579.524262475"
      ]
     },
     "execution_count": 71,
     "metadata": {},
     "output_type": "execute_result"
    }
   ],
   "source": [
    "sm.stack_earning.sum()/2"
   ]
  },
  {
   "cell_type": "code",
   "execution_count": 72,
   "metadata": {},
   "outputs": [
    {
     "data": {
      "text/plain": [
       "fare_id\n",
       "opret      2.322495e+06\n",
       "f1         0.000000e+00\n",
       "f3         0.000000e+00\n",
       "bus        4.045072e+05\n",
       "f0         0.000000e+00\n",
       "concho     7.376459e+05\n",
       "f2         0.000000e+00\n",
       "minibus    7.949310e+05\n",
       "intrant    4.259580e+06\n",
       "Name: sum, dtype: float64"
      ]
     },
     "execution_count": 72,
     "metadata": {},
     "output_type": "execute_result"
    }
   ],
   "source": [
    "sm.stack_earning"
   ]
  },
  {
   "cell_type": "code",
   "execution_count": null,
   "metadata": {},
   "outputs": [],
   "source": []
  }
 ],
 "metadata": {
  "kernelspec": {
   "display_name": "Python 3.8.12 ('quetzal_env')",
   "language": "python",
   "name": "python3"
  },
  "language_info": {
   "codemirror_mode": {
    "name": "ipython",
    "version": 3
   },
   "file_extension": ".py",
   "mimetype": "text/x-python",
   "name": "python",
   "nbconvert_exporter": "python",
   "pygments_lexer": "ipython3",
   "version": "3.8.12"
  },
  "vscode": {
   "interpreter": {
    "hash": "63ed8d3682b3a3f883b3db9dd4a15374715afa9f25179090c3e8481b99e79868"
   }
  }
 },
 "nbformat": 4,
 "nbformat_minor": 2
}
