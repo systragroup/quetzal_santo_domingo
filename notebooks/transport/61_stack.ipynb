{
 "cells": [
  {
   "cell_type": "code",
   "execution_count": 54,
   "metadata": {},
   "outputs": [],
   "source": [
    "import sys\n",
    "if 'ipykernel_launcher.py' not in sys.argv[0]:\n",
    "    manual = False\n",
    "    scenario = sys.argv[1]\n",
    "else:\n",
    "    manual = True\n",
    "    scenario = 'ref_18'\n",
    "    %matplotlib inline"
   ]
  },
  {
   "cell_type": "code",
   "execution_count": 55,
   "metadata": {},
   "outputs": [],
   "source": [
    "import geopandas as gpd\n",
    "import pandas as pd\n",
    "import numpy as np\n",
    "\n",
    "work_path = r'../../../'\n",
    "quetzal_path = work_path + r'quetzal_santo_domingo/model/'\n",
    "\n",
    "plot_path = work_path + r'plot/scenarios/'\n",
    "import sys\n",
    "sys.path.insert(0, '../../../quetzal/')\n",
    "\n",
    "from quetzal.model import stepmodel"
   ]
  },
  {
   "cell_type": "code",
   "execution_count": 56,
   "metadata": {},
   "outputs": [],
   "source": [
    "from shapely import geometry"
   ]
  },
  {
   "cell_type": "code",
   "execution_count": 57,
   "metadata": {},
   "outputs": [
    {
     "name": "stderr",
     "output_type": "stream",
     "text": [
      "zones: 100%|██████████| 35/35 [00:12<00:00,  2.90it/s]           \n"
     ]
    }
   ],
   "source": [
    "sm =  stepmodel.read_zip(quetzal_path + scenario +  '/assigned.zip')"
   ]
  },
  {
   "cell_type": "code",
   "execution_count": 58,
   "metadata": {},
   "outputs": [],
   "source": [
    "sm.volumes.loc[sm.volumes['origin'] == sm.volumes['destination'], ['car', 'nocar']] = 0 "
   ]
  },
  {
   "cell_type": "code",
   "execution_count": 59,
   "metadata": {},
   "outputs": [
    {
     "name": "stdout",
     "output_type": "stream",
     "text": [
      "['minibus', 'bus', 'concho', 'gondola', 'subway']\n"
     ]
    }
   ],
   "source": [
    "pt = list(sm.mode_nests.reset_index().set_index('root').loc['pt']['route_type'])\n",
    "print(pt)"
   ]
  },
  {
   "cell_type": "code",
   "execution_count": 60,
   "metadata": {},
   "outputs": [
    {
     "data": {
      "text/plain": [
       "<module 'quetzal.model.summarymodel' from 'c:\\\\Users\\\\qchasserieau\\\\quetzal_quartz\\\\quetzal_santo_domingo\\\\notebooks\\\\transport\\\\../../../quetzal\\\\quetzal\\\\model\\\\summarymodel.py'>"
      ]
     },
     "execution_count": 60,
     "metadata": {},
     "output_type": "execute_result"
    }
   ],
   "source": [
    "from imp import reload\n",
    "from quetzal.model import summarymodel\n",
    "reload(summarymodel)"
   ]
  },
  {
   "cell_type": "code",
   "execution_count": 61,
   "metadata": {},
   "outputs": [],
   "source": [
    "sm.los['od_fares'] = [{} for i in sm.los.index]"
   ]
  },
  {
   "cell_type": "code",
   "execution_count": 62,
   "metadata": {},
   "outputs": [
    {
     "data": {
      "text/html": [
       "<div>\n",
       "<style scoped>\n",
       "    .dataframe tbody tr th:only-of-type {\n",
       "        vertical-align: middle;\n",
       "    }\n",
       "\n",
       "    .dataframe tbody tr th {\n",
       "        vertical-align: top;\n",
       "    }\n",
       "\n",
       "    .dataframe thead th {\n",
       "        text-align: right;\n",
       "    }\n",
       "</style>\n",
       "<table border=\"1\" class=\"dataframe\">\n",
       "  <thead>\n",
       "    <tr style=\"text-align: right;\">\n",
       "      <th></th>\n",
       "      <th>fare_id</th>\n",
       "      <th>route_id</th>\n",
       "    </tr>\n",
       "  </thead>\n",
       "  <tbody>\n",
       "    <tr>\n",
       "      <th>0</th>\n",
       "      <td>concho</td>\n",
       "      <td>CP_C100_1</td>\n",
       "    </tr>\n",
       "    <tr>\n",
       "      <th>1</th>\n",
       "      <td>concho</td>\n",
       "      <td>CP_C100_2</td>\n",
       "    </tr>\n",
       "    <tr>\n",
       "      <th>2</th>\n",
       "      <td>concho</td>\n",
       "      <td>CP_C101E_1</td>\n",
       "    </tr>\n",
       "    <tr>\n",
       "      <th>3</th>\n",
       "      <td>concho</td>\n",
       "      <td>CP_C101E_2</td>\n",
       "    </tr>\n",
       "    <tr>\n",
       "      <th>4</th>\n",
       "      <td>concho</td>\n",
       "      <td>CP_C102_1</td>\n",
       "    </tr>\n",
       "    <tr>\n",
       "      <th>...</th>\n",
       "      <td>...</td>\n",
       "      <td>...</td>\n",
       "    </tr>\n",
       "    <tr>\n",
       "      <th>410</th>\n",
       "      <td>bus</td>\n",
       "      <td>AB_A20B_2</td>\n",
       "    </tr>\n",
       "    <tr>\n",
       "      <th>411</th>\n",
       "      <td>bus</td>\n",
       "      <td>AB_A31_1</td>\n",
       "    </tr>\n",
       "    <tr>\n",
       "      <th>412</th>\n",
       "      <td>bus</td>\n",
       "      <td>AB_A31_2</td>\n",
       "    </tr>\n",
       "    <tr>\n",
       "      <th>413</th>\n",
       "      <td>bus</td>\n",
       "      <td>AB_A69_1</td>\n",
       "    </tr>\n",
       "    <tr>\n",
       "      <th>414</th>\n",
       "      <td>bus</td>\n",
       "      <td>AB_A69_2</td>\n",
       "    </tr>\n",
       "  </tbody>\n",
       "</table>\n",
       "<p>415 rows × 2 columns</p>\n",
       "</div>"
      ],
      "text/plain": [
       "    fare_id    route_id\n",
       "0    concho   CP_C100_1\n",
       "1    concho   CP_C100_2\n",
       "2    concho  CP_C101E_1\n",
       "3    concho  CP_C101E_2\n",
       "4    concho   CP_C102_1\n",
       "..      ...         ...\n",
       "410     bus   AB_A20B_2\n",
       "411     bus    AB_A31_1\n",
       "412     bus    AB_A31_2\n",
       "413     bus    AB_A69_1\n",
       "414     bus    AB_A69_2\n",
       "\n",
       "[415 rows x 2 columns]"
      ]
     },
     "execution_count": 62,
     "metadata": {},
     "output_type": "execute_result"
    }
   ],
   "source": [
    "sm.fare_rules"
   ]
  },
  {
   "cell_type": "code",
   "execution_count": 63,
   "metadata": {},
   "outputs": [],
   "source": [
    "sm.fare_attributes['agency_id'] = 'SITP'\n",
    "sm.fare_attributes.loc[sm.fare_attributes['fare_id'].isin(['minibus', 'concho']), 'agency_id'] = 'informal'"
   ]
  },
  {
   "cell_type": "code",
   "execution_count": 64,
   "metadata": {
    "scrolled": true
   },
   "outputs": [],
   "source": [
    "sm.loaded_links = sm.links.copy()\n",
    "sm.summary_link_max(inplace=True)\n",
    "sm.summary_link_sum(inplace=True)\n",
    "sm.summary_path_sum(inplace=True, dense=True)\n",
    "sm.summary_path_average(inplace=True, dense=True)\n",
    "sm.summary_aggregated_path_average(inplace=True, pt_route_types=pt)\n",
    "sm.summary_earning(inplace=True, dense=True)"
   ]
  },
  {
   "cell_type": "markdown",
   "metadata": {},
   "source": [
    "# INTEGRACIÓN TARIFARIA"
   ]
  },
  {
   "cell_type": "code",
   "execution_count": 65,
   "metadata": {},
   "outputs": [],
   "source": [
    "self = sm.copy()\n",
    "pt = ['concho', 'gondola', 'tram', 'express_bus', 'bus', 'subway', 'minibus']\n",
    "costs=['price', 'time', 'in_vehicle_time', 'in_vehicle_length', 'ntransfers']\n",
    "left = self.los[costs + ['origin', 'volume', 'route_type']].copy()\n",
    "left.loc[left['route_type'].isin(pt), 'route_type'] = 'pt'\n",
    "df = pd.merge(left, sm.zones[['municipio']], left_on=['origin'], right_index=True)\n",
    "df['count'] = 1\n",
    "munisum = df.groupby([ 'route_type','municipio',])[costs + ['count']].agg(lambda s: (s*df['volume']).sum())"
   ]
  },
  {
   "cell_type": "code",
   "execution_count": 66,
   "metadata": {},
   "outputs": [
    {
     "data": {
      "text/plain": [
       "pt_share  los alcarrizos             0.343863\n",
       "          santo domingo de guzman    0.322349\n",
       "          santo domingo este         0.387069\n",
       "          santo domingo norte        0.470167\n",
       "          santo domingo oeste        0.318703\n",
       "          gran santo domingo         0.359931\n",
       "Name: count, dtype: float64"
      ]
     },
     "execution_count": 66,
     "metadata": {},
     "output_type": "execute_result"
    }
   ],
   "source": [
    "pt_share = munisum.loc['pt']['count'] / munisum.groupby(level=1)['count'].sum()\n",
    "pt_share['gran santo domingo'] = df.groupby(['route_type'])['volume'].sum()['pt'] / df['volume'].sum()\n",
    "pt_share.index = pd.MultiIndex.from_tuples(('pt_share', i) for i in pt_share.index)\n",
    "pt_share"
   ]
  },
  {
   "cell_type": "code",
   "execution_count": 67,
   "metadata": {},
   "outputs": [
    {
     "data": {
      "text/html": [
       "<div>\n",
       "<style scoped>\n",
       "    .dataframe tbody tr th:only-of-type {\n",
       "        vertical-align: middle;\n",
       "    }\n",
       "\n",
       "    .dataframe tbody tr th {\n",
       "        vertical-align: top;\n",
       "    }\n",
       "\n",
       "    .dataframe thead th {\n",
       "        text-align: right;\n",
       "    }\n",
       "</style>\n",
       "<table border=\"1\" class=\"dataframe\">\n",
       "  <thead>\n",
       "    <tr style=\"text-align: right;\">\n",
       "      <th></th>\n",
       "      <th>fare_id</th>\n",
       "      <th>price</th>\n",
       "      <th>transfers</th>\n",
       "      <th>agency_id</th>\n",
       "    </tr>\n",
       "  </thead>\n",
       "  <tbody>\n",
       "    <tr>\n",
       "      <th>0</th>\n",
       "      <td>bus</td>\n",
       "      <td>15.0</td>\n",
       "      <td>0.0</td>\n",
       "      <td>SITP</td>\n",
       "    </tr>\n",
       "    <tr>\n",
       "      <th>1</th>\n",
       "      <td>concho</td>\n",
       "      <td>25.0</td>\n",
       "      <td>0.0</td>\n",
       "      <td>informal</td>\n",
       "    </tr>\n",
       "    <tr>\n",
       "      <th>2</th>\n",
       "      <td>express_bus</td>\n",
       "      <td>20.0</td>\n",
       "      <td>0.0</td>\n",
       "      <td>SITP</td>\n",
       "    </tr>\n",
       "    <tr>\n",
       "      <th>3</th>\n",
       "      <td>f0</td>\n",
       "      <td>1000.0</td>\n",
       "      <td>0.0</td>\n",
       "      <td>SITP</td>\n",
       "    </tr>\n",
       "    <tr>\n",
       "      <th>4</th>\n",
       "      <td>f1</td>\n",
       "      <td>1000.0</td>\n",
       "      <td>1.0</td>\n",
       "      <td>SITP</td>\n",
       "    </tr>\n",
       "    <tr>\n",
       "      <th>5</th>\n",
       "      <td>f2</td>\n",
       "      <td>1000.0</td>\n",
       "      <td>2.0</td>\n",
       "      <td>SITP</td>\n",
       "    </tr>\n",
       "    <tr>\n",
       "      <th>6</th>\n",
       "      <td>f3</td>\n",
       "      <td>1000.0</td>\n",
       "      <td>3.0</td>\n",
       "      <td>SITP</td>\n",
       "    </tr>\n",
       "    <tr>\n",
       "      <th>7</th>\n",
       "      <td>f4</td>\n",
       "      <td>1000.0</td>\n",
       "      <td>4.0</td>\n",
       "      <td>SITP</td>\n",
       "    </tr>\n",
       "    <tr>\n",
       "      <th>8</th>\n",
       "      <td>f5</td>\n",
       "      <td>1000.0</td>\n",
       "      <td>5.0</td>\n",
       "      <td>SITP</td>\n",
       "    </tr>\n",
       "    <tr>\n",
       "      <th>9</th>\n",
       "      <td>fn</td>\n",
       "      <td>1000.0</td>\n",
       "      <td>10.0</td>\n",
       "      <td>SITP</td>\n",
       "    </tr>\n",
       "    <tr>\n",
       "      <th>10</th>\n",
       "      <td>integrated</td>\n",
       "      <td>50.0</td>\n",
       "      <td>inf</td>\n",
       "      <td>SITP</td>\n",
       "    </tr>\n",
       "    <tr>\n",
       "      <th>11</th>\n",
       "      <td>minibus</td>\n",
       "      <td>25.0</td>\n",
       "      <td>0.0</td>\n",
       "      <td>informal</td>\n",
       "    </tr>\n",
       "    <tr>\n",
       "      <th>12</th>\n",
       "      <td>opret</td>\n",
       "      <td>1000.0</td>\n",
       "      <td>10.0</td>\n",
       "      <td>SITP</td>\n",
       "    </tr>\n",
       "    <tr>\n",
       "      <th>13</th>\n",
       "      <td>tram</td>\n",
       "      <td>20.0</td>\n",
       "      <td>0.0</td>\n",
       "      <td>SITP</td>\n",
       "    </tr>\n",
       "  </tbody>\n",
       "</table>\n",
       "</div>"
      ],
      "text/plain": [
       "        fare_id   price  transfers agency_id\n",
       "0           bus    15.0        0.0      SITP\n",
       "1        concho    25.0        0.0  informal\n",
       "2   express_bus    20.0        0.0      SITP\n",
       "3            f0  1000.0        0.0      SITP\n",
       "4            f1  1000.0        1.0      SITP\n",
       "5            f2  1000.0        2.0      SITP\n",
       "6            f3  1000.0        3.0      SITP\n",
       "7            f4  1000.0        4.0      SITP\n",
       "8            f5  1000.0        5.0      SITP\n",
       "9            fn  1000.0       10.0      SITP\n",
       "10   integrated    50.0        inf      SITP\n",
       "11      minibus    25.0        0.0  informal\n",
       "12        opret  1000.0       10.0      SITP\n",
       "13         tram    20.0        0.0      SITP"
      ]
     },
     "execution_count": 67,
     "metadata": {},
     "output_type": "execute_result"
    }
   ],
   "source": [
    "sm.fare_attributes"
   ]
  },
  {
   "cell_type": "code",
   "execution_count": 68,
   "metadata": {},
   "outputs": [],
   "source": [
    "transfer_rate = sm.stack_aggregated_path_average['pt', 'ntransfers']"
   ]
  },
  {
   "cell_type": "code",
   "execution_count": 69,
   "metadata": {},
   "outputs": [],
   "source": [
    "tapin = {rid : 0 for rid in set(sm.links['route_id'])}\n",
    "for arod_list, volume in self.los[['arod_list', 'volume']].dropna().values:\n",
    "   for a, route_id, o, d in arod_list:\n",
    "      tapin[route_id] += volume"
   ]
  },
  {
   "cell_type": "code",
   "execution_count": 70,
   "metadata": {},
   "outputs": [],
   "source": [
    "route_tapin = tapin\n",
    "mode_tapin = {}\n",
    "route_type_dict = self.links.groupby(['route_id'])['route_type'].first().to_dict()\n",
    "for route, volume in route_tapin.items():\n",
    "    mode = route_type_dict[route]\n",
    "    try :\n",
    "        mode_tapin[mode] += volume\n",
    "    except KeyError:\n",
    "        mode_tapin[mode] = volume\n"
   ]
  },
  {
   "cell_type": "code",
   "execution_count": 74,
   "metadata": {},
   "outputs": [
    {
     "data": {
      "text/html": [
       "<div>\n",
       "<style scoped>\n",
       "    .dataframe tbody tr th:only-of-type {\n",
       "        vertical-align: middle;\n",
       "    }\n",
       "\n",
       "    .dataframe tbody tr th {\n",
       "        vertical-align: top;\n",
       "    }\n",
       "\n",
       "    .dataframe thead th {\n",
       "        text-align: right;\n",
       "    }\n",
       "</style>\n",
       "<table border=\"1\" class=\"dataframe\">\n",
       "  <thead>\n",
       "    <tr style=\"text-align: right;\">\n",
       "      <th></th>\n",
       "      <th>bus</th>\n",
       "      <th>concho</th>\n",
       "      <th>gondola</th>\n",
       "      <th>minibus</th>\n",
       "      <th>subway</th>\n",
       "      <th>SITP</th>\n",
       "      <th>informal</th>\n",
       "    </tr>\n",
       "  </thead>\n",
       "  <tbody>\n",
       "    <tr>\n",
       "      <th>boarding</th>\n",
       "      <td>41135</td>\n",
       "      <td>48505</td>\n",
       "      <td>3303</td>\n",
       "      <td>59843</td>\n",
       "      <td>32345</td>\n",
       "      <td>76784</td>\n",
       "      <td>108349</td>\n",
       "    </tr>\n",
       "    <tr>\n",
       "      <th>voykm</th>\n",
       "      <td>213123</td>\n",
       "      <td>125238</td>\n",
       "      <td>14441</td>\n",
       "      <td>244841</td>\n",
       "      <td>166259</td>\n",
       "      <td>393823</td>\n",
       "      <td>370080</td>\n",
       "    </tr>\n",
       "    <tr>\n",
       "      <th>validation</th>\n",
       "      <td>41135</td>\n",
       "      <td>48505</td>\n",
       "      <td>2768</td>\n",
       "      <td>59843</td>\n",
       "      <td>20834</td>\n",
       "      <td>64739</td>\n",
       "      <td>108349</td>\n",
       "    </tr>\n",
       "  </tbody>\n",
       "</table>\n",
       "</div>"
      ],
      "text/plain": [
       "               bus  concho  gondola  minibus  subway    SITP  informal\n",
       "boarding     41135   48505     3303    59843   32345   76784    108349\n",
       "voykm       213123  125238    14441   244841  166259  393823    370080\n",
       "validation   41135   48505     2768    59843   20834   64739    108349"
      ]
     },
     "execution_count": 74,
     "metadata": {},
     "output_type": "execute_result"
    },
    {
     "data": {
      "image/png": "[encoded data removed]",
      "text/plain": [
       "<Figure size 432x288 with 1 Axes>"
      ]
     },
     "metadata": {
      "needs_background": "light"
     },
     "output_type": "display_data"
    }
   ],
   "source": [
    "demanda = pd.DataFrame({\n",
    "    'boarding' : sm.links.groupby(['route_type'])['boardings'].sum(),\n",
    "    'voykm' : sm.links.groupby(['route_type'])['length'].apply(lambda s: (s*sm.links['volume']).sum()) / 1000,\n",
    "    'validation' : mode_tapin\n",
    "})\n",
    "demanda.loc['SITP'] = demanda.reindex([m for m in pt if m not in ['concho', 'minibus']]).sum()\n",
    "demanda.loc['informal'] = demanda.reindex([m for m in pt if m in ['concho', 'minibus']]).sum()\n",
    "demanda.reindex(pt)[['boarding', 'validation']].dropna().plot(kind='bar')\n",
    "demanda.T.astype(int)"
   ]
  },
  {
   "cell_type": "code",
   "execution_count": 75,
   "metadata": {},
   "outputs": [],
   "source": [
    "earnings = self.stack_earning.copy()\n",
    "earnings.index = pd.MultiIndex.from_tuples(('earnings', i) for i in earnings.index)"
   ]
  },
  {
   "cell_type": "code",
   "execution_count": 82,
   "metadata": {},
   "outputs": [],
   "source": [
    "summary = pd.concat([\n",
    "    np.round(pt_share, 3), \n",
    "    np.round(demanda.T.stack(), -2),\n",
    "    np.round(pd.Series(transfer_rate, index=[('transfer_rate', 'gran santo domingo')]), 3),\n",
    "    np.round(earnings, -3), \n",
    "])\n",
    "\n",
    "summary = pd.concat([\n",
    "    pt_share, \n",
    "    demanda.T.stack(), \n",
    "    pd.Series(transfer_rate, index=[('transfer_rate', 'gran santo domingo')]),\n",
    "    earnings, \n",
    "])\n",
    "summary.index.names = ['name', 'filter']\n",
    "summary.name = 'value'\n",
    "summary\n",
    "sm.stack_summary = summary"
   ]
  },
  {
   "cell_type": "code",
   "execution_count": 83,
   "metadata": {},
   "outputs": [
    {
     "data": {
      "text/plain": [
       "<AxesSubplot:ylabel='fare_id'>"
      ]
     },
     "execution_count": 83,
     "metadata": {},
     "output_type": "execute_result"
    },
    {
     "data": {
      "image/png": "[encoded data removed]",
      "text/plain": [
       "<Figure size 432x288 with 1 Axes>"
      ]
     },
     "metadata": {
      "needs_background": "light"
     },
     "output_type": "display_data"
    }
   ],
   "source": [
    "sm.stack_earning.plot(kind='barh')"
   ]
  },
  {
   "cell_type": "markdown",
   "metadata": {},
   "source": [
    "# Buffer"
   ]
  },
  {
   "cell_type": "code",
   "execution_count": 84,
   "metadata": {},
   "outputs": [],
   "source": [
    "def buffer_stack(sm, route_types=()):\n",
    "    sm = sm.copy()\n",
    "    r = range(1,11)\n",
    "    \n",
    "    heavy_nodes = set(sm.links.loc[sm.links['route_type'].isin(route_types)]['a'])\n",
    "    for b in r:\n",
    "        buffer = geometry.MultiPoint(list(sm.nodes.loc[heavy_nodes]['geometry'])).buffer(b * 100)\n",
    "\n",
    "        def in_buffer_ratio(geometry):\n",
    "            return (geometry.intersection(buffer).area) / geometry.area\n",
    "\n",
    "        sm.zones['ib' + str(b * 100)] = sm.zones['geometry'].apply(in_buffer_ratio)\n",
    "    right = sm.zones[['ib' + str(b * 100) for b in r]].apply(lambda c: c*sm.zones['pop'])\n",
    "    right.columns = [i * 100 for i in list(r)]\n",
    "    \n",
    "    tot = sm.zones['pop'].sum()\n",
    "    s = right.sum() / tot\n",
    "    s.name = 'ratio'\n",
    "    s.index.name = 'distance'\n",
    "    return s\n",
    "\n",
    "if True:\n",
    "    sm.stack_buffer = buffer_stack(sm, route_types=['subway', 'tram', 'express_bus', 'gondola'])"
   ]
  },
  {
   "cell_type": "code",
   "execution_count": 85,
   "metadata": {},
   "outputs": [],
   "source": [
    "sm.to_excel(quetzal_path + scenario + '/stacks.xlsx')"
   ]
  },
  {
   "cell_type": "code",
   "execution_count": 81,
   "metadata": {},
   "outputs": [
    {
     "data": {
      "text/plain": [
       "name           filter                 \n",
       "pt_share       los alcarrizos             3.438635e-01\n",
       "               santo domingo de guzman    3.223490e-01\n",
       "               santo domingo este         3.870693e-01\n",
       "               santo domingo norte        4.701667e-01\n",
       "               santo domingo oeste        3.187028e-01\n",
       "               gran santo domingo         3.599309e-01\n",
       "boarding       bus                        4.113557e+04\n",
       "               concho                     4.850540e+04\n",
       "               gondola                    3.303921e+03\n",
       "               minibus                    5.984371e+04\n",
       "               subway                     3.234540e+04\n",
       "               SITP                       7.678489e+04\n",
       "               informal                   1.083491e+05\n",
       "voykm          bus                        2.131230e+05\n",
       "               concho                     1.252389e+05\n",
       "               gondola                    1.444106e+04\n",
       "               minibus                    2.448412e+05\n",
       "               subway                     1.662598e+05\n",
       "               SITP                       3.938238e+05\n",
       "               informal                   3.700800e+05\n",
       "validation     bus                        4.113557e+04\n",
       "               concho                     4.850540e+04\n",
       "               gondola                    2.768792e+03\n",
       "               minibus                    5.984371e+04\n",
       "               subway                     2.083475e+04\n",
       "               SITP                       6.473911e+04\n",
       "               informal                   1.083491e+05\n",
       "transfer_rate  gran santo domingo         6.253813e-01\n",
       "earnings       integrated                 1.177817e+06\n",
       "               minibus                    1.496093e+06\n",
       "               bus                        6.170336e+05\n",
       "               concho                     1.212635e+06\n",
       "               SITP                       1.794851e+06\n",
       "               informal                   2.708728e+06\n",
       "Name: value, dtype: float64"
      ]
     },
     "execution_count": 81,
     "metadata": {},
     "output_type": "execute_result"
    }
   ],
   "source": []
  },
  {
   "cell_type": "code",
   "execution_count": null,
   "metadata": {},
   "outputs": [],
   "source": []
  }
 ],
 "metadata": {
  "kernelspec": {
   "display_name": "Python 3.8.12 ('quetzal_env')",
   "language": "python",
   "name": "python3"
  },
  "language_info": {
   "codemirror_mode": {
    "name": "ipython",
    "version": 3
   },
   "file_extension": ".py",
   "mimetype": "text/x-python",
   "name": "python",
   "nbconvert_exporter": "python",
   "pygments_lexer": "ipython3",
   "version": "3.8.12"
  },
  "vscode": {
   "interpreter": {
    "hash": "63ed8d3682b3a3f883b3db9dd4a15374715afa9f25179090c3e8481b99e79868"
   }
  }
 },
 "nbformat": 4,
 "nbformat_minor": 2
}
