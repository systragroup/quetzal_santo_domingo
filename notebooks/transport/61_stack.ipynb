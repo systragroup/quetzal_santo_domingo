{
 "cells": [
  {
   "cell_type": "code",
   "execution_count": 1,
   "metadata": {},
   "outputs": [],
   "source": [
    "import sys\n",
    "if 'ipykernel_launcher.py' not in sys.argv[0]:\n",
    "    manual = False\n",
    "    scenario = sys.argv[1]\n",
    "else:\n",
    "    manual = True\n",
    "    scenario = 'ref_18'\n",
    "    %matplotlib inline"
   ]
  },
  {
   "cell_type": "code",
   "execution_count": 2,
   "metadata": {},
   "outputs": [
    {
     "name": "stderr",
     "output_type": "stream",
     "text": [
      "C:\\Users\\qchasserieau\\AppData\\Roaming\\Python\\Python37\\site-packages\\pyproj\\crs\\crs.py:280: FutureWarning: '+init=<authority>:<code>' syntax is deprecated. '<authority>:<code>' is the preferred initialization method. When making the change, be mindful of axis order changes: https://pyproj4.github.io/pyproj/stable/gotchas.html#axis-order-changes-in-proj-6\n",
      "  projstring = _prepare_from_string(projparams)\n"
     ]
    },
    {
     "name": "stdout",
     "output_type": "stream",
     "text": [
      "SQLalchemy is not installed. No support for SQL output.\n"
     ]
    }
   ],
   "source": [
    "import geopandas as gpd\n",
    "import pandas as pd\n",
    "import numpy as np\n",
    "\n",
    "work_path = r'../../../'\n",
    "quetzal_path = work_path + r'quetzal_santo_domingo/model/'\n",
    "\n",
    "plot_path = work_path + r'plot/scenarios/'\n",
    "import sys\n",
    "sys.path.insert(0, '../../../quetzal/')\n",
    "\n",
    "from quetzal.model import stepmodel"
   ]
  },
  {
   "cell_type": "code",
   "execution_count": 3,
   "metadata": {},
   "outputs": [],
   "source": [
    "from shapely import geometry"
   ]
  },
  {
   "cell_type": "code",
   "execution_count": 4,
   "metadata": {},
   "outputs": [
    {
     "name": "stderr",
     "output_type": "stream",
     "text": [
      "zones: 100%|███████████████████████████████████████████████████████████████████████████| 35/35 [00:44<00:00,  1.28s/it]\n"
     ]
    }
   ],
   "source": [
    "sm =  stepmodel.read_zip(quetzal_path + scenario +  '/assigned.zip')"
   ]
  },
  {
   "cell_type": "code",
   "execution_count": 5,
   "metadata": {},
   "outputs": [],
   "source": [
    "sm.volumes.loc[sm.volumes['origin'] == sm.volumes['destination'], ['car', 'nocar']] = 0 "
   ]
  },
  {
   "cell_type": "code",
   "execution_count": 6,
   "metadata": {},
   "outputs": [
    {
     "name": "stdout",
     "output_type": "stream",
     "text": [
      "['concho', 'gondola', 'subway', 'minibus', 'bus']\n"
     ]
    }
   ],
   "source": [
    "pt = list(sm.mode_nests.reset_index().set_index('root').loc['pt']['route_type'])\n",
    "print(pt)"
   ]
  },
  {
   "cell_type": "code",
   "execution_count": 7,
   "metadata": {},
   "outputs": [
    {
     "data": {
      "text/plain": [
       "<module 'quetzal.model.summarymodel' from '../../../quetzal\\\\quetzal\\\\model\\\\summarymodel.py'>"
      ]
     },
     "execution_count": 7,
     "metadata": {},
     "output_type": "execute_result"
    }
   ],
   "source": [
    "from imp import reload\n",
    "from quetzal.model import summarymodel\n",
    "reload(summarymodel)"
   ]
  },
  {
   "cell_type": "code",
   "execution_count": 8,
   "metadata": {
    "scrolled": true
   },
   "outputs": [],
   "source": [
    "sm.loaded_links = sm.links.copy()\n",
    "sm.summary_link_max(inplace=True)\n",
    "sm.summary_link_sum(inplace=True)\n",
    "sm.summary_path_sum(inplace=True, dense=True)\n",
    "sm.summary_path_average(inplace=True, dense=True)\n",
    "sm.summary_aggregated_path_average(inplace=True)\n",
    "sm.summary_earning(inplace=True, dense=True)"
   ]
  },
  {
   "cell_type": "code",
   "execution_count": 9,
   "metadata": {
    "scrolled": true
   },
   "outputs": [],
   "source": [
    "def od_stack(\n",
    "    self, \n",
    "    segments=['car', 'nocar'], \n",
    "    costs=['price', 'time', 'in_vehicle_time', 'in_vehicle_length', 'ntransfers']\n",
    "):\n",
    "    sm = self\n",
    "    los = pd.concat([sm.pt_los, sm.car_los])\n",
    "    los['mode'] = los['route_type']\n",
    "    los.loc[los['route_type'].isin(pt), 'mode'] = 'pt'\n",
    "\n",
    "    columns = []\n",
    "\n",
    "    los = pd.merge(\n",
    "        los, sm.volumes[['origin', 'destination'] +  segments], \n",
    "        on=['origin', 'destination'], suffixes=['_old', '']\n",
    "    )\n",
    "    \n",
    "\n",
    "    for segment in segments:\n",
    "        los[(segment, 'volume')] = los[(segment, 'probability')] * los[segment]\n",
    "\n",
    "\n",
    "    for segment in segments:\n",
    "        columns.append((segment, 'volume'))\n",
    "        for service in costs:\n",
    "            column = (segment, service)\n",
    "            columns.append(column)\n",
    "            los[column] = los[(segment, 'probability')] * los[service]\n",
    "\n",
    "    df = los.groupby(['origin', 'destination', 'mode'])[columns].sum()      \n",
    "    df.columns = pd.MultiIndex.from_tuples(df.columns)\n",
    "\n",
    "    # add root (weighted mean of segments)\n",
    "\n",
    "    df[('root', 'volume')] = sum([df[(segment, 'volume')].fillna(0) for segment in segments])\n",
    "\n",
    "    weighted_sum = sum(\n",
    "        [\n",
    "            df[segment][costs].apply(lambda s: s * df[(segment, 'volume')]).fillna(0)\n",
    "            for segment in segments\n",
    "        ]      \n",
    "    )\n",
    "\n",
    "    for c in costs: \n",
    "        df[('root', c)] = (weighted_sum[c] / df[('root', 'volume')]).fillna(0)\n",
    "\n",
    "    df.columns.names = 'segment', 'sum'\n",
    "    return df"
   ]
  },
  {
   "cell_type": "code",
   "execution_count": 10,
   "metadata": {},
   "outputs": [],
   "source": [
    "def municipio_stack(sm, *args, **kwargs):\n",
    "    df = od_stack(sm, *args, **kwargs)\n",
    "    right = sm.zones[['municipio']]\n",
    "    proto = df.stack('segment')\n",
    "    index_names = proto.index.names\n",
    "    left = proto.reset_index()\n",
    "    merged = pd.merge(left, right, left_on=['origin'], right_index=True\n",
    "                     ).set_index(index_names).reset_index('mode').reset_index(drop=True)\n",
    "\n",
    "    wm = lambda x: np.average(x, weights=merged.loc[x.index, 'volume'])\n",
    "    # Groupby and aggregate with your dictionary:\n",
    "    return merged.groupby(['municipio', 'mode']).agg(wm).stack()"
   ]
  },
  {
   "cell_type": "code",
   "execution_count": 11,
   "metadata": {
    "scrolled": true
   },
   "outputs": [],
   "source": [
    "sm.pt_los = sm.los.loc[sm.los['route_type'] != 'car']\n",
    "sm.car_los = sm.los.loc[sm.los['route_type'] == 'car']\n",
    "sm.stack_municipio = municipio_stack(sm)\n",
    "sm.stack_municipio.name = 'average'"
   ]
  },
  {
   "cell_type": "code",
   "execution_count": 12,
   "metadata": {},
   "outputs": [
    {
     "data": {
      "text/html": [
       "<div>\n",
       "<style scoped>\n",
       "    .dataframe tbody tr th:only-of-type {\n",
       "        vertical-align: middle;\n",
       "    }\n",
       "\n",
       "    .dataframe tbody tr th {\n",
       "        vertical-align: top;\n",
       "    }\n",
       "\n",
       "    .dataframe thead th {\n",
       "        text-align: right;\n",
       "    }\n",
       "</style>\n",
       "<table border=\"1\" class=\"dataframe\">\n",
       "  <thead>\n",
       "    <tr style=\"text-align: right;\">\n",
       "      <th></th>\n",
       "      <th></th>\n",
       "      <th>in_vehicle_length</th>\n",
       "      <th>in_vehicle_time</th>\n",
       "      <th>ntransfers</th>\n",
       "      <th>price</th>\n",
       "      <th>time</th>\n",
       "      <th>volume</th>\n",
       "    </tr>\n",
       "    <tr>\n",
       "      <th>municipio</th>\n",
       "      <th>mode</th>\n",
       "      <th></th>\n",
       "      <th></th>\n",
       "      <th></th>\n",
       "      <th></th>\n",
       "      <th></th>\n",
       "      <th></th>\n",
       "    </tr>\n",
       "  </thead>\n",
       "  <tbody>\n",
       "    <tr>\n",
       "      <th rowspan=\"2\" valign=\"top\">los alcarrizos</th>\n",
       "      <th>pt</th>\n",
       "      <td>8748.069365</td>\n",
       "      <td>2038.302426</td>\n",
       "      <td>0.752506</td>\n",
       "      <td>27.012260</td>\n",
       "      <td>4071.331936</td>\n",
       "      <td>130.297001</td>\n",
       "    </tr>\n",
       "    <tr>\n",
       "      <th>walk</th>\n",
       "      <td>0.000000</td>\n",
       "      <td>0.000000</td>\n",
       "      <td>0.000000</td>\n",
       "      <td>6.062261</td>\n",
       "      <td>482.063659</td>\n",
       "      <td>17.225997</td>\n",
       "    </tr>\n",
       "    <tr>\n",
       "      <th rowspan=\"2\" valign=\"top\">santo domingo de guzman</th>\n",
       "      <th>pt</th>\n",
       "      <td>3633.673316</td>\n",
       "      <td>858.897093</td>\n",
       "      <td>0.372876</td>\n",
       "      <td>22.100579</td>\n",
       "      <td>2218.113322</td>\n",
       "      <td>31.198137</td>\n",
       "    </tr>\n",
       "    <tr>\n",
       "      <th>walk</th>\n",
       "      <td>0.000000</td>\n",
       "      <td>0.000000</td>\n",
       "      <td>0.000000</td>\n",
       "      <td>3.590866</td>\n",
       "      <td>684.537179</td>\n",
       "      <td>62.828580</td>\n",
       "    </tr>\n",
       "    <tr>\n",
       "      <th rowspan=\"2\" valign=\"top\">santo domingo este</th>\n",
       "      <th>pt</th>\n",
       "      <td>6621.167191</td>\n",
       "      <td>1470.483045</td>\n",
       "      <td>0.584817</td>\n",
       "      <td>25.193066</td>\n",
       "      <td>3115.969018</td>\n",
       "      <td>26.430478</td>\n",
       "    </tr>\n",
       "    <tr>\n",
       "      <th>walk</th>\n",
       "      <td>0.000000</td>\n",
       "      <td>0.000000</td>\n",
       "      <td>0.000000</td>\n",
       "      <td>4.781399</td>\n",
       "      <td>821.542744</td>\n",
       "      <td>62.655024</td>\n",
       "    </tr>\n",
       "    <tr>\n",
       "      <th rowspan=\"2\" valign=\"top\">santo domingo norte</th>\n",
       "      <th>pt</th>\n",
       "      <td>6958.384305</td>\n",
       "      <td>1403.213219</td>\n",
       "      <td>0.746537</td>\n",
       "      <td>28.636696</td>\n",
       "      <td>3415.578126</td>\n",
       "      <td>154.421946</td>\n",
       "    </tr>\n",
       "    <tr>\n",
       "      <th>walk</th>\n",
       "      <td>0.000000</td>\n",
       "      <td>0.000000</td>\n",
       "      <td>0.000000</td>\n",
       "      <td>6.481755</td>\n",
       "      <td>389.189009</td>\n",
       "      <td>21.213592</td>\n",
       "    </tr>\n",
       "    <tr>\n",
       "      <th rowspan=\"2\" valign=\"top\">santo domingo oeste</th>\n",
       "      <th>pt</th>\n",
       "      <td>4393.139505</td>\n",
       "      <td>1072.844697</td>\n",
       "      <td>0.425241</td>\n",
       "      <td>22.339267</td>\n",
       "      <td>2518.821435</td>\n",
       "      <td>22.856374</td>\n",
       "    </tr>\n",
       "    <tr>\n",
       "      <th>walk</th>\n",
       "      <td>0.000000</td>\n",
       "      <td>0.000000</td>\n",
       "      <td>0.000000</td>\n",
       "      <td>2.485413</td>\n",
       "      <td>856.168129</td>\n",
       "      <td>96.606811</td>\n",
       "    </tr>\n",
       "  </tbody>\n",
       "</table>\n",
       "</div>"
      ],
      "text/plain": [
       "                              in_vehicle_length  in_vehicle_time  ntransfers  \\\n",
       "municipio               mode                                                   \n",
       "los alcarrizos          pt          8748.069365      2038.302426    0.752506   \n",
       "                        walk           0.000000         0.000000    0.000000   \n",
       "santo domingo de guzman pt          3633.673316       858.897093    0.372876   \n",
       "                        walk           0.000000         0.000000    0.000000   \n",
       "santo domingo este      pt          6621.167191      1470.483045    0.584817   \n",
       "                        walk           0.000000         0.000000    0.000000   \n",
       "santo domingo norte     pt          6958.384305      1403.213219    0.746537   \n",
       "                        walk           0.000000         0.000000    0.000000   \n",
       "santo domingo oeste     pt          4393.139505      1072.844697    0.425241   \n",
       "                        walk           0.000000         0.000000    0.000000   \n",
       "\n",
       "                                  price         time      volume  \n",
       "municipio               mode                                      \n",
       "los alcarrizos          pt    27.012260  4071.331936  130.297001  \n",
       "                        walk   6.062261   482.063659   17.225997  \n",
       "santo domingo de guzman pt    22.100579  2218.113322   31.198137  \n",
       "                        walk   3.590866   684.537179   62.828580  \n",
       "santo domingo este      pt    25.193066  3115.969018   26.430478  \n",
       "                        walk   4.781399   821.542744   62.655024  \n",
       "santo domingo norte     pt    28.636696  3415.578126  154.421946  \n",
       "                        walk   6.481755   389.189009   21.213592  \n",
       "santo domingo oeste     pt    22.339267  2518.821435   22.856374  \n",
       "                        walk   2.485413   856.168129   96.606811  "
      ]
     },
     "execution_count": 12,
     "metadata": {},
     "output_type": "execute_result"
    }
   ],
   "source": [
    "sm.stack_municipio.unstack()"
   ]
  },
  {
   "cell_type": "markdown",
   "metadata": {},
   "source": [
    "# Buffer"
   ]
  },
  {
   "cell_type": "code",
   "execution_count": 13,
   "metadata": {},
   "outputs": [],
   "source": [
    "def buffer_stack(sm, route_types=()):\n",
    "    sm = sm.copy()\n",
    "    r = range(1,11)\n",
    "    \n",
    "    heavy_nodes = set(sm.links.loc[sm.links['route_type'].isin(route_types)]['a'])\n",
    "    for b in r:\n",
    "        buffer = geometry.MultiPoint(list(sm.nodes.loc[heavy_nodes]['geometry'])).buffer(b * 100)\n",
    "\n",
    "        def in_buffer_ratio(geometry):\n",
    "            return (geometry.intersection(buffer).area) / geometry.area\n",
    "\n",
    "        sm.zones['ib' + str(b * 100)] = sm.zones['geometry'].apply(in_buffer_ratio)\n",
    "    right = sm.zones[['ib' + str(b * 100) for b in r]].apply(lambda c: c*sm.zones['pop'])\n",
    "    right.columns = [i * 100 for i in list(r)]\n",
    "    \n",
    "    tot = sm.zones['pop'].sum()\n",
    "    s = right.sum() / tot\n",
    "    s.name = 'ratio'\n",
    "    s.index.name = 'distance'\n",
    "    return s\n",
    "\n",
    "if True:\n",
    "    sm.stack_buffer = buffer_stack(sm, route_types=['subway', 'tram', 'express_bus', 'gondola'])"
   ]
  },
  {
   "cell_type": "code",
   "execution_count": 14,
   "metadata": {},
   "outputs": [],
   "source": [
    "sm.to_excel(quetzal_path + scenario + '/stacks.xlsx')"
   ]
  }
 ],
 "metadata": {
  "kernelspec": {
   "display_name": "Python [conda env:anaconda3-quetzal_env]",
   "language": "python",
   "name": "conda-env-anaconda3-quetzal_env-py"
  },
  "language_info": {
   "codemirror_mode": {
    "name": "ipython",
    "version": 3
   },
   "file_extension": ".py",
   "mimetype": "text/x-python",
   "name": "python",
   "nbconvert_exporter": "python",
   "pygments_lexer": "ipython3",
   "version": "3.7.5"
  }
 },
 "nbformat": 4,
 "nbformat_minor": 2
}
