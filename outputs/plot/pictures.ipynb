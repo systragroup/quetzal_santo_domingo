{
 "cells": [
  {
   "cell_type": "code",
   "execution_count": 1,
   "metadata": {
    "collapsed": true
   },
   "outputs": [],
   "source": [
    "import sys\n",
    "import PIL\n",
    "from PIL import Image\n",
    "import numpy as np\n",
    "work_path = r'../'\n",
    "plot_path = './'\n",
    "\n",
    "\n",
    "def hstack(image_list):\n",
    "    # pick the image which is the smallest, and resize the others to match it (can be arbitrary image shape here)\n",
    "    min_shape = sorted( [(np.sum(i.size), i.size ) for i in image_list])[0][1]\n",
    "    imgs_comb =  np.hstack( (np.asarray( i.resize(min_shape) ) for i in image_list) )\n",
    "    return PIL.Image.fromarray( imgs_comb)\n",
    "\n",
    "def vstack(image_list):\n",
    "    # pick the image which is the smallest, and resize the others to match it (can be arbitrary image shape here)\n",
    "    min_shape = sorted( [(np.sum(i.size), i.size ) for i in image_list])[0][1]\n",
    "    # for a vertical stacking it is simple: use vstack\n",
    "    imgs_comb = np.vstack( (np.asarray( i.resize(min_shape) ) for i in image_list ) )\n",
    "    return PIL.Image.fromarray( imgs_comb)\n",
    "\n",
    "def mstack(image_matrix, text_matrix=[]):\n",
    "    rows = [hstack(row) for row in image_matrix]\n",
    "    return vstack(rows)\n",
    "\n",
    "def combine_and_save(image_files, image_file, **kwargs):\n",
    "    image_matrix = [[PIL.Image.open(i) for i in row] for row in image_files]\n",
    "    image = mstack(image_matrix)\n",
    "    image.save(image_file)"
   ]
  },
  {
   "cell_type": "code",
   "execution_count": 2,
   "metadata": {
    "collapsed": true
   },
   "outputs": [],
   "source": [
    "import os\n",
    "\n",
    "def list_files(path, patterns):\n",
    "    files = [\n",
    "        os.path.join(path, file)\n",
    "        for file in os.listdir(path)\n",
    "        if file.split('.')[-1].lower() in patterns\n",
    "    ]\n",
    "    return files\n",
    "\n",
    "def clear_folder(path):\n",
    "    files = list_files(path, ['PNGw', 'pgw'])\n",
    "    for file in files:\n",
    "        os.remove(file)\n",
    "clear_folder(plot_path)"
   ]
  },
  {
   "cell_type": "markdown",
   "metadata": {},
   "source": [
    "# reestructuracion"
   ]
  },
  {
   "cell_type": "code",
   "execution_count": 3,
   "metadata": {
    "collapsed": true
   },
   "outputs": [],
   "source": [
    "matrixes = {}"
   ]
  },
  {
   "cell_type": "code",
   "execution_count": 4,
   "metadata": {
    "collapsed": true
   },
   "outputs": [],
   "source": [
    "matrixes['references'] = [\n",
    "    ['ref_30', 'sitp_30'],\n",
    "    [ 'integracion_parcial_30', 'ambicioso_sitp_30'],\n",
    "] \n"
   ]
  },
  {
   "cell_type": "code",
   "execution_count": 5,
   "metadata": {
    "collapsed": true
   },
   "outputs": [],
   "source": [
    "matrixes['evolucion'] = [\n",
    "    [ 'integracion_parcial_30', 'ambicioso_sitp_30'],\n",
    "    [ 'integracion_parcial_50', 'ambicioso_sitp_50']\n",
    "] "
   ]
  },
  {
   "cell_type": "code",
   "execution_count": 6,
   "metadata": {
    "collapsed": true
   },
   "outputs": [],
   "source": [
    "names = [\n",
    "    'car_share','car_share_among_car_owners',\n",
    "    'average_time_nocar','average_time_car', 'average_time_delta',\n",
    "    'loaded_total', 'loaded_car', 'loaded_pt', 'lines'\n",
    "]\n"
   ]
  },
  {
   "cell_type": "code",
   "execution_count": null,
   "metadata": {
    "collapsed": true
   },
   "outputs": [],
   "source": []
  },
  {
   "cell_type": "code",
   "execution_count": 7,
   "metadata": {
    "collapsed": true
   },
   "outputs": [],
   "source": [
    "if False:\n",
    "    matrixes['all'] = [\n",
    "        ['ref_18', 'ref_30','integracion_parcial_30'],\n",
    "        ['ambicioso_metro_30', 'ambicioso_total_30','ambicioso_sitp_30'],\n",
    "        ['integracion_parcial_sin_aumento_30', 'gasolina_30', 'peatonal_30']\n",
    "    ]\n",
    "    \n",
    "    matrixes['ambicioso'] = [\n",
    "        ['integracion_parcial_30', 'ambicioso_metro_30'],\n",
    "        ['ambicioso_total_30','ambicioso_sitp_30'],\n",
    "    ]\n",
    "\n",
    "    matrixes['elastacidad'] = [\n",
    "        ['integracion_parcial_30', 'integracion_parcial_sin_aumento_30'],\n",
    "        ['gasolina_30', 'peatonal_30'],\n",
    "    ]"
   ]
  },
  {
   "cell_type": "code",
   "execution_count": 8,
   "metadata": {},
   "outputs": [
    {
     "name": "stderr",
     "output_type": "stream",
     "text": [
      "100%|████████████████████████████████████████████████████████████████████████████████████| 9/9 [00:31<00:00,  4.45s/it]\n"
     ]
    }
   ],
   "source": [
    "from tqdm import tqdm\n",
    "for name in tqdm(names):\n",
    "    for key, matrix in matrixes.items():\n",
    "        pmatrix = [['%sdetail/%s_%s.png' % (plot_path,name, i) for i in row] for row in matrix]\n",
    "        combine_and_save(pmatrix, plot_path + name + '_' + key +'.png')"
   ]
  },
  {
   "cell_type": "code",
   "execution_count": null,
   "metadata": {
    "collapsed": true
   },
   "outputs": [],
   "source": []
  }
 ],
 "metadata": {
  "kernelspec": {
   "display_name": "Python 3",
   "language": "python",
   "name": "python3"
  },
  "language_info": {
   "codemirror_mode": {
    "name": "ipython",
    "version": 3
   },
   "file_extension": ".py",
   "mimetype": "text/x-python",
   "name": "python",
   "nbconvert_exporter": "python",
   "pygments_lexer": "ipython3",
   "version": "3.6.8"
  }
 },
 "nbformat": 4,
 "nbformat_minor": 2
}
